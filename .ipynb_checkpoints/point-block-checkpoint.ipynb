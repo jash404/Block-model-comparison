{
 "cells": [
  {
   "cell_type": "code",
   "execution_count": null,
   "metadata": {},
   "outputs": [],
   "source": [
    "#!/usr/bin/env python3.7\n",
    "# coding: utf-8"
   ]
  },
  {
   "cell_type": "markdown",
   "metadata": {},
   "source": [
    "In[1]:"
   ]
  },
  {
   "cell_type": "markdown",
   "metadata": {},
   "source": [
    "Imports for the Maptek Python SDK and additional libraries."
   ]
  },
  {
   "cell_type": "code",
   "execution_count": 51,
   "metadata": {
    "execution": {
     "iopub.execute_input": "2022-02-17T00:57:50.920092Z",
     "iopub.status.busy": "2022-02-17T00:57:50.920092Z",
     "iopub.status.idle": "2022-02-17T00:57:52.469033Z",
     "shell.execute_reply": "2022-02-17T00:57:52.469033Z",
     "shell.execute_reply.started": "2022-02-17T00:57:50.920092Z"
    },
    "tags": []
   },
   "outputs": [],
   "source": [
    "import collections\n",
    "import copy\n",
    "import ctypes\n",
    "import fractions\n",
    "import json\n",
    "import math\n",
    "import sys\n",
    "import time\n",
    "from collections import defaultdict\n",
    "from itertools import islice\n",
    "\n",
    "import matplotlib as mpl\n",
    "import matplotlib.colors as cc\n",
    "import matplotlib.pyplot as cm\n",
    "import numpy as np\n",
    "import pandas as pd\n",
    "import seaborn as sns\n",
    "from mapteksdk.data import (\n",
    "    DenseBlockModel,\n",
    "    GridSurface,\n",
    "    NumericColourMap,\n",
    "    SubblockedBlockModel,\n",
    "    Surface,\n",
    "    Text3D,\n",
    ")\n",
    "from mapteksdk.project import Project\n",
    "from matplotlib.ticker import PercentFormatter\n",
    "from matplotlib.widgets import Button, CheckButtons, RadioButtons\n",
    "from sklearn import metrics\n",
    "from sklearn.metrics import confusion_matrix\n",
    "from tqdm import tqdm_gui\n",
    "from tqdm.notebook import tqdm, trange\n",
    "\n",
    "# mpl.use('agg')\n",
    "\n",
    "\n",
    "cm.rcParams[\"font.family\"] = [\"Source Han Sans TW\", \"monospace\"]\n",
    "cm.rcParams[\"font.size\"] = 14\n",
    "\n",
    "# Connect to the currently running Maptek Project.\n",
    "\n",
    "project = Project()\n",
    "# project.mcp_instance.mcp_dict['PRODUCT_LOCATION_INFO']  # Report out which application it connected to (Optional)"
   ]
  },
  {
   "cell_type": "code",
   "execution_count": 61,
   "metadata": {
    "execution": {
     "iopub.execute_input": "2022-02-17T01:20:32.541685Z",
     "iopub.status.busy": "2022-02-17T01:20:32.540687Z",
     "iopub.status.idle": "2022-02-17T01:24:48.928970Z",
     "shell.execute_reply": "2022-02-17T01:24:48.928708Z",
     "shell.execute_reply.started": "2022-02-17T01:20:32.541685Z"
    },
    "tags": []
   },
   "outputs": [
    {
     "name": "stdin",
     "output_type": "stream",
     "text": [
      "Put in the exact location of PointSet you want to compare (ex:samples/PointSet ) :  scrapbook/3bhbmm_2019_cmp_entry_multi_combine\n"
     ]
    },
    {
     "name": "stdout",
     "output_type": "stream",
     "text": [
      "The name of the Block Model you have selected: Solid-big-w-small-parents-1 16-2-2022 10:22\n",
      "1300.0 525.0 935.0\n"
     ]
    },
    {
     "data": {
      "application/vnd.jupyter.widget-view+json": {
       "model_id": "4b89aae0b44f4771a1ad9e9b49fed147",
       "version_major": 2,
       "version_minor": 0
      },
      "text/plain": [
       "Progress:   0%|                                                         | 0/9882406 [00:00<?, ?it/s]"
      ]
     },
     "metadata": {},
     "output_type": "display_data"
    },
    {
     "name": "stdout",
     "output_type": "stream",
     "text": [
      "Number of parent blocks for this block model: 594048\n",
      "Calculating block extents....\n"
     ]
    },
    {
     "data": {
      "application/vnd.jupyter.widget-view+json": {
       "model_id": "357a89a942b945cab60dd70981ddaedb",
       "version_major": 2,
       "version_minor": 0
      },
      "text/plain": [
       "Progress:   0%|                                                         | 0/9882406 [00:00<?, ?it/s]"
      ]
     },
     "metadata": {},
     "output_type": "display_data"
    }
   ],
   "source": [
    "# In[2]:\n",
    "\n",
    "# Initialisation\n",
    "\n",
    "selected_model = None\n",
    "selected_var = \"\"\n",
    "colours = \"\"\n",
    "real_colours = []\n",
    "vis = \"\"\n",
    "# ****************Bool switches for certain features*****************************************************************\n",
    "vis_compiler = False\n",
    "point_checker = True\n",
    "# ********************************************************************************************************************\n",
    "names = []\n",
    "df = pd.DataFrame()\n",
    "selection = project.get_selected()\n",
    "last_opacity = 255\n",
    "\n",
    "global M\n",
    "M = len(selection)\n",
    "vis_collection = [0] * M\n",
    "var_collection = [0] * M\n",
    "index_map = [0] * M\n",
    "extents = [[] for _ in range(M)]\n",
    "# i tells you the index of the block_model\n",
    "i = 0\n",
    "j = 0\n",
    "\n",
    "for name_iterator in selection:\n",
    "    block_model_name = name_iterator.name\n",
    "    if (\n",
    "        name_iterator.is_a(DenseBlockModel) == False\n",
    "        and name_iterator.is_a(SubblockedBlockModel) == False\n",
    "    ):\n",
    "        print(\"Please select a Block Model to compare, Try Again.\")\n",
    "        time.sleep(3)\n",
    "        sys.exit()\n",
    "\n",
    "if len(selection) < 1:\n",
    "    print(\"Please select a Block Model to compare, Try Again.\")\n",
    "    time.sleep(3)\n",
    "    sys.exit()\n",
    "elif len(selection) > 1:\n",
    "    print(\"Please select only one Block Model to compare with the points, Try Again\")\n",
    "    time.sleep(3)\n",
    "    sys.exit()\n",
    "\n",
    "point_location = input(\n",
    "    \"Put in the exact location of PointSet you want to compare (ex:samples/PointSet ) : \"\n",
    ")\n",
    "\n",
    "# DATA GETTER\n",
    "\n",
    "for item in selection:\n",
    "    print(\"The name of the Block Model you have selected: \" + str(item.name))\n",
    "    # Setting outer array back to 0, for new block\n",
    "    j = 0\n",
    "    nn = 0\n",
    "    if item.is_a(DenseBlockModel) or item.is_a(SubblockedBlockModel):\n",
    "        selected_model = item\n",
    "        # Checker for point stuff\n",
    "        if point_checker:\n",
    "            # Getting all block details\n",
    "            with project.edit(selected_model) as bm:\n",
    "                block_sizes = bm.block_sizes\n",
    "                block_centroids = bm.block_centroids\n",
    "                b = bm.block_resolution\n",
    "                x_res = float(b[0])\n",
    "                y_res = float(b[1])\n",
    "                z_res = float(b[2])\n",
    "                x_count = bm.column_count\n",
    "                y_count = bm.row_count\n",
    "                z_count = bm.slice_count\n",
    "                totallength_x_dimension = x_res * x_count\n",
    "                totallength_y_dimension = y_res * y_count\n",
    "                totallength_z_dimension = z_res * z_count\n",
    "                print(\n",
    "                    totallength_x_dimension,\n",
    "                    totallength_y_dimension,\n",
    "                    totallength_z_dimension,\n",
    "                )\n",
    "                index_map[i] = bm.block_to_grid_index\n",
    "                # index_map[i] = index_map[i].tolist()\n",
    "                number_of_parent_blocks = len(np.unique(index_map[i], axis=0))\n",
    "                total_volume_of_block = number_of_parent_blocks * x_res * y_res * z_res\n",
    "                # ****************************************************************\n",
    "                # * This the better fast method.\n",
    "                temp_dict_for_storing = {}\n",
    "                for block, grid_index in tqdm(\n",
    "                    enumerate(index_map[i]),\n",
    "                    total=len(index_map[i]),\n",
    "                    desc=\"Progress\",\n",
    "                    ncols=100,\n",
    "                    ascii=True,\n",
    "                    position=0,\n",
    "                    leave=True,\n",
    "                ):\n",
    "                    # We want to use the grid_index as the dictionary key. It needs to\n",
    "                    # be converted to a tuple which can be hashed.\n",
    "                    # Also, the grid_index is returned from the SDK as a float array\n",
    "                    # which seems odd. So convert to an integer array as well.\n",
    "                    grid_index_tuple = tuple(grid_index.astype(int))\n",
    "                    if grid_index_tuple in temp_dict_for_storing:\n",
    "                        temp_dict_for_storing[grid_index_tuple].append(block)\n",
    "                    else:\n",
    "                        temp_dict_for_storing[grid_index_tuple] = [block]\n",
    "                print(\n",
    "                    \"Number of parent blocks for this block model: \"\n",
    "                    + str(len(temp_dict_for_storing))\n",
    "                )\n",
    "                reverse_grid_index = temp_dict_for_storing\n",
    "                # **********************************************************************************************\n",
    "                # Converting from world coordinates\n",
    "                block_centroids = bm.convert_to_block_coordinates(block_centroids)\n",
    "                block_centroids = block_centroids + 0.5 * np.array(\n",
    "                    [x_res, y_res, z_res]\n",
    "                )\n",
    "                # Getting sample point data for point to block comparison\n",
    "                with project.read(point_location) as points:\n",
    "                    # SDK method\n",
    "                    real_points = points.points\n",
    "                    point_visibility = points.point_visibility\n",
    "                    real_points = bm.convert_to_block_coordinates(real_points)\n",
    "                    real_points = real_points + (np.array([x_res, y_res, z_res]) / 2)\n",
    "                    point_collection = [0] * len(real_points)\n",
    "                    point_domains_names = points.point_attributes.names\n",
    "                    for dictionary in point_domains_names:\n",
    "                        if (\n",
    "                            json.loads(dictionary)[\"c\"] == \"Domain\"\n",
    "                            or json.loads(dictionary)[\"c\"] == \"domain\"\n",
    "                            or json.loads(dictionary)[\"c\"] == \"geocod\"\n",
    "                        ):\n",
    "                            point_domain_dict = str(dictionary)\n",
    "                    point_domains = points.point_attributes[point_domain_dict]\n",
    "                # *************************************************************************************************\n",
    "                # Brute-force method\n",
    "                print(\"Calculating block extents....\")\n",
    "                for nn, useless_var in tqdm(\n",
    "                    enumerate(block_centroids),\n",
    "                    total=len(block_centroids),\n",
    "                    desc=\"Progress\",\n",
    "                    ncols=100,\n",
    "                    ascii=True,\n",
    "                    position=0,\n",
    "                    leave=True,\n",
    "                ):\n",
    "                    # print(len(extents[0]))\n",
    "                    # print(len(extents[1]))\n",
    "                    extents[i].append(\n",
    "                        (\n",
    "                            [\n",
    "                                np.round((block_centroids[nn] - block_sizes[nn] / 2),6).tolist(),\n",
    "                                np.round((block_centroids[nn] + block_sizes[nn] / 2),6).tolist(),\n",
    "                            ]\n",
    "                        )\n",
    "                    )\n",
    "                # *************************************************************************************************\n",
    "                # # Checks all attributes of block and then chooses the one with discrete values\n",
    "                a_dict = bm.block_attributes.names\n",
    "                for key in a_dict:\n",
    "                    checker = bm.block_attributes[key]\n",
    "                    if isinstance(checker[0], (str, int)):\n",
    "                        selected_var = checker\n",
    "                        var_collection[i] = selected_var\n",
    "                vis = bm.block_visibility\n",
    "                vis_collection[i] = vis\n",
    "                i = i + 1"
   ]
  },
  {
   "cell_type": "markdown",
   "metadata": {},
   "source": [
    "POINT TO BLOCK/SUB-BLOCK COMPARISON"
   ]
  },
  {
   "cell_type": "code",
   "execution_count": 62,
   "metadata": {
    "execution": {
     "iopub.execute_input": "2022-02-17T01:24:48.929968Z",
     "iopub.status.busy": "2022-02-17T01:24:48.929968Z",
     "iopub.status.idle": "2022-02-17T01:24:52.147373Z",
     "shell.execute_reply": "2022-02-17T01:24:52.147230Z",
     "shell.execute_reply.started": "2022-02-17T01:24:48.929968Z"
    },
    "tags": []
   },
   "outputs": [
    {
     "data": {
      "application/vnd.jupyter.widget-view+json": {
       "model_id": "dd414937ecbc43b3950610fdaff22eee",
       "version_major": 2,
       "version_minor": 0
      },
      "text/plain": [
       "Progress:   0%|                                                          | 0/140632 [00:00<?, ?it/s]"
      ]
     },
     "metadata": {},
     "output_type": "display_data"
    }
   ],
   "source": [
    "point_pos1 = {}\n",
    "points_that_dont_match = []\n",
    "points_that_match = []\n",
    "domains_of_blocks = []\n",
    "outside_count = 0\n",
    "subblock_exists = 0\n",
    "outside_indices = []\n",
    "point_in_sublock = []\n",
    "lengths_of_subblock_indices = []\n",
    "test_array=[False]*len(real_points)\n",
    "number_of_checks_happening_per_block = []\n",
    "samplepoints_crawler = 0\n",
    "check = 0\n",
    "pointnotfound_in_indices_givenbygridindex = []\n",
    "with project.read(selected_model) as bm:\n",
    "    for samplepoints_crawler, samplepoints_value in tqdm(\n",
    "        enumerate(real_points),\n",
    "        total=len(real_points),\n",
    "        desc=\"Progress\",\n",
    "        ncols=100,\n",
    "        ascii=True,\n",
    "        position=0,\n",
    "        leave=True,\n",
    "    ):\n",
    "        c1 = math.floor(samplepoints_value[0] / x_res)\n",
    "        c2 = math.floor(samplepoints_value[1] / y_res)\n",
    "        c3 = math.floor(samplepoints_value[2] / z_res)\n",
    "\n",
    "        # if (0 <= c1 < x_count) and (0 <= c2 < y_count) and (0 <= c3 < z_count):\n",
    "        subblock_indices = reverse_grid_index.get((c1, c2, c3))\n",
    "        if (subblock_indices) is not None:\n",
    "            subblock_exists += 1\n",
    "            for ex in subblock_indices:\n",
    "                check += 1\n",
    "                if (\n",
    "                    (\n",
    "                        extents[0][ex][0][0]\n",
    "                        <= samplepoints_value[0]\n",
    "                        <= extents[0][ex][1][0]\n",
    "                    )\n",
    "                    and (\n",
    "                        extents[0][ex][0][1]\n",
    "                        <= samplepoints_value[1]\n",
    "                        <= extents[0][ex][1][1]\n",
    "                    )\n",
    "                    and (\n",
    "                        extents[0][ex][0][2]\n",
    "                        <= samplepoints_value[2]\n",
    "                        <= extents[0][ex][1][2]\n",
    "                    )\n",
    "                ):\n",
    "                    number_of_checks_happening_per_block.append(\n",
    "                        (check, samplepoints_crawler)\n",
    "                    )\n",
    "                    check = 0\n",
    "                    point_in_sublock.append(ex)\n",
    "                    point_pos1[samplepoints_crawler] = ex\n",
    "                    domains_of_blocks.append(selected_var[ex])\n",
    "                    break\n",
    "                elif check == len(subblock_indices):\n",
    "                    print(samplepoints_crawler)\n",
    "                    print(c1, c2, c3)\n",
    "                    print(subblock_indices)\n",
    "                    check = 0\n",
    "                    pointnotfound_in_indices_givenbygridindex.append(\n",
    "                        samplepoints_crawler\n",
    "                    )\n",
    "        else:\n",
    "            # print(c1, c2, c3)\n",
    "            \n",
    "            outside_count += 1\n",
    "            outside_indices.append(samplepoints_crawler)\n",
    "            continue"
   ]
  },
  {
   "cell_type": "code",
   "execution_count": 54,
   "metadata": {
    "execution": {
     "iopub.execute_input": "2022-02-17T01:03:26.756536Z",
     "iopub.status.busy": "2022-02-17T01:03:26.756536Z",
     "iopub.status.idle": "2022-02-17T01:03:26.987049Z",
     "shell.execute_reply": "2022-02-17T01:03:26.987049Z",
     "shell.execute_reply.started": "2022-02-17T01:03:26.756536Z"
    },
    "tags": []
   },
   "outputs": [],
   "source": [
    "point_to_be_deleted_before_check = outside_indices\n",
    "point_domains = [z.lower() for z in point_domains]\n",
    "point_domains_wo_outliers = []\n",
    "\n",
    "point_domains_wo_outliers = copy.deepcopy(point_domains)\n",
    "point_domains_wo_outliers = np.delete(\n",
    "    point_domains_wo_outliers, point_to_be_deleted_before_check\n",
    ")\n",
    "\n",
    "# This loop below is basically for finding how many blocks match or not, we are storing the indexes for<br>\n",
    "# getting their positions in the list where outsiders are already cut out\n",
    "\n",
    "for points_index, (x, y) in enumerate(\n",
    "    zip(point_domains_wo_outliers, domains_of_blocks)\n",
    "):\n",
    "    if x == y:\n",
    "        points_that_match.append(points_index)\n",
    "    else:\n",
    "        points_that_dont_match.append(points_index)\n",
    "\n",
    "# For getting positions of points which dont match with the blocks they are positioned in\n",
    "\n",
    "point_pos_which_dont_match = copy.deepcopy(list(point_pos1.values()))\n",
    "# Deleting all values which are matching, hencing leaving us with the positions where there is no matching\n",
    "# point_pos_which_dont_match = np.delete(point_pos_which_dont_match, points_that_match)"
   ]
  },
  {
   "cell_type": "code",
   "execution_count": 33,
   "metadata": {
    "execution": {
     "iopub.execute_input": "2022-02-16T23:30:05.917210Z",
     "iopub.status.busy": "2022-02-16T23:30:05.917210Z",
     "iopub.status.idle": "2022-02-16T23:30:05.930295Z",
     "shell.execute_reply": "2022-02-16T23:30:05.930295Z",
     "shell.execute_reply.started": "2022-02-16T23:30:05.917210Z"
    },
    "tags": []
   },
   "outputs": [
    {
     "data": {
      "text/plain": [
       "140626"
      ]
     },
     "execution_count": 33,
     "metadata": {},
     "output_type": "execute_result"
    }
   ],
   "source": [
    "len(point_pos1)"
   ]
  },
  {
   "cell_type": "code",
   "execution_count": 55,
   "metadata": {
    "execution": {
     "iopub.execute_input": "2022-02-17T01:03:33.274769Z",
     "iopub.status.busy": "2022-02-17T01:03:33.274769Z",
     "iopub.status.idle": "2022-02-17T01:03:33.283796Z",
     "shell.execute_reply": "2022-02-17T01:03:33.283796Z",
     "shell.execute_reply.started": "2022-02-17T01:03:33.274769Z"
    },
    "tags": []
   },
   "outputs": [
    {
     "name": "stdout",
     "output_type": "stream",
     "text": [
      "*******************\n",
      "*******************\n",
      "Number of points which do not match: 15201\n",
      "Number of points which match:: 125425\n",
      "**********************************************************\n"
     ]
    }
   ],
   "source": [
    "print(\"*******************\")\n",
    "print(\"*******************\")\n",
    "print(\"Number of points which do not match: \" + str(len(points_that_dont_match)))\n",
    "print(\"Number of points which match:: \" + str(len(points_that_match)))\n",
    "print(\"**********************************************************\")"
   ]
  },
  {
   "cell_type": "code",
   "execution_count": 56,
   "metadata": {
    "execution": {
     "iopub.execute_input": "2022-02-17T01:03:38.205885Z",
     "iopub.status.busy": "2022-02-17T01:03:38.205885Z",
     "iopub.status.idle": "2022-02-17T01:03:38.221868Z",
     "shell.execute_reply": "2022-02-17T01:03:38.221868Z",
     "shell.execute_reply.started": "2022-02-17T01:03:38.205885Z"
    },
    "tags": []
   },
   "outputs": [
    {
     "name": "stdout",
     "output_type": "stream",
     "text": [
      "Number of points which are outside the model: 6\n",
      "*******************\n"
     ]
    }
   ],
   "source": [
    "print(\"Number of points which are outside the model: \" + str(outside_count))\n",
    "print(\"*******************\")"
   ]
  },
  {
   "cell_type": "code",
   "execution_count": 57,
   "metadata": {
    "execution": {
     "iopub.execute_input": "2022-02-17T01:03:41.411961Z",
     "iopub.status.busy": "2022-02-17T01:03:41.411961Z",
     "iopub.status.idle": "2022-02-17T01:03:41.416947Z",
     "shell.execute_reply": "2022-02-17T01:03:41.416947Z",
     "shell.execute_reply.started": "2022-02-17T01:03:41.411961Z"
    },
    "tags": []
   },
   "outputs": [
    {
     "name": "stdout",
     "output_type": "stream",
     "text": [
      "*******************\n",
      "points not found inside block indices given by grid_index and their total number:\n",
      "[]\n",
      "0\n"
     ]
    }
   ],
   "source": [
    "print(\"*******************\")\n",
    "print(\n",
    "    \"points not found inside block indices given by grid_index and their total number:\"\n",
    ")\n",
    "print(pointnotfound_in_indices_givenbygridindex)\n",
    "print(len(pointnotfound_in_indices_givenbygridindex))"
   ]
  },
  {
   "cell_type": "code",
   "execution_count": 37,
   "metadata": {
    "execution": {
     "iopub.execute_input": "2022-02-16T23:30:32.826608Z",
     "iopub.status.busy": "2022-02-16T23:30:32.826608Z",
     "iopub.status.idle": "2022-02-16T23:30:32.830594Z",
     "shell.execute_reply": "2022-02-16T23:30:32.830594Z",
     "shell.execute_reply.started": "2022-02-16T23:30:32.826608Z"
    },
    "tags": []
   },
   "outputs": [
    {
     "data": {
      "text/plain": [
       "array([], dtype='<U3')"
      ]
     },
     "execution_count": 37,
     "metadata": {},
     "output_type": "execute_result"
    }
   ],
   "source": [
    "point_domains_wo_outliers[pointnotfound_in_indices_givenbygridindex]"
   ]
  },
  {
   "cell_type": "markdown",
   "metadata": {
    "tags": []
   },
   "source": [
    "STATISTICAL REPORT"
   ]
  },
  {
   "cell_type": "code",
   "execution_count": 58,
   "metadata": {
    "execution": {
     "iopub.execute_input": "2022-02-17T01:03:45.933003Z",
     "iopub.status.busy": "2022-02-17T01:03:45.933003Z",
     "iopub.status.idle": "2022-02-17T01:03:46.039724Z",
     "shell.execute_reply": "2022-02-17T01:03:46.039724Z",
     "shell.execute_reply.started": "2022-02-17T01:03:45.933003Z"
    },
    "tags": []
   },
   "outputs": [
    {
     "name": "stdout",
     "output_type": "stream",
     "text": [
      "From 140626 points (excluding 6 outliers, which were outside the block model) 125425 points were in the same block with the same domain hence having a match percentage of 89.19\n",
      "The number of unique points:140626\n",
      "The number of unique blocks:57024\n",
      "\n",
      "\n",
      "Domain distribution in SAMPLE:\n",
      "mr     54566\n",
      "bs     21005\n",
      "qs     15070\n",
      "s       7694\n",
      "q       7371\n",
      "gq      7319\n",
      "as      7051\n",
      "fq      5410\n",
      "ga      4497\n",
      "ms      3519\n",
      "p       1621\n",
      "gc      1284\n",
      "pg      1177\n",
      "a        712\n",
      "gs       620\n",
      "vq       543\n",
      "hcz      314\n",
      "mc       292\n",
      "g        259\n",
      "gg       194\n",
      "is        91\n",
      "ps         8\n",
      "wz         6\n",
      "o          2\n",
      "be         1\n",
      "Name: Points Domain, dtype: int64\n",
      "a: 0.51 %\n",
      "as: 5.01 %\n",
      "be: 0.0 %\n",
      "bs: 14.94 %\n",
      "fq: 3.85 %\n",
      "g: 0.18 %\n",
      "ga: 3.2 %\n",
      "gc: 0.91 %\n",
      "gg: 0.14 %\n",
      "gq: 5.2 %\n",
      "gs: 0.44 %\n",
      "hcz: 0.22 %\n",
      "is: 0.06 %\n",
      "mc: 0.21 %\n",
      "mr: 38.8 %\n",
      "ms: 2.5 %\n",
      "o: 0.0 %\n",
      "p: 1.15 %\n",
      "pg: 0.84 %\n",
      "ps: 0.01 %\n",
      "q: 5.24 %\n",
      "qs: 10.72 %\n",
      "s: 5.47 %\n",
      "vq: 0.39 %\n",
      "wz: 0.0 %\n",
      "\n",
      "\n",
      "Domain distribution in Solid-big-w-small-parents-1 16-2-2022 10:22:\n",
      "mr     57256\n",
      "bs     21905\n",
      "qs     15232\n",
      "s       7830\n",
      "as      7243\n",
      "q       7103\n",
      "gq      6397\n",
      "fq      4889\n",
      "ga      3703\n",
      "ms      2992\n",
      "gc      1237\n",
      "pg      1232\n",
      "p        925\n",
      "a        807\n",
      "gs       573\n",
      "hcz      352\n",
      "g        261\n",
      "vq       258\n",
      "gg       217\n",
      "mc       112\n",
      "is        89\n",
      "ps         7\n",
      "wz         6\n",
      "Name: Block Domains, dtype: int64\n",
      "a: 0.57 %\n",
      "as: 5.15 %\n",
      "bs: 15.58 %\n",
      "fq: 3.48 %\n",
      "g: 0.19 %\n",
      "ga: 2.63 %\n",
      "gc: 0.88 %\n",
      "gg: 0.15 %\n",
      "gq: 4.55 %\n",
      "gs: 0.41 %\n",
      "hcz: 0.25 %\n",
      "is: 0.06 %\n",
      "mc: 0.08 %\n",
      "mr: 40.72 %\n",
      "ms: 2.13 %\n",
      "p: 0.66 %\n",
      "pg: 0.88 %\n",
      "ps: 0.0 %\n",
      "q: 5.05 %\n",
      "qs: 10.83 %\n",
      "s: 5.57 %\n",
      "vq: 0.18 %\n",
      "wz: 0.0 %\n"
     ]
    }
   ],
   "source": [
    "df2 = pd.DataFrame()\n",
    "\n",
    "match_percentage = str(\n",
    "    round(((len(points_that_match) * 100) / len(point_domains_wo_outliers)), 2)\n",
    ")\n",
    "\n",
    "print(\n",
    "    \"From \"\n",
    "    + str(len(point_domains_wo_outliers))\n",
    "    + \" points (excluding \"\n",
    "    + str((outside_count))\n",
    "    + \" outliers, which were outside the block model) \"\n",
    "    + str(len(points_that_match))\n",
    "    + \" points were in the same block with the same domain\"\n",
    "    + \" hence having a match percentage of \"\n",
    "    + match_percentage\n",
    ")\n",
    "\n",
    "print(\"The number of unique points:\" + str(len(point_domains_wo_outliers)))\n",
    "print(\"The number of unique blocks:\" + str(len(set(list(point_pos1.values())))))\n",
    "\n",
    "# print(len(point_domains_wo_outliers))\n",
    "# print(len(domains_of_blocks))\n",
    "\n",
    "df2[\"Points Domain\"] = pd.Series(point_domains_wo_outliers)\n",
    "df2[\"Block Domains\"] = pd.Series(domains_of_blocks)\n",
    "\n",
    "print(1 * \"\\n\")\n",
    "print(\"Domain distribution in SAMPLE:\")\n",
    "\n",
    "(point_domain_names, domain_frequencies) = np.unique(\n",
    "    point_domains_wo_outliers, return_counts=True\n",
    ")\n",
    "(block_domain_names, block_domain_frequencies) = np.unique(\n",
    "    domains_of_blocks, return_counts=True\n",
    ")\n",
    "\n",
    "print(df2[\"Points Domain\"].value_counts())\n",
    "for x, y in zip(point_domain_names, domain_frequencies):\n",
    "    print(\n",
    "        str(x)\n",
    "        + \": \"\n",
    "        + str(round((y * 100) / (len(point_domains_wo_outliers)), 2))\n",
    "        + \" %\"\n",
    "    )\n",
    "\n",
    "print(1 * \"\\n\")\n",
    "print(\"Domain distribution in \" + str(block_model_name) + \":\")\n",
    "print(df2[\"Block Domains\"].value_counts())\n",
    "for x, y in zip(block_domain_names, block_domain_frequencies):\n",
    "    print(\n",
    "        str(x)\n",
    "        + \": \"\n",
    "        + str(round((y * 100) / (len(point_domains_wo_outliers)), 2))\n",
    "        + \" %\"\n",
    "    )"
   ]
  },
  {
   "cell_type": "code",
   "execution_count": 59,
   "metadata": {
    "execution": {
     "iopub.execute_input": "2022-02-17T01:04:28.445267Z",
     "iopub.status.busy": "2022-02-17T01:04:28.445267Z",
     "iopub.status.idle": "2022-02-17T01:04:35.103076Z",
     "shell.execute_reply": "2022-02-17T01:04:35.102060Z",
     "shell.execute_reply.started": "2022-02-17T01:04:28.445267Z"
    },
    "tags": []
   },
   "outputs": [
    {
     "name": "stdout",
     "output_type": "stream",
     "text": [
      "\n",
      "\n"
     ]
    },
    {
     "name": "stdin",
     "output_type": "stream",
     "text": [
      "Do you want to only see the blocks and points where the PointSet is not matching with the Block Model (Yes/No):  y\n"
     ]
    },
    {
     "name": "stdout",
     "output_type": "stream",
     "text": [
      "A new container called Filtered_block_and_points conatins the edited Model and Poinset\n",
      "140632\n",
      "[157, 158, 16093, 92264, 101841, 115086]\n",
      "140626\n",
      "140626\n"
     ]
    }
   ],
   "source": [
    "blockfilter = \"No\"\n",
    "print(1 * \"\\n\")\n",
    "blockfilter = input(\n",
    "    \"Do you want to only see the blocks and points where the PointSet is not matching with the Block Model (Yes/No): \"\n",
    ")\n",
    "\n",
    "if (blockfilter == \"Yes\") or (blockfilter == \"Y\") or (blockfilter == \"y\"):\n",
    "    blockfilter = \"Yes\"\n",
    "    print(\n",
    "        \"A new container called Filtered_block_and_points conatins the edited Model and Poinset\"\n",
    "    )\n",
    "    time.sleep(3)\n",
    "\n",
    "if blockfilter == \"Yes\":\n",
    "    project.new_visual_container(\"/\", \"Filtered_block_and_points\")\n",
    "    filtered_block = project.copy_object(\n",
    "        selected_model, \"Filtered_block_and_points/Filtered_Block\", overwrite=True\n",
    "    )\n",
    "    filtered_pointset = project.copy_object(\n",
    "        point_location, \"Filtered_block_and_points/Filtered_PointSet\", overwrite=True\n",
    "    )\n",
    "    # Only show BLOCKS which dont match their domain\n",
    "    block_array_of_visibility_created = []\n",
    "    with project.edit(filtered_block) as bm:\n",
    "        block_array_of_visibility = bm.block_visibility\n",
    "        block_array_of_visibility_created = [False] * len(block_array_of_visibility)\n",
    "        unique_blocks_which_contain_points_that_dont_match = set(\n",
    "            point_pos_which_dont_match\n",
    "        )\n",
    "        for values in unique_blocks_which_contain_points_that_dont_match:\n",
    "            block_array_of_visibility_created[values] = True\n",
    "        bm.block_visibility = block_array_of_visibility_created\n",
    "\n",
    "    # In[13]:\n",
    "\n",
    "    # Only show POINTS which dont match their domain\n",
    "    point_array_of_visibility_created = []\n",
    "    with project.edit(filtered_pointset) as points:\n",
    "        point_array_of_visibility = points.point_visibility\n",
    "        point_array_of_visibility_created = [False] * len(point_array_of_visibility)\n",
    "        print(len(point_array_of_visibility))\n",
    "        point_array_of_visibility_created_wo_outliers = copy.deepcopy(\n",
    "            point_array_of_visibility_created\n",
    "        )\n",
    "        point_array_of_visibility_created_wo_outliers = np.delete(\n",
    "            point_array_of_visibility_created_wo_outliers,\n",
    "            point_to_be_deleted_before_check,\n",
    "        )\n",
    "        print(point_to_be_deleted_before_check)\n",
    "        points.remove_points(point_to_be_deleted_before_check, update_immediately=True)\n",
    "        points.save()\n",
    "        print(len(points.point_visibility))\n",
    "        for values1 in points_that_dont_match:\n",
    "            point_array_of_visibility_created_wo_outliers[values1] = True\n",
    "        print(len(point_array_of_visibility_created_wo_outliers))\n",
    "        points.point_visibility = point_array_of_visibility_created_wo_outliers"
   ]
  },
  {
   "cell_type": "markdown",
   "metadata": {
    "tags": []
   },
   "source": [
    "<!-- with project.edit(point_location) as points:\n",
    "    with project.edit(selecated_model) as bm:\n",
    "        bm.block_visibility = vis\n",
    "        points.point_visibility = point_visibility -->"
   ]
  },
  {
   "cell_type": "markdown",
   "metadata": {},
   "source": [
    "CONFUSION MATRIX"
   ]
  },
  {
   "cell_type": "code",
   "execution_count": 22,
   "metadata": {
    "execution": {
     "iopub.execute_input": "2022-02-16T22:53:14.358745Z",
     "iopub.status.busy": "2022-02-16T22:53:14.358745Z",
     "iopub.status.idle": "2022-02-16T22:53:17.108323Z",
     "shell.execute_reply": "2022-02-16T22:53:17.108323Z",
     "shell.execute_reply.started": "2022-02-16T22:53:14.358745Z"
    },
    "tags": []
   },
   "outputs": [
    {
     "name": "stdout",
     "output_type": "stream",
     "text": [
      "\n",
      "\n"
     ]
    },
    {
     "name": "stdin",
     "output_type": "stream",
     "text": [
      "Insert N to see a confusion matrix of top N domains (Confusion matrix including all domains will be stored as Entire_Matrix.png):  7\n"
     ]
    },
    {
     "data": {
      "image/png": "[encoded data removed]",
      "text/plain": [
       "<Figure size 432x288 with 1 Axes>"
      ]
     },
     "metadata": {
      "needs_background": "light"
     },
     "output_type": "display_data"
    }
   ],
   "source": [
    "while True:\n",
    "    print(1 * \"\\n\")\n",
    "    number_to_restrict = input(\n",
    "        \"Insert N to see a confusion matrix of top N domains (Confusion matrix including all domains will be stored as Entire_Matrix.png): \"\n",
    "    )\n",
    "    try:\n",
    "        number_to_restrict = int(number_to_restrict)\n",
    "        if (\n",
    "            number_to_restrict < 0\n",
    "        ):  # if not a positive int print message and ask for input again\n",
    "            print(\"Sorry, input must be a positive integer, try again\")\n",
    "            continue\n",
    "        break\n",
    "    except ValueError:\n",
    "        print(\"That's not an integer, try again!\")\n",
    "\n",
    "# Feature to display first N elemnts only on confusion matrix\n",
    "\n",
    "sub0_domains_not_needed, sub0_domain_counts = np.unique(\n",
    "    point_domains_wo_outliers, return_counts=True\n",
    ")\n",
    "sub0_values = np.sort(np.asarray((sub0_domains_not_needed, sub0_domain_counts)).T)\n",
    "count_sort_ind = np.argsort(-sub0_domain_counts)\n",
    "sub0_domains_not_needed = list(\n",
    "    sub0_domains_not_needed[count_sort_ind[number_to_restrict:]]\n",
    ")\n",
    "\n",
    "sub1_domains_not_needed, sub1_domain_counts = np.unique(\n",
    "    domains_of_blocks, return_counts=True\n",
    ")\n",
    "sub1_values = np.sort(np.asarray((sub1_domains_not_needed, sub1_domain_counts)).T)\n",
    "count_sort_ind = np.argsort(-sub1_domain_counts)\n",
    "sub1_domains_not_needed = list(\n",
    "    sub1_domains_not_needed[count_sort_ind[number_to_restrict:]]\n",
    ")\n",
    "\n",
    "df2[\"point_domains_edited\"] = pd.Series(point_domains_wo_outliers)\n",
    "df2[\"point_domains_edited\"] = df2[\"point_domains_edited\"].replace(\n",
    "    sub0_domains_not_needed, \"others\"\n",
    ")\n",
    "df2[\"block_domains_edited\"] = pd.Series(domains_of_blocks)\n",
    "df2[\"block_domains_edited\"] = df2[\"block_domains_edited\"].replace(\n",
    "    sub1_domains_not_needed, \"others\"\n",
    ")\n",
    "\n",
    "# CONFUSION MATRIX FOR POINT TO BLOCK COMPARISON\n",
    "\n",
    "point_confusion_matrix = pd.crosstab(\n",
    "    df2[\"point_domains_edited\"],\n",
    "    df2[\"block_domains_edited\"],\n",
    "    rownames=[\"Points\"],\n",
    "    colnames=[block_model_name],\n",
    ")\n",
    "point_confusion_matrix = pd.DataFrame(point_confusion_matrix)\n",
    "\n",
    "mt = cm.figure(0)\n",
    "gn = sns.heatmap(\n",
    "    (point_confusion_matrix) / (np.sum(point_confusion_matrix)),\n",
    "    cbar_kws={},\n",
    "    annot=True,\n",
    "    fmt=\".2%\",\n",
    "    cmap=\"rocket_r\",\n",
    "    cbar=False,\n",
    "    xticklabels=True,\n",
    "    yticklabels=True,\n",
    ")\n",
    "\n",
    "cm.show()\n",
    "# Uncomment the lines below to generate a report.\n",
    "# print(\n",
    "#     metrics.classification_report(\n",
    "#         df[\"Points Domain\"], df[\"Block Domains\"], labels=colour_names, zero_division=1\n",
    "#     )\n",
    "# )"
   ]
  },
  {
   "cell_type": "markdown",
   "metadata": {},
   "source": [
    "CONFUSION MATRIX FOR POINT TO BLOCK COMPARISON"
   ]
  },
  {
   "cell_type": "code",
   "execution_count": 13,
   "metadata": {
    "execution": {
     "iopub.execute_input": "2022-02-14T03:59:47.200560Z",
     "iopub.status.busy": "2022-02-14T03:59:47.200560Z",
     "iopub.status.idle": "2022-02-14T03:59:47.527701Z",
     "shell.execute_reply": "2022-02-14T03:59:47.527701Z",
     "shell.execute_reply.started": "2022-02-14T03:59:47.200560Z"
    },
    "tags": []
   },
   "outputs": [
    {
     "data": {
      "image/png": "[encoded data removed]",
      "text/plain": [
       "<Figure size 1584x1584 with 1 Axes>"
      ]
     },
     "metadata": {
      "needs_background": "light"
     },
     "output_type": "display_data"
    }
   ],
   "source": [
    "point_confusion_matrix = pd.crosstab(\n",
    "    df2[\"Points Domain\"],\n",
    "    df2[\"Block Domains\"],\n",
    "    rownames=[\"Points\"],\n",
    "    colnames=[block_model_name],\n",
    ")\n",
    "point_confusion_matrix = pd.DataFrame(point_confusion_matrix)\n",
    "\n",
    "mt = cm.figure(0)\n",
    "gn = sns.heatmap(\n",
    "    (point_confusion_matrix) / (np.sum(point_confusion_matrix)),\n",
    "    cbar_kws={},\n",
    "    annot=True,\n",
    "    fmt=\".2%\",\n",
    "    cmap=\"rocket_r\",\n",
    "    cbar=False,\n",
    "    xticklabels=True,\n",
    "    yticklabels=True,\n",
    ")\n",
    "\n",
    "mt.set_size_inches(22, 22)\n",
    "mt.savefig(\"Entire_Matrix.png\", dpi=100)\n",
    "# Uncomment the lines below to generate a report.\n",
    "# print(\n",
    "#     metrics.classification_report(\n",
    "#         df[\"Points Domain\"], df[\"Block Domains\"], labels=colour_names, zero_division=1\n",
    "#     )\n",
    "# )"
   ]
  }
 ],
 "metadata": {
  "kernelspec": {
   "display_name": "Python 3 (ipykernel)",
   "language": "python",
   "name": "python3"
  },
  "language_info": {
   "codemirror_mode": {
    "name": "ipython",
    "version": 3
   },
   "file_extension": ".py",
   "mimetype": "text/x-python",
   "name": "python",
   "nbconvert_exporter": "python",
   "pygments_lexer": "ipython3",
   "version": "3.7.7"
  }
 },
 "nbformat": 4,
 "nbformat_minor": 4
}
