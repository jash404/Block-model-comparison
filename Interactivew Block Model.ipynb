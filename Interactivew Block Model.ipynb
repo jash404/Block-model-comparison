{
 "cells": [
  {
   "cell_type": "code",
   "execution_count": 1,
   "metadata": {
    "execution": {
     "iopub.execute_input": "2021-12-10T00:24:18.653042Z",
     "iopub.status.busy": "2021-12-10T00:24:18.653042Z",
     "iopub.status.idle": "2021-12-10T00:24:25.010529Z",
     "shell.execute_reply": "2021-12-10T00:24:25.010529Z",
     "shell.execute_reply.started": "2021-12-10T00:24:18.653042Z"
    },
    "tags": []
   },
   "outputs": [],
   "source": [
    "# Imports for the Maptek Python SDK and additional libraries.\n",
    "import time\n",
    "\n",
    "import matplotlib as mpl\n",
    "import matplotlib.colors as cc\n",
    "\n",
    "# mpl.use('agg')\n",
    "import matplotlib.pyplot as cm\n",
    "from mapteksdk.data import (\n",
    "    DenseBlockModel,\n",
    "    GridSurface,\n",
    "    NumericColourMap,\n",
    "    SubblockedBlockModel,\n",
    "    Surface,\n",
    "    Text3D,\n",
    ")\n",
    "from mapteksdk.project import Project\n",
    "from matplotlib.ticker import PercentFormatter\n",
    "from matplotlib.widgets import Button, CheckButtons, RadioButtons\n",
    "\n",
    "time.sleep(2)\n",
    "\n",
    "import ctypes\n",
    "import math\n",
    "\n",
    "import numpy as np\n",
    "import pandas as pd\n",
    "import seaborn as sns\n",
    "from sklearn import metrics\n",
    "from sklearn.metrics import confusion_matrix\n",
    "\n",
    "cm.rcParams[\"font.family\"] = [\"Source Han Sans TW\", \"monospace\"]\n",
    "cm.rcParams[\"font.size\"] = 14\n",
    "\n",
    "# Connect to the currently running Maptek Project.\n",
    "project = Project()\n",
    "# project.mcp_instance.mcp_dict['PRODUCT_LOCATION_INFO']  # Report out which application it connected to (Optional)"
   ]
  },
  {
   "cell_type": "code",
   "execution_count": 11,
   "metadata": {
    "execution": {
     "iopub.execute_input": "2021-12-10T03:33:09.883323Z",
     "iopub.status.busy": "2021-12-10T03:33:09.882325Z",
     "iopub.status.idle": "2021-12-10T03:33:12.527903Z",
     "shell.execute_reply": "2021-12-10T03:33:12.527903Z",
     "shell.execute_reply.started": "2021-12-10T03:33:09.883323Z"
    },
    "tags": []
   },
   "outputs": [
    {
     "name": "stdout",
     "output_type": "stream",
     "text": [
      "Point_proximity\n",
      "['OX' 'OX' 'OX' ... 'PR' 'PR' 'PR']\n",
      "dict_keys(['domain', 'sample_point_distance'])\n"
     ]
    }
   ],
   "source": [
    "time.sleep(2)\n",
    "\n",
    "# Initialisation\n",
    "selected_model = None\n",
    "selected_var = \"\"\n",
    "colours = \"\"\n",
    "real_colours = []\n",
    "vis = \"\"\n",
    "# ****************Bool swicthes for certain features*****************************************************************\n",
    "vis_compiler = True\n",
    "point_checker = True\n",
    "# ********************************************************************************************************************\n",
    "names = []\n",
    "df = pd.DataFrame()\n",
    "selection = project.get_selected()\n",
    "last_opacity = 255\n",
    "\n",
    "# For getting colours and the mapped names used in the model visualisation\n",
    "# np.set_printoptions(formatter={'float': lambda x: \"{0:0.3f}\".format(x)})\n",
    "with project.edit(\"legends/Domain\") as legend:\n",
    "    colours = legend.colours\n",
    "    colour_names = legend.legend\n",
    "    colour_names = [each_string.lower() for each_string in colour_names]\n",
    "# Getting hex values of the colours\n",
    "colours = colours / 255\n",
    "for z in range(0, len(colour_names), 1):\n",
    "    real_colours.append(cc.to_hex(colours[z], keep_alpha=True))\n",
    "\n",
    "# Creating the array for storing data to be retrieved\n",
    "N = len(colour_names)\n",
    "M = len(selection)\n",
    "values = [[0 for i in range(M)] for j in range(N)]\n",
    "vis_collection = [0] * M\n",
    "var_collection = [0] * M\n",
    "i = 0\n",
    "j = 0\n",
    "\n",
    "\n",
    "# DATA GETTER\n",
    "for item in selection:\n",
    "    print(item.name)\n",
    "    # Setting outer array back to 0, for new block\n",
    "    j = 0\n",
    "    if item.is_a(DenseBlockModel) or item.is_a(SubblockedBlockModel):\n",
    "        selected_model = item\n",
    "        with project.read(selected_model) as bm:\n",
    "            # Checker for point stuff\n",
    "            if point_checker:\n",
    "                # Getting all block details\n",
    "                block_sizes = bm.block_sizes\n",
    "                block_centroids = bm.block_centroids\n",
    "                # Converting from world coordinates\n",
    "                block_centroids = bm.convert_to_block_coordinates(block_centroids)\n",
    "                block_centroids = block_centroids + 0.5 * block_sizes[0]\n",
    "                # Getting sample point data for point to block comparison\n",
    "                with project.read(\"samples/res Intervals Table mid points\") as points:\n",
    "                    # SDK method\n",
    "                    real_points = points.points\n",
    "                    real_points = bm.convert_to_block_coordinates(real_points)\n",
    "                    real_points = real_points + 0.5 * block_sizes[0]\n",
    "                    point_collection=[0]*len(real_points)\n",
    "                    p_dict=points.point_attributes['{\"c\":\"Domain\",\"n\":[],\"s\":\"Point attribute (text)\",\"t\":\"Tstring\",\"u\":\"dimensionless\",\"v\":3}']\n",
    "                    print(p_dict)\n",
    "\n",
    "                    # # Brute-force method\n",
    "                    # extents = [[]] * len(selection)\n",
    "                    # print(\"Calculating block extents\")\n",
    "                    # for nn in range(0, len(block_centroids), 1):\n",
    "                    #     extents[i].append(\n",
    "                    #         np.array(\n",
    "                    #             [\n",
    "                    #                 block_centroids[nn] - block_sizes[nn] / 2,\n",
    "                    #                 block_centroids[nn] + block_sizes[nn] / 2,\n",
    "                    #             ]\n",
    "                    #         )\n",
    "                    #     )\n",
    "                    # extents = np.array(extents)\n",
    "                    # print(extents)\n",
    "#             #Checks all attributes of block and then chooses the one with discrete values\n",
    "            a_dict=bm.block_attributes.names\n",
    "            print(a_dict)\n",
    "# #             for key in a_dict:\n",
    "# #                 checker = bm.block_attributes[key]\n",
    "# #                 if isinstance(checker[0], (str, int)):\n",
    "# #                     selected_var=checker\n",
    "# #                     var_collection[i]=selected_var\n",
    "# #             vis=(bm.block_visibility)\n",
    "# #             vis_collection[i]=vis\n",
    "# #             for domain in colour_names:\n",
    "# #                 values[j][i]=np.count_nonzero(selected_var == domain)\n",
    "# #                 j=j+1\n",
    "# #             #Creating labels\n",
    "# #             names.append('Block'+str(i))\n",
    "# #             #For the confusion matrix\n",
    "# #             df['block'+str(i)]=pd.Series(selected_var)\n",
    "# #             i=i+1\n",
    "\n",
    "# # # Visibility filterer\n",
    "# # if vis_compiler:\n",
    "# #     visfinal=vis_collection[0]\n",
    "# #     for q in range(1, len(vis_collection), 1):\n",
    "# #         visfinal=visfinal & vis_collection[q]\n",
    "\n",
    "# #      # The statement below removes all values in selected_var which have a corresponding false value\n",
    "# #      # in the same index location in vis\n",
    "# #     for z in range(0, len(var_collection), 1):\n",
    "# #         var_collection[z] =np.array(var_collection[z])[visfinal]\n",
    "\n",
    "# #     for d in range(0, M, 1):\n",
    "# #          #For the confusion matrix\n",
    "# #         df['block'+str(d)]=pd.Series(var_collection[d])\n",
    "# #         for domain,k in zip(colour_names,range(0,len(colour_names),1)):\n",
    "# #             values[k][d]=np.count_nonzero(var_collection[d]== domain)\n",
    "# # #For the confusion matrix\n",
    "# # df.dropna(inplace=True)\n",
    "\n",
    "\n",
    "# # print(values)\n",
    "# # print(colour_names)\n",
    "# # # print(len(var_collection[1]))\n",
    "# # # print(df)"
   ]
  },
  {
   "cell_type": "code",
   "execution_count": null,
   "metadata": {
    "execution": {
     "iopub.execute_input": "2021-12-10T03:33:40.720367Z",
     "iopub.status.busy": "2021-12-10T03:33:40.720367Z"
    },
    "tags": []
   },
   "outputs": [],
   "source": [
    "point_pos1 = {}\n",
    "cx1 = 0\n",
    "for cx1 in range(0, len(real_points), 1):\n",
    "    c1 = math.floor(real_points[cx1][0] / block_sizes[cx1][0])\n",
    "    c2 = math.floor(real_points[cx1][1] / block_sizes[cx1][1])\n",
    "    c3 = math.floor(real_points[cx1][2] / block_sizes[cx1][2])\n",
    "    with project.read(selected_model) as bm:\n",
    "        index = bm.grid_index([c1, c2, c3])\n",
    "        try:\n",
    "            point_pos1[cx1] = np.where(index)[0][0]\n",
    "        except:\n",
    "            point_pos1[cx1] = 0\n",
    "            continue"
   ]
  },
  {
   "cell_type": "code",
   "execution_count": 9,
   "metadata": {
    "execution": {
     "iopub.execute_input": "2021-12-09T23:53:30.193213Z",
     "iopub.status.busy": "2021-12-09T23:53:30.193213Z",
     "iopub.status.idle": "2021-12-09T23:53:36.141564Z",
     "shell.execute_reply": "2021-12-09T23:53:36.140578Z",
     "shell.execute_reply.started": "2021-12-09T23:53:30.193213Z"
    },
    "tags": []
   },
   "outputs": [
    {
     "ename": "KeyboardInterrupt",
     "evalue": "",
     "output_type": "error",
     "traceback": [
      "\u001b[1;31m---------------------------------------------------------------------------\u001b[0m",
      "\u001b[1;31mKeyboardInterrupt\u001b[0m                         Traceback (most recent call last)",
      "\u001b[1;32mC:\\Users\\JASH~1.VIR\\AppData\\Local\\Temp/ipykernel_2216/999921777.py\u001b[0m in \u001b[0;36m<module>\u001b[1;34m\u001b[0m\n\u001b[0;32m      6\u001b[0m     \u001b[1;32mfor\u001b[0m \u001b[0mex\u001b[0m \u001b[1;32min\u001b[0m \u001b[0mrange\u001b[0m\u001b[1;33m(\u001b[0m\u001b[1;36m0\u001b[0m\u001b[1;33m,\u001b[0m \u001b[0mlen\u001b[0m\u001b[1;33m(\u001b[0m\u001b[0mblock_centroids\u001b[0m\u001b[1;33m)\u001b[0m\u001b[1;33m,\u001b[0m \u001b[1;36m1\u001b[0m\u001b[1;33m)\u001b[0m\u001b[1;33m:\u001b[0m\u001b[1;33m\u001b[0m\u001b[1;33m\u001b[0m\u001b[0m\n\u001b[0;32m      7\u001b[0m         if (\n\u001b[1;32m----> 8\u001b[1;33m             \u001b[1;33m(\u001b[0m\u001b[0mextents\u001b[0m\u001b[1;33m[\u001b[0m\u001b[1;36m0\u001b[0m\u001b[1;33m]\u001b[0m\u001b[1;33m[\u001b[0m\u001b[0mex\u001b[0m\u001b[1;33m]\u001b[0m\u001b[1;33m[\u001b[0m\u001b[1;36m0\u001b[0m\u001b[1;33m]\u001b[0m\u001b[1;33m[\u001b[0m\u001b[1;36m0\u001b[0m\u001b[1;33m]\u001b[0m \u001b[1;33m<\u001b[0m \u001b[0mreal_points\u001b[0m\u001b[1;33m[\u001b[0m\u001b[0mcx\u001b[0m\u001b[1;33m]\u001b[0m\u001b[1;33m[\u001b[0m\u001b[1;36m0\u001b[0m\u001b[1;33m]\u001b[0m \u001b[1;33m<=\u001b[0m \u001b[0mextents\u001b[0m\u001b[1;33m[\u001b[0m\u001b[1;36m0\u001b[0m\u001b[1;33m]\u001b[0m\u001b[1;33m[\u001b[0m\u001b[0mex\u001b[0m\u001b[1;33m]\u001b[0m\u001b[1;33m[\u001b[0m\u001b[1;36m1\u001b[0m\u001b[1;33m]\u001b[0m\u001b[1;33m[\u001b[0m\u001b[1;36m0\u001b[0m\u001b[1;33m]\u001b[0m\u001b[1;33m)\u001b[0m\u001b[1;33m\u001b[0m\u001b[1;33m\u001b[0m\u001b[0m\n\u001b[0m\u001b[0;32m      9\u001b[0m             \u001b[1;32mand\u001b[0m \u001b[1;33m(\u001b[0m\u001b[0mextents\u001b[0m\u001b[1;33m[\u001b[0m\u001b[1;36m0\u001b[0m\u001b[1;33m]\u001b[0m\u001b[1;33m[\u001b[0m\u001b[0mex\u001b[0m\u001b[1;33m]\u001b[0m\u001b[1;33m[\u001b[0m\u001b[1;36m0\u001b[0m\u001b[1;33m]\u001b[0m\u001b[1;33m[\u001b[0m\u001b[1;36m1\u001b[0m\u001b[1;33m]\u001b[0m \u001b[1;33m<\u001b[0m \u001b[0mreal_points\u001b[0m\u001b[1;33m[\u001b[0m\u001b[0mcx\u001b[0m\u001b[1;33m]\u001b[0m\u001b[1;33m[\u001b[0m\u001b[1;36m1\u001b[0m\u001b[1;33m]\u001b[0m \u001b[1;33m<=\u001b[0m \u001b[0mextents\u001b[0m\u001b[1;33m[\u001b[0m\u001b[1;36m0\u001b[0m\u001b[1;33m]\u001b[0m\u001b[1;33m[\u001b[0m\u001b[0mex\u001b[0m\u001b[1;33m]\u001b[0m\u001b[1;33m[\u001b[0m\u001b[1;36m1\u001b[0m\u001b[1;33m]\u001b[0m\u001b[1;33m[\u001b[0m\u001b[1;36m1\u001b[0m\u001b[1;33m]\u001b[0m\u001b[1;33m)\u001b[0m\u001b[1;33m\u001b[0m\u001b[1;33m\u001b[0m\u001b[0m\n\u001b[0;32m     10\u001b[0m             \u001b[1;32mand\u001b[0m \u001b[1;33m(\u001b[0m\u001b[0mextents\u001b[0m\u001b[1;33m[\u001b[0m\u001b[1;36m0\u001b[0m\u001b[1;33m]\u001b[0m\u001b[1;33m[\u001b[0m\u001b[0mex\u001b[0m\u001b[1;33m]\u001b[0m\u001b[1;33m[\u001b[0m\u001b[1;36m0\u001b[0m\u001b[1;33m]\u001b[0m\u001b[1;33m[\u001b[0m\u001b[1;36m2\u001b[0m\u001b[1;33m]\u001b[0m \u001b[1;33m<\u001b[0m \u001b[0mreal_points\u001b[0m\u001b[1;33m[\u001b[0m\u001b[0mcx\u001b[0m\u001b[1;33m]\u001b[0m\u001b[1;33m[\u001b[0m\u001b[1;36m2\u001b[0m\u001b[1;33m]\u001b[0m \u001b[1;33m<=\u001b[0m \u001b[0mextents\u001b[0m\u001b[1;33m[\u001b[0m\u001b[1;36m0\u001b[0m\u001b[1;33m]\u001b[0m\u001b[1;33m[\u001b[0m\u001b[0mex\u001b[0m\u001b[1;33m]\u001b[0m\u001b[1;33m[\u001b[0m\u001b[1;36m1\u001b[0m\u001b[1;33m]\u001b[0m\u001b[1;33m[\u001b[0m\u001b[1;36m2\u001b[0m\u001b[1;33m]\u001b[0m\u001b[1;33m)\u001b[0m\u001b[1;33m\u001b[0m\u001b[1;33m\u001b[0m\u001b[0m\n",
      "\u001b[1;31mKeyboardInterrupt\u001b[0m: "
     ]
    }
   ],
   "source": [
    "time.sleep(2)\n",
    "tr = 0\n",
    "point_pos = {}\n",
    "# THIS IS FOR TESTING ONLY, STILL HAVE TO TAKE ACCOUNT OF WHICH BLOCK MODEL WE ARE PARSING, IN THE CODE BELOW.\n",
    "for cx in range(0, 5, 1):\n",
    "    for ex in range(0, len(block_centroids), 1):\n",
    "        if (\n",
    "            (extents[0][ex][0][0] < real_points[cx][0] <= extents[0][ex][1][0])\n",
    "            and (extents[0][ex][0][1] < real_points[cx][1] <= extents[0][ex][1][1])\n",
    "            and (extents[0][ex][0][2] < real_points[cx][2] <= extents[0][ex][1][2])\n",
    "        ):\n",
    "            point_pos[cx] = ex\n",
    "            tr = tr + 1\n",
    "            break\n",
    "\n",
    "print(tr)\n",
    "print(point_pos)"
   ]
  },
  {
   "cell_type": "code",
   "execution_count": 147,
   "metadata": {
    "execution": {
     "iopub.execute_input": "2021-12-09T01:21:20.314577Z",
     "iopub.status.busy": "2021-12-09T01:21:20.314577Z",
     "iopub.status.idle": "2021-12-09T01:21:20.334512Z",
     "shell.execute_reply": "2021-12-09T01:21:20.334512Z",
     "shell.execute_reply.started": "2021-12-09T01:21:20.314577Z"
    },
    "tags": []
   },
   "outputs": [
    {
     "name": "stdout",
     "output_type": "stream",
     "text": [
      "FOR SDK:\n",
      "[array([ 62.25, 201.75, 120.75])]\n",
      "[array([ 62.25, 201.75, 119.25])]\n",
      "[array([ 62.25, 201.75, 117.75])]\n",
      "[array([ 60.75, 201.75, 117.75])]\n",
      "[array([ 60.75, 201.75, 116.25])]\n",
      "FOR BRUTE:\n",
      "[ 60.75 201.75 117.75]\n",
      "[ 59.25 201.75 116.25]\n",
      "FOR POINTS:\n",
      "[array([ 61.93328093, 201.06843549, 119.2869873 ])]\n",
      "[array([ 61.4332938 , 201.06484887, 118.42096189])]\n",
      "[array([ 60.93330666, 201.06126225, 117.55493649])]\n",
      "[array([ 60.43331953, 201.05767563, 116.68891109])]\n",
      "[array([ 59.93333239, 201.054089  , 115.82288568])]\n"
     ]
    }
   ],
   "source": [
    "print(\"FOR SDK:\")\n",
    "for c_sdk in range(0, 5, 1):\n",
    "    sdk = [block_centroids[point_pos1[c_sdk]]]\n",
    "    print(sdk)\n",
    "\n",
    "# for point in point_pos1:\n",
    "#     print(block_centroids[point])\n",
    "\n",
    "\n",
    "print(\"FOR BRUTE:\")\n",
    "print(block_centroids[point_pos[2]])\n",
    "print(block_centroids[point_pos[4]])\n",
    "# for c_brute in range(0,5,1):\n",
    "#     brute=([block_centroids[point_pos[c_brute]]])\n",
    "#     print(brute)\n",
    "\n",
    "print(\"FOR POINTS:\")\n",
    "for c_point in range(0, 5, 1):\n",
    "    pt = [real_points[c_point]]\n",
    "    print(pt)"
   ]
  },
  {
   "cell_type": "code",
   "execution_count": 30,
   "metadata": {
    "tags": []
   },
   "outputs": [
    {
     "data": {
      "image/png": "[encoded data removed]",
      "text/plain": [
       "<Figure size 432x288 with 2 Axes>"
      ]
     },
     "metadata": {
      "needs_background": "light"
     },
     "output_type": "display_data"
    },
    {
     "name": "stdout",
     "output_type": "stream",
     "text": [
      "              precision    recall  f1-score   support\n",
      "\n",
      "         cvt       1.00      1.00      1.00         0\n",
      "          ox       0.99      0.98      0.99    616777\n",
      "         pox       0.92      0.97      0.95    729311\n",
      "          pr       0.99      0.97      0.98   2431091\n",
      "  undomained       0.33      0.30      0.31       133\n",
      "\n",
      "   micro avg       0.98      0.98      0.98   3777312\n",
      "   macro avg       0.85      0.85      0.85   3777312\n",
      "weighted avg       0.98      0.98      0.98   3777312\n",
      "\n"
     ]
    }
   ],
   "source": [
    "# ****************CONFUSION MATRIX*****************************************************************\n",
    "confusion_matrix1 = pd.crosstab(\n",
    "    df[\"block0\"], df[\"block1\"], rownames=[\"Block0\"], colnames=[\"Block1\"]\n",
    ")\n",
    "confusion_matrix1 = pd.DataFrame(confusion_matrix1)\n",
    "\n",
    "# confusion_matrix2 = confusion_matrix(df['block0'], df['block1'])\n",
    "\n",
    "mt = cm.figure(0)\n",
    "gn = sns.heatmap(\n",
    "    (confusion_matrix1) / (np.sum(confusion_matrix1)),\n",
    "    cbar_kws={},\n",
    "    annot=True,\n",
    "    fmt=\".2%\",\n",
    "    cmap=\"crest\",\n",
    "    cbar=True,\n",
    ")\n",
    "\n",
    "# ***************************JUST DIFFERENT COLOURS, PLEASE IGNORE*****************************************************************\n",
    "# mt1=cm.figure(1)\n",
    "# gn=sns.heatmap((confusion_matrix1)/(np.sum(confusion_matrix1)),cbar_kws={},\\\n",
    "#             annot=True, fmt='.2%', cmap=\"YlGnBu\",cbar=True)\n",
    "# mt2=cm.figure(2)\n",
    "# gn=sns.heatmap((confusion_matrix1)/(np.sum(confusion_matrix1)),cbar_kws={},\\\n",
    "#             annot=True, fmt='.2%', cmap=\"rocket_r\",cbar=True)\n",
    "# mt3=cm.figure(3)\n",
    "# gn=sns.heatmap((confusion_matrix1)/(np.sum(confusion_matrix1)),cbar_kws={},\\\n",
    "#             annot=True, fmt='.2%', cmap=\"cubehelix_r\",cbar=True)\n",
    "# colorbar =gn.collections[0].colorbar\n",
    "# colorbar.set_ticks([0,20,40,60,80,100])\n",
    "# ^^^^^^^^^^^^^^^^^^^JUST DIFFERENT COLOURS, PLEASE IGNORE^^^^^^^^^^^^^^^^^^^^^^^^^^^^^^^^^^^^^^^^^^\n",
    "# mt1=cm.figure(1)\n",
    "# sns.heatmap(confusion_matrix2/np.sum(confusion_matrix2), annot=True, fmt=.2%', cbar=True,\\\n",
    "# cbar_kws={'format':PercentFormatter()}, cmap=\"Blues\")\n",
    "\n",
    "cm.show()\n",
    "# Uncomment the line below to generate a report.\n",
    "print(\n",
    "    metrics.classification_report(\n",
    "        df[\"block0\"], df[\"block1\"], labels=colour_names, zero_division=1\n",
    "    )\n",
    ")"
   ]
  },
  {
   "cell_type": "code",
   "execution_count": 38,
   "metadata": {
    "tags": []
   },
   "outputs": [
    {
     "data": {
      "image/png": "[encoded data removed]",
      "text/plain": [
       "<Figure size 1296x720 with 1 Axes>"
      ]
     },
     "metadata": {
      "needs_background": "light"
     },
     "output_type": "display_data"
    }
   ],
   "source": [
    "# *****************BAR PLOTS*****************************************************************\n",
    "ind = np.arange(M)\n",
    "width = 0.15\n",
    "bar_names = {}\n",
    "\n",
    "cm.figure(figsize=(18, 10))\n",
    "\n",
    "for y in range(0, len(colour_names), 1):\n",
    "    cm.bar(ind, values[y], width, color=real_colours[y], edgecolor=\"black\", log=True)\n",
    "    ind = ind + width\n",
    "\n",
    "cm.xlabel(\"Blocks\")\n",
    "cm.ylabel(\"Number\")\n",
    "cm.title(\"Block Model Comparison of Domains\")\n",
    "\n",
    "cm.xticks(ind - 3 * width, names)\n",
    "# cm.ticklabel_format(axis=\"y\",style=\"plain\")\n",
    "cm.legend(colour_names)\n",
    "cm.show()\n",
    "\n",
    "# *************************************************************************************************\n",
    "\n",
    "# seaborn stuff\n",
    "# sns.barplot(names, values)"
   ]
  },
  {
   "cell_type": "code",
   "execution_count": 41,
   "metadata": {
    "tags": []
   },
   "outputs": [
    {
     "data": {
      "image/png": "[encoded data removed]",
      "text/plain": [
       "<Figure size 432x288 with 1 Axes>"
      ]
     },
     "metadata": {
      "needs_background": "light"
     },
     "output_type": "display_data"
    },
    {
     "data": {
      "image/png": "[encoded data removed]",
      "text/plain": [
       "<Figure size 432x288 with 1 Axes>"
      ]
     },
     "metadata": {
      "needs_background": "light"
     },
     "output_type": "display_data"
    },
    {
     "data": {
      "image/png": "[encoded data removed]",
      "text/plain": [
       "<Figure size 432x288 with 1 Axes>"
      ]
     },
     "metadata": {
      "needs_background": "light"
     },
     "output_type": "display_data"
    },
    {
     "data": {
      "image/png": "[encoded data removed]",
      "text/plain": [
       "<Figure size 432x288 with 1 Axes>"
      ]
     },
     "metadata": {
      "needs_background": "light"
     },
     "output_type": "display_data"
    },
    {
     "data": {
      "image/png": "[encoded data removed]",
      "text/plain": [
       "<Figure size 432x288 with 1 Axes>"
      ]
     },
     "metadata": {
      "needs_background": "light"
     },
     "output_type": "display_data"
    }
   ],
   "source": [
    "# *****************BOX PLOTS*****************************************************************\n",
    "\n",
    "# This function sets up the properties of all plots\n",
    "def setter(bp, c):\n",
    "\n",
    "    for box in bp[\"boxes\"]:\n",
    "        box.set(color=\"#000000\", linewidth=2)\n",
    "        box.set(facecolor=c)\n",
    "\n",
    "    for whisker in bp[\"whiskers\"]:\n",
    "        whisker.set(color=\"#000000\", linewidth=2)\n",
    "\n",
    "    for cap in bp[\"caps\"]:\n",
    "        cap.set(color=\"#000000\", linewidth=2)\n",
    "\n",
    "    for median in bp[\"medians\"]:\n",
    "        median.set(color=\"#000000\", linewidth=2)\n",
    "\n",
    "    for flier in bp[\"fliers\"]:\n",
    "        flier.set(marker=\"D\", markerfacecolor=\"#000000\", alpha=1)\n",
    "\n",
    "\n",
    "# This function gets all the stats for the boxplots\n",
    "def get_box_plot_data(bp):\n",
    "    rows_list = []\n",
    "    for i in range(len(colour_names)):\n",
    "        dict1 = {}\n",
    "        dict1[\"label\"] = colour_names[i]\n",
    "        dict1[\"lower_whisker\"] = bp[\"whiskers\"][i * 2].get_ydata()[1]\n",
    "        dict1[\"lower_quartile\"] = bp[\"boxes\"][i].get_ydata()[1]\n",
    "        dict1[\"median\"] = bp[\"medians\"][i].get_ydata()[1]\n",
    "        dict1[\"upper_quartile\"] = bp[\"boxes\"][i].get_ydata()[2]\n",
    "        dict1[\"upper_whisker\"] = bp[\"whiskers\"][(i * 2) + 1].get_ydata()[1]\n",
    "        rows_list.append(dict1)\n",
    "\n",
    "    return pd.DataFrame(rows_list)\n",
    "\n",
    "\n",
    "boxplots = {}\n",
    "for y in range(0, len(colour_names), 1):\n",
    "    cm.figure()  # creates a figure\n",
    "    cm.ticklabel_format(axis=\"y\", style=\"plain\")\n",
    "    boxplots[\"bp{0}\".format(y)] = cm.boxplot(\n",
    "        values[y], patch_artist=True, labels=[colour_names[y]]\n",
    "    )\n",
    "    value_at_index = list(boxplots.values())[y]\n",
    "    setter(value_at_index, colours[y])\n",
    "\n",
    "cm.show()\n",
    "# print(boxplots)\n",
    "# for i in boxplots:\n",
    "#     get_box_plot_data(boxplots[i])"
   ]
  },
  {
   "cell_type": "code",
   "execution_count": null,
   "metadata": {},
   "outputs": [],
   "source": []
  }
 ],
 "metadata": {
  "interpreter": {
   "hash": "b21c45a975a7320c0b0a03f9304758b8484b0483352f2e6ff8719456374621e1"
  },
  "kernelspec": {
   "display_name": "Python 3 (ipykernel)",
   "language": "python",
   "name": "python3"
  },
  "language_info": {
   "codemirror_mode": {
    "name": "ipython",
    "version": 3
   },
   "file_extension": ".py",
   "mimetype": "text/x-python",
   "name": "python",
   "nbconvert_exporter": "python",
   "pygments_lexer": "ipython3",
   "version": "3.7.7"
  }
 },
 "nbformat": 4,
 "nbformat_minor": 4
}
