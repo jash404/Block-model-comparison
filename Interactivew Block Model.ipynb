{
 "cells": [
  {
   "cell_type": "code",
   "execution_count": 135,
   "metadata": {
    "execution": {
     "iopub.execute_input": "2022-01-11T06:42:24.581830Z",
     "iopub.status.busy": "2022-01-11T06:42:24.580835Z",
     "iopub.status.idle": "2022-01-11T06:42:26.108886Z",
     "shell.execute_reply": "2022-01-11T06:42:26.108886Z",
     "shell.execute_reply.started": "2022-01-11T06:42:24.581830Z"
    },
    "tags": []
   },
   "outputs": [],
   "source": [
    "# Imports for the Maptek Python SDK and additional libraries.\n",
    "import copy\n",
    "import ctypes\n",
    "import fractions\n",
    "import math\n",
    "import time\n",
    "import collections\n",
    "from collections import defaultdict\n",
    "from itertools import islice\n",
    "\n",
    "import matplotlib as mpl\n",
    "import matplotlib.colors as cc\n",
    "\n",
    "# mpl.use('agg')\n",
    "import matplotlib.pyplot as cm\n",
    "import numpy as np\n",
    "import pandas as pd\n",
    "import seaborn as sns\n",
    "from mapteksdk.data import (\n",
    "    DenseBlockModel,\n",
    "    GridSurface,\n",
    "    NumericColourMap,\n",
    "    SubblockedBlockModel,\n",
    "    Surface,\n",
    "    Text3D,\n",
    ")\n",
    "from mapteksdk.project import Project\n",
    "from matplotlib.ticker import PercentFormatter\n",
    "from matplotlib.widgets import Button, CheckButtons, RadioButtons\n",
    "from sklearn import metrics\n",
    "from sklearn.metrics import confusion_matrix\n",
    "from tqdm import tqdm_gui\n",
    "from tqdm.notebook import tqdm, trange\n",
    "\n",
    "cm.rcParams[\"font.family\"] = [\"Source Han Sans TW\", \"monospace\"]\n",
    "cm.rcParams[\"font.size\"] = 14\n",
    "\n",
    "# Connect to the currently running Maptek Project.\n",
    "project = Project()\n",
    "# project.mcp_instance.mcp_dict['PRODUCT_LOCATION_INFO']  # Report out which application it connected to (Optional)"
   ]
  },
  {
   "cell_type": "code",
   "execution_count": 150,
   "metadata": {
    "execution": {
     "iopub.execute_input": "2022-01-11T06:53:56.955804Z",
     "iopub.status.busy": "2022-01-11T06:53:56.954807Z",
     "iopub.status.idle": "2022-01-11T06:53:57.145506Z",
     "shell.execute_reply": "2022-01-11T06:53:57.145506Z",
     "shell.execute_reply.started": "2022-01-11T06:53:56.955804Z"
    },
    "tags": []
   },
   "outputs": [
    {
     "name": "stdout",
     "output_type": "stream",
     "text": [
      "Subblocked-200m 21-12-2021 14:24\n",
      "150.0\n",
      "Calculating block extents\n",
      "Subblocked-200m-new-one 10-1-2022 09:57\n",
      "150.0\n",
      "Calculating block extents\n"
     ]
    },
    {
     "name": "stderr",
     "output_type": "stream",
     "text": [
      "C:\\Program Files\\Maptek\\Extend\\Python 3.7\\lib\\site-packages\\ipykernel_launcher.py:131: DeprecationWarning: fractions.gcd() is deprecated. Use math.gcd() instead.\n"
     ]
    }
   ],
   "source": [
    "# Initialisation\n",
    "selected_model = None\n",
    "selected_var = \"\"\n",
    "colours = \"\"\n",
    "real_colours = []\n",
    "vis = \"\"\n",
    "# ****************Bool swicthes for certain features*****************************************************************\n",
    "vis_compiler = False\n",
    "point_checker = True\n",
    "# ********************************************************************************************************************\n",
    "names = []\n",
    "df = pd.DataFrame()\n",
    "selection = project.get_selected()\n",
    "last_opacity = 255\n",
    "\n",
    "# For getting colours and the mapped names used in the model visualisation\n",
    "# np.set_printoptions(formatter={'float': lambda x: \"{0:0.3f}\".format(x)})\n",
    "with project.edit(\"legends/Domain 2\") as legend:\n",
    "    colours = legend.colours\n",
    "    colour_names = legend.legend\n",
    "    colour_names = [each_string.lower() for each_string in colour_names]\n",
    "# Getting hex values of the colours\n",
    "colours = colours / 255\n",
    "for z in range(0, len(colour_names), 1):\n",
    "    real_colours.append(cc.to_hex(colours[z], keep_alpha=True))\n",
    "\n",
    "# Creating the array for storing data to be retrieved\n",
    "N = len(colour_names)\n",
    "global M \n",
    "M= len(selection)\n",
    "values = [[0 for i in range(M)] for j in range(N)]\n",
    "vis_collection = [0] * M\n",
    "var_collection = [0] * M\n",
    "index_map = [0] * M\n",
    "# i tells you the index of the block_model\n",
    "i = 0\n",
    "j = 0\n",
    "\n",
    "\n",
    "# DATA GETTER\n",
    "\n",
    "for item in selection:\n",
    "    print(item.name)\n",
    "    # Setting outer array back to 0, for new block\n",
    "    j = 0\n",
    "    if item.is_a(DenseBlockModel) or item.is_a(SubblockedBlockModel):\n",
    "        selected_model = item\n",
    "        # Checker for point stuff\n",
    "        if point_checker:\n",
    "            # Getting all block details\n",
    "            with project.edit(selected_model) as bm:\n",
    "\n",
    "                block_sizes = bm.block_sizes\n",
    "                block_centroids = bm.block_centroids\n",
    "                b = bm.block_resolution\n",
    "                x_res = float(b[0])\n",
    "                y_res = float(b[1])\n",
    "                z_res = float(b[2])\n",
    "\n",
    "                x_count = bm.column_count\n",
    "                y_count = bm.row_count\n",
    "                z_count = bm.slice_count\n",
    "\n",
    "                totallength_x_dimension = x_res * x_count\n",
    "                totallength_y_dimension = y_res * y_count\n",
    "                totallength_z_dimension = z_res * z_count\n",
    "                print(totallength_z_dimension)\n",
    "\n",
    "                index_map[i] = bm.block_to_grid_index\n",
    "                index_map[i] = index_map[i].tolist()\n",
    "                number_of_parent_blocks = len(np.unique(index_map[i], axis=0))\n",
    "                total_volume_of_block = number_of_parent_blocks * x_res * y_res * z_res\n",
    "\n",
    "                # Converting from world coordinates\n",
    "                block_centroids = bm.convert_to_block_coordinates(block_centroids)\n",
    "                block_centroids = block_centroids + 0.5 * np.array(\n",
    "                    [x_res, y_res, z_res]\n",
    "                )\n",
    "                # Getting sample point data for point to block comparison\n",
    "                point_location = \"samples/res Intervals Table mid points\"\n",
    "                with project.read(point_location) as points:\n",
    "                    # SDK method\n",
    "                    real_points = points.points\n",
    "                    point_visibility = points.point_visibility\n",
    "                    real_points = bm.convert_to_block_coordinates(real_points)\n",
    "                    real_points = real_points + 0.5 * np.array([x_res, y_res, z_res])\n",
    "                    point_collection = [0] * len(real_points)\n",
    "                    point_domains = points.point_attributes[\n",
    "                        '{\"c\":\"Domain\",\"n\":[],\"s\":\"Point attribute (text)\",\"t\":\"Tstring\",\"u\":\"dimensionless\",\"v\":3}'\n",
    "                    ]\n",
    "\n",
    "                # *************************************************************************************************\n",
    "                # Brute-force method\n",
    "                extents = [[]] * len(selection)\n",
    "                print(\"Calculating block extents\")\n",
    "                for nn in range(0, len(block_centroids), 1):\n",
    "                    extents[i].append(\n",
    "                        np.array(\n",
    "                            [\n",
    "                                block_centroids[nn] - block_sizes[nn] / 2,\n",
    "                                block_centroids[nn] + block_sizes[nn] / 2,\n",
    "                            ]\n",
    "                        )\n",
    "                    )\n",
    "                extents = np.array(extents)\n",
    "                # *************************************************************************************************\n",
    "                # # Checks all attributes of block and then chooses the one with discrete values\n",
    "                a_dict = bm.block_attributes.names\n",
    "                for key in a_dict:\n",
    "                    checker = bm.block_attributes[key]\n",
    "                    if isinstance(checker[0], (str, int)):\n",
    "                        selected_var = checker\n",
    "                        var_collection[i] = selected_var\n",
    "                vis = bm.block_visibility\n",
    "                vis_collection[i] = vis\n",
    "                for domain in colour_names:\n",
    "                    values[j][i] = np.count_nonzero(selected_var == domain)\n",
    "                    j = j + 1\n",
    "                # Creating labels\n",
    "                names.append(\"Block\" + str(i))\n",
    "                # For the confusion matrix\n",
    "                df[\"block\" + str(i)] = pd.Series(selected_var)\n",
    "                i = i + 1\n",
    "\n",
    "\n",
    "# Getting \"number of blocks\" and the cooridnates of all those blocks\n",
    "# in the subblock model created for subblock-subblock comparison\n",
    "# ###################################################################################################################\n",
    "x_for_created_subblock = math.gcd(25, 50)\n",
    "y_for_created_subblock = math.gcd(25, 50)\n",
    "z_for_created_subblock = fractions.gcd(75 / 8, 75 / 4)\n",
    "number_of_blocks_in_created_subblock_model = (total_volume_of_block) / (\n",
    "    x_for_created_subblock * y_for_created_subblock * z_for_created_subblock\n",
    ")\n",
    "\n",
    "new_subblock_count_x_direction = totallength_x_dimension / x_for_created_subblock\n",
    "new_subblock_count_y_direction = totallength_y_dimension / y_for_created_subblock\n",
    "new_subblock_count_z_direction = totallength_z_dimension / z_for_created_subblock\n",
    "\n",
    "new_x_centroid_coordinate = np.linspace(\n",
    "    x_for_created_subblock / 2,\n",
    "    (new_subblock_count_x_direction * x_for_created_subblock)\n",
    "    + x_for_created_subblock / 2,\n",
    "    int(new_subblock_count_x_direction),\n",
    "    endpoint=False,\n",
    ")\n",
    "\n",
    "new_y_centroid_coordinate = np.linspace(\n",
    "    y_for_created_subblock / 2,\n",
    "    (new_subblock_count_y_direction * y_for_created_subblock)\n",
    "    + y_for_created_subblock / 2,\n",
    "    int(new_subblock_count_y_direction),\n",
    "    endpoint=False,\n",
    ")\n",
    "\n",
    "new_z_centroid_coordinate = np.linspace(\n",
    "    z_for_created_subblock / 2,\n",
    "    (new_subblock_count_z_direction * z_for_created_subblock)\n",
    "    + z_for_created_subblock / 2,\n",
    "    int(new_subblock_count_z_direction),\n",
    "    endpoint=False,\n",
    ")\n",
    "\n",
    "\n",
    "all_new_x_coordinates, all_new_y_coordinates, all_new_z_coordinates = np.meshgrid(\n",
    "    new_x_centroid_coordinate,\n",
    "    new_y_centroid_coordinate,\n",
    "    new_z_centroid_coordinate,\n",
    "    indexing=\"ij\",\n",
    ")\n",
    "\n",
    "new_block_centroids = np.column_stack(\n",
    "    (\n",
    "        all_new_x_coordinates.flatten(),\n",
    "        all_new_y_coordinates.flatten(),\n",
    "        all_new_z_coordinates.flatten(),\n",
    "    )\n",
    ")\n",
    "\n",
    "# ###################################################################################################################\n",
    "\n",
    "# Visibility filterer\n",
    "if vis_compiler:\n",
    "    visfinal = vis_collection[0]\n",
    "    for q in range(1, len(vis_collection), 1):\n",
    "        visfinal = visfinal & vis_collection[q]\n",
    "\n",
    "    # The statement below removes all values in selected_var which have a corresponding false value\n",
    "    # in the same index location in vis\n",
    "    for z in range(0, len(var_collection), 1):\n",
    "        var_collection[z] = np.array(var_collection[z])[visfinal]\n",
    "\n",
    "    for d in range(0, M, 1):\n",
    "        # For the confusion matrix\n",
    "        df[\"block\" + str(d)] = pd.Series(var_collection[d])\n",
    "        for domain, k in zip(colour_names, range(0, len(colour_names), 1)):\n",
    "            values[k][d] = np.count_nonzero(var_collection[d] == domain)\n",
    "# For the confusion matrix\n",
    "\n",
    "df.dropna(inplace=True)"
   ]
  },
  {
   "cell_type": "code",
   "execution_count": 117,
   "metadata": {
    "execution": {
     "iopub.execute_input": "2022-01-11T06:06:34.231614Z",
     "iopub.status.busy": "2022-01-11T06:06:34.231614Z",
     "iopub.status.idle": "2022-01-11T06:06:34.238593Z",
     "shell.execute_reply": "2022-01-11T06:06:34.238593Z",
     "shell.execute_reply.started": "2022-01-11T06:06:34.231614Z"
    },
    "tags": []
   },
   "outputs": [
    {
     "data": {
      "text/plain": [
       "122"
      ]
     },
     "execution_count": 117,
     "metadata": {},
     "output_type": "execute_result"
    }
   ],
   "source": [
    "len(var_collection[0])"
   ]
  },
  {
   "cell_type": "code",
   "execution_count": 118,
   "metadata": {
    "execution": {
     "iopub.execute_input": "2022-01-11T06:06:39.725612Z",
     "iopub.status.busy": "2022-01-11T06:06:39.724636Z",
     "iopub.status.idle": "2022-01-11T06:06:39.733591Z",
     "shell.execute_reply": "2022-01-11T06:06:39.732621Z",
     "shell.execute_reply.started": "2022-01-11T06:06:39.725612Z"
    },
    "tags": []
   },
   "outputs": [
    {
     "name": "stdout",
     "output_type": "stream",
     "text": [
      "Number of parent blocks:\n",
      "8\n"
     ]
    }
   ],
   "source": [
    "unique_rows = np.unique(index_map, axis=0)\n",
    "print(\"Number of parent blocks:\")\n",
    "print(len(unique_rows))"
   ]
  },
  {
   "cell_type": "code",
   "execution_count": 159,
   "metadata": {
    "execution": {
     "iopub.execute_input": "2022-01-11T06:57:24.645673Z",
     "iopub.status.busy": "2022-01-11T06:57:24.645673Z",
     "iopub.status.idle": "2022-01-11T06:57:26.396105Z",
     "shell.execute_reply": "2022-01-11T06:57:26.391119Z",
     "shell.execute_reply.started": "2022-01-11T06:57:24.645673Z"
    },
    "tags": []
   },
   "outputs": [
    {
     "name": "stdout",
     "output_type": "stream",
     "text": [
      "0\n",
      "Subblocked-200m 21-12-2021 14:24\n"
     ]
    },
    {
     "data": {
      "application/vnd.jupyter.widget-view+json": {
       "model_id": "6e14242b328a4ff990a9cf6e526c718c",
       "version_major": 2,
       "version_minor": 0
      },
      "text/plain": [
       "Progress:   0%|                                                                                               …"
      ]
     },
     "metadata": {},
     "output_type": "display_data"
    },
    {
     "data": {
      "application/vnd.jupyter.widget-view+json": {
       "model_id": "ee842c957b4b49af9f769982f81f0c56",
       "version_major": 2,
       "version_minor": 0
      },
      "text/plain": [
       "Progress:   0%|                                                                                               …"
      ]
     },
     "metadata": {},
     "output_type": "display_data"
    },
    {
     "name": "stdout",
     "output_type": "stream",
     "text": [
      "184\n",
      "Subblocked-200m-new-one 10-1-2022 09:57\n"
     ]
    }
   ],
   "source": [
    "# SUB-BLOCK TO SUB-BLOCK COMPARISON\n",
    "created_centroid_pos_in_orignal_block = collections.defaultdict(\n",
    "    lambda: collections.defaultdict(dict)\n",
    ")\n",
    "domains_of_created_block_centroids = [[]]*M\n",
    "lengths_of_subblock_indices_for_orignal_block = [[]]*M\n",
    "subblock_exists_for_orignal_block = 0\n",
    "\n",
    "for block_model_index, item in enumerate(selection):\n",
    "    print(len(domains_of_created_block_centroids[1]))\n",
    "    selected_model = item\n",
    "    print(item.name)\n",
    "    if item.is_a(DenseBlockModel) or item.is_a(SubblockedBlockModel):\n",
    "        with project.edit(selected_model) as bm:\n",
    "            for created_block_crawler, created_block_value in tqdm(\n",
    "                enumerate(new_block_centroids),\n",
    "                total=len(new_block_centroids),\n",
    "                desc=\"Progress\",\n",
    "                ncols=500,\n",
    "                ascii=\"**\",\n",
    "            ):\n",
    "                index_x_of_created_centroid = math.floor(created_block_value[0] / x_res)\n",
    "                index_y_of_created_centroid = math.floor(created_block_value[1] / y_res)\n",
    "                index_z_of_created_centroid = math.floor(created_block_value[2] / z_res)\n",
    "\n",
    "                index_of_created_centroid = index_map[block_model_index].index(\n",
    "                    [\n",
    "                        index_x_of_created_centroid,\n",
    "                        index_y_of_created_centroid,\n",
    "                        index_z_of_created_centroid,\n",
    "                    ]\n",
    "                )\n",
    "                # print(index)\n",
    "                subblock_check_for_orignal_block = bm.grid_index(\n",
    "                    [\n",
    "                        index_x_of_created_centroid,\n",
    "                        index_y_of_created_centroid,\n",
    "                        index_z_of_created_centroid,\n",
    "                    ]\n",
    "                )\n",
    "                # print(subblock_check)\n",
    "                subblock_indices_for_orignal_block = []\n",
    "                subblock_indices_for_orignal_block = np.where(\n",
    "                    subblock_check_for_orignal_block\n",
    "                )[0]\n",
    "                # print(subblock_indices)\n",
    "                lengths_of_subblock_indices_for_orignal_block[block_model_index].append(\n",
    "                    (len(subblock_indices_for_orignal_block), created_block_crawler)\n",
    "                )\n",
    "                if len(subblock_indices_for_orignal_block) > 0:\n",
    "                    subblock_exists_for_orignal_block += 1\n",
    "                    for subblock_crawler in subblock_indices_for_orignal_block:\n",
    "                        if (\n",
    "                            (\n",
    "                                extents[block_model_index][subblock_crawler][0][0]\n",
    "                                <= created_block_value[0]\n",
    "                                <= extents[block_model_index][subblock_crawler][1][0]\n",
    "                            )\n",
    "                            and (\n",
    "                                extents[block_model_index][subblock_crawler][0][1]\n",
    "                                <= created_block_value[1]\n",
    "                                <= extents[block_model_index][subblock_crawler][1][1]\n",
    "                            )\n",
    "                            and (\n",
    "                                extents[block_model_index][subblock_crawler][0][2]\n",
    "                                <= created_block_value[2]\n",
    "                                <= extents[block_model_index][subblock_crawler][1][2]\n",
    "                            )\n",
    "                        ):\n",
    "\n",
    "                            created_centroid_pos_in_orignal_block[block_model_index][\n",
    "                                created_block_crawler\n",
    "                            ] = subblock_crawler\n",
    "                            domains_of_created_block_centroids[\n",
    "                                block_model_index\n",
    "                            ].append(\n",
    "                                var_collection[block_model_index][subblock_crawler]\n",
    "                            )\n",
    "                            break"
   ]
  },
  {
   "cell_type": "code",
   "execution_count": 157,
   "metadata": {
    "execution": {
     "iopub.execute_input": "2022-01-11T06:56:25.935461Z",
     "iopub.status.busy": "2022-01-11T06:56:25.934464Z",
     "iopub.status.idle": "2022-01-11T06:56:25.957404Z",
     "shell.execute_reply": "2022-01-11T06:56:25.954412Z",
     "shell.execute_reply.started": "2022-01-11T06:56:25.935461Z"
    },
    "tags": []
   },
   "outputs": [
    {
     "data": {
      "text/plain": [
       "4280"
      ]
     },
     "execution_count": 157,
     "metadata": {},
     "output_type": "execute_result"
    }
   ],
   "source": [
    "len(domains_of_created_block_centroids[0])"
   ]
  },
  {
   "cell_type": "code",
   "execution_count": 125,
   "metadata": {
    "execution": {
     "iopub.execute_input": "2022-01-11T06:20:34.154176Z",
     "iopub.status.busy": "2022-01-11T06:20:34.154176Z",
     "iopub.status.idle": "2022-01-11T06:20:35.716014Z",
     "shell.execute_reply": "2022-01-11T06:20:35.716014Z",
     "shell.execute_reply.started": "2022-01-11T06:20:34.154176Z"
    },
    "tags": []
   },
   "outputs": [
    {
     "data": {
      "application/vnd.jupyter.widget-view+json": {
       "model_id": "b646ee2569a4400b92adfb14ee197e49",
       "version_major": 2,
       "version_minor": 0
      },
      "text/plain": [
       "Progress:   0%|                                                                                               …"
      ]
     },
     "metadata": {},
     "output_type": "display_data"
    },
    {
     "name": "stdout",
     "output_type": "stream",
     "text": [
      "*******************\n",
      "*******************\n",
      "Number of points which do not match: 749\n",
      "Number of points which match:: 3098\n",
      "**********************************************************\n",
      "outside_count: 0\n",
      "*******************\n",
      "*******************\n",
      "points not found inside block indices given by grid_index and their total number:\n",
      "[]\n",
      "0\n"
     ]
    }
   ],
   "source": [
    "# POINT TO BLOCK/SUB-BLOCK COMPARISON\n",
    "point_pos1 = {}\n",
    "points_that_dont_match = []\n",
    "points_that_match = []\n",
    "domains_of_blocks = []\n",
    "outside_count = 0\n",
    "subblock_exists = 0\n",
    "outside_indices = []\n",
    "point_in_sublock = []\n",
    "lengths_of_subblock_indices = []\n",
    "number_of_checks_happening_per_block = []\n",
    "samplepoints_crawler = 0\n",
    "check = 0\n",
    "pointnotfound_in_indices_givenbygridindex = []\n",
    "with project.read(selected_model) as bm:\n",
    "    for samplepoints_crawler, samplepoints_value in tqdm(\n",
    "        enumerate(real_points),\n",
    "        total=len(real_points),\n",
    "        desc=\"Progress\",\n",
    "        ncols=500,\n",
    "        ascii=\"**\",\n",
    "    ):\n",
    "        c1 = math.floor(samplepoints_value[0] / x_res)\n",
    "        c2 = math.floor(samplepoints_value[1] / y_res)\n",
    "        c3 = math.floor(samplepoints_value[2] / z_res)\n",
    "\n",
    "        if (0 <= c1 < x_count) and (0 <= c2 < y_count) and (0 <= c3 < z_count):\n",
    "            index = index_map[0].index([c1, c2, c3])\n",
    "            # print(index)\n",
    "            subblock_check = bm.grid_index([c1, c2, c3])\n",
    "            # print(subblock_check)\n",
    "            subblock_indices = []\n",
    "            subblock_indices = np.where(subblock_check)[0]\n",
    "            # print(subblock_indices)\n",
    "            lengths_of_subblock_indices.append(\n",
    "                (len(subblock_indices), samplepoints_crawler)\n",
    "            )\n",
    "            if len(subblock_indices) > 0:\n",
    "                subblock_exists += 1\n",
    "                for ex in subblock_indices:\n",
    "                    check += 1\n",
    "                    if (\n",
    "                        (\n",
    "                            extents[0][ex][0][0]\n",
    "                            <= samplepoints_value[0]\n",
    "                            <= extents[0][ex][1][0]\n",
    "                        )\n",
    "                        and (\n",
    "                            extents[0][ex][0][1]\n",
    "                            <= samplepoints_value[1]\n",
    "                            <= extents[0][ex][1][1]\n",
    "                        )\n",
    "                        and (\n",
    "                            extents[0][ex][0][2]\n",
    "                            <= samplepoints_value[2]\n",
    "                            <= extents[0][ex][1][2]\n",
    "                        )\n",
    "                    ):\n",
    "\n",
    "                        number_of_checks_happening_per_block.append(\n",
    "                            (check, samplepoints_crawler)\n",
    "                        )\n",
    "                        check = 0\n",
    "                        point_in_sublock.append(ex)\n",
    "                        point_pos1[samplepoints_crawler] = ex\n",
    "                        domains_of_blocks.append(selected_var[ex])\n",
    "                        break\n",
    "                    elif check == len(subblock_indices):\n",
    "                        check = 0\n",
    "                        pointnotfound_in_indices_givenbygridindex.append(\n",
    "                            samplepoints_crawler\n",
    "                        )\n",
    "        else:\n",
    "            # print(c1, c2, c3)\n",
    "            outside_count += 1\n",
    "            outside_indices.append(samplepoints_crawler)\n",
    "            continue\n",
    "\n",
    "\n",
    "point_to_be_deleted_before_check = outside_indices\n",
    "point_domains = [z.lower() for z in point_domains]\n",
    "point_domains_wo_outliers = []\n",
    "point_domains_wo_outliers = copy.deepcopy(point_domains)\n",
    "# print(len(point_to_be_deleted_before_check))\n",
    "# print((point_to_be_deleted_before_check)   )\n",
    "\n",
    "point_domains_wo_outliers = np.delete(\n",
    "    point_domains_wo_outliers, point_to_be_deleted_before_check\n",
    ")\n",
    "\n",
    "# This loop below is basically for findind how many blocks match or not, we are storing the indexes for\n",
    "# getting their positions in the list where outsiders are already cut out\n",
    "for points_index, (x, y) in enumerate(\n",
    "    zip(point_domains_wo_outliers, domains_of_blocks)\n",
    "):\n",
    "    if x == y:\n",
    "        points_that_match.append(points_index)\n",
    "    else:\n",
    "        points_that_dont_match.append(points_index)\n",
    "\n",
    "# For getting positions of points which dont match with the blocks they are positioned in\n",
    "point_pos_which_dont_match = copy.deepcopy(list(point_pos1.values()))\n",
    "# Deleting all values which are matching, hencing leaving us with the positions where there is no matching\n",
    "point_pos_which_dont_match = np.delete(point_pos_which_dont_match, points_that_match)\n",
    "\n",
    "\n",
    "print(\"*******************\")\n",
    "print(\"*******************\")\n",
    "print(\"Number of points which do not match: \" + str(len(points_that_dont_match)))\n",
    "print(\"Number of points which match:: \" + str(len(points_that_match)))\n",
    "print(\"**********************************************************\")\n",
    "\n",
    "# print(len(point_domains_wo_outliers))\n",
    "# print(len(domains_of_blocks))\n",
    "# print(\"Blocks found: \" + str(subblock_exists))\n",
    "print(\"outside_count: \" + str(outside_count))\n",
    "print(\"*******************\")\n",
    "\n",
    "# print(point_domains_wo_outliers[:20])\n",
    "# print(domains_of_blocks)\n",
    "print(\"*******************\")\n",
    "print(\n",
    "    \"points not found inside block indices given by grid_index and their total number:\"\n",
    ")\n",
    "print(pointnotfound_in_indices_givenbygridindex)\n",
    "print(len(pointnotfound_in_indices_givenbygridindex))"
   ]
  },
  {
   "cell_type": "code",
   "execution_count": 12,
   "metadata": {
    "execution": {
     "iopub.execute_input": "2022-01-09T23:14:28.302034Z",
     "iopub.status.busy": "2022-01-09T23:14:28.301037Z",
     "iopub.status.idle": "2022-01-09T23:14:28.316019Z",
     "shell.execute_reply": "2022-01-09T23:14:28.316019Z",
     "shell.execute_reply.started": "2022-01-09T23:14:28.302034Z"
    },
    "tags": []
   },
   "outputs": [],
   "source": [
    "# Only show BLOCKS which dont match their domain\n",
    "block_array_of_visibility_created = []\n",
    "with project.edit(selected_model) as bm:\n",
    "    block_array_of_visibility = bm.block_visibility\n",
    "\n",
    "    block_array_of_visibility_created = [False] * len(block_array_of_visibility)\n",
    "\n",
    "    unique_blocks_which_contain_points_that_dont_match = set(point_pos_which_dont_match)\n",
    "\n",
    "    for values in unique_blocks_which_contain_points_that_dont_match:\n",
    "        block_array_of_visibility_created[values] = True\n",
    "    bm.block_visibility = block_array_of_visibility_created"
   ]
  },
  {
   "cell_type": "code",
   "execution_count": 13,
   "metadata": {
    "execution": {
     "iopub.execute_input": "2022-01-09T23:14:30.709997Z",
     "iopub.status.busy": "2022-01-09T23:14:30.708999Z",
     "iopub.status.idle": "2022-01-09T23:14:30.719992Z",
     "shell.execute_reply": "2022-01-09T23:14:30.719992Z",
     "shell.execute_reply.started": "2022-01-09T23:14:30.708999Z"
    },
    "tags": []
   },
   "outputs": [],
   "source": [
    "# Only show POINTS which dont match their domain\n",
    "point_array_of_visibility_created = []\n",
    "with project.edit(point_location) as points:\n",
    "    point_array_of_visibility = points.point_visibility\n",
    "\n",
    "    point_array_of_visibility_created = [False] * len(point_array_of_visibility)\n",
    "\n",
    "    for values1 in points_that_dont_match:\n",
    "        point_array_of_visibility_created[values1] = True\n",
    "    points.point_visibility = point_array_of_visibility_created"
   ]
  },
  {
   "cell_type": "code",
   "execution_count": 14,
   "metadata": {
    "execution": {
     "iopub.execute_input": "2022-01-09T23:14:41.760021Z",
     "iopub.status.busy": "2022-01-09T23:14:41.760021Z",
     "iopub.status.idle": "2022-01-09T23:14:41.776959Z",
     "shell.execute_reply": "2022-01-09T23:14:41.776959Z",
     "shell.execute_reply.started": "2022-01-09T23:14:41.760021Z"
    },
    "tags": []
   },
   "outputs": [],
   "source": [
    "# Gets previous visibilty back\n",
    "with project.edit(point_location) as points:\n",
    "    with project.edit(selected_model) as bm:\n",
    "        bm.block_visibility = vis\n",
    "        points.point_visibility = point_visibility"
   ]
  },
  {
   "cell_type": "code",
   "execution_count": 126,
   "metadata": {
    "execution": {
     "iopub.execute_input": "2022-01-11T06:20:42.203593Z",
     "iopub.status.busy": "2022-01-11T06:20:42.203593Z",
     "iopub.status.idle": "2022-01-11T06:20:42.236506Z",
     "shell.execute_reply": "2022-01-11T06:20:42.232516Z",
     "shell.execute_reply.started": "2022-01-11T06:20:42.203593Z"
    },
    "tags": []
   },
   "outputs": [
    {
     "name": "stdout",
     "output_type": "stream",
     "text": [
      "From 3847 points (excluding 0 outliers, which were outside the block model) 3098 points were in the same block with the same domain hence having a match percentage of 80.53\n",
      "The number of unique points:3847\n",
      "The number of unique blocks:250\n",
      "3847\n",
      "3847\n",
      "\n",
      "\n",
      "Point distribution in SAMPLE:\n",
      "ox            1924\n",
      "pr            1182\n",
      "pox            705\n",
      "undomained      26\n",
      "cvt             10\n",
      "Name: Points Domain, dtype: int64\n",
      "cvt: 0.26 %\n",
      "ox: 50.01 %\n",
      "pox: 18.33 %\n",
      "pr: 30.73 %\n",
      "undomained: 0.68 %\n",
      "\n",
      "\n",
      "Point distribution in PREDICTED:\n",
      "ox            1887\n",
      "pr            1184\n",
      "pox            764\n",
      "undomained      12\n",
      "Name: Block Domains, dtype: int64\n",
      "ox: 49.05 %\n",
      "pox: 19.86 %\n",
      "pr: 30.78 %\n",
      "undomained: 0.31 %\n"
     ]
    }
   ],
   "source": [
    "# STATISTICAL REPORT\n",
    "df2 = pd.DataFrame()\n",
    "\n",
    "match_percentage = str(\n",
    "    round(((len(points_that_match) * 100) / len(point_domains_wo_outliers)), 2)\n",
    ")\n",
    "\n",
    "print(\n",
    "    \"From \"\n",
    "    + str(len(point_domains_wo_outliers))\n",
    "    + \" points (excluding \"\n",
    "    + str((outside_count))\n",
    "    + \" outliers, which were outside the block model) \"\n",
    "    + str(len(points_that_match))\n",
    "    + \" points were in the same block with the same domain\"\n",
    "    + \" hence having a match percentage of \"\n",
    "    + match_percentage\n",
    ")\n",
    "\n",
    "print(\"The number of unique points:\" + str(len(point_domains_wo_outliers)))\n",
    "print(\"The number of unique blocks:\" + str(len(set(list(point_pos1.values())))))\n",
    "\n",
    "print(len(point_domains_wo_outliers))\n",
    "print(len(domains_of_blocks))\n",
    "\n",
    "df2[\"Points Domain\"] = pd.Series(point_domains_wo_outliers)\n",
    "df2[\"Block Domains\"] = pd.Series(domains_of_blocks)\n",
    "\n",
    "print(1 * \"\\n\")\n",
    "print(\"Point distribution in SAMPLE:\")\n",
    "\n",
    "# This helps gets percentage for each domain, as requested by richard\n",
    "(point_domain_names, domain_frequencies) = np.unique(\n",
    "    point_domains_wo_outliers, return_counts=True\n",
    ")\n",
    "(block_domain_names, block_domain_frequencies) = np.unique(\n",
    "    domains_of_blocks, return_counts=True\n",
    ")\n",
    "\n",
    "\n",
    "print(df2[\"Points Domain\"].value_counts())\n",
    "for x, y in zip(point_domain_names, domain_frequencies):\n",
    "    print(\n",
    "        str(x)\n",
    "        + \": \"\n",
    "        + str(round((y * 100) / (len(point_domains_wo_outliers)), 2))\n",
    "        + \" %\"\n",
    "    )\n",
    "\n",
    "print(1 * \"\\n\")\n",
    "print(\"Point distribution in PREDICTED:\")\n",
    "print(df2[\"Block Domains\"].value_counts())\n",
    "for x, y in zip(block_domain_names, block_domain_frequencies):\n",
    "    print(\n",
    "        str(x)\n",
    "        + \": \"\n",
    "        + str(round((y * 100) / (len(point_domains_wo_outliers)), 2))\n",
    "        + \" %\"\n",
    "    )"
   ]
  },
  {
   "cell_type": "code",
   "execution_count": 43,
   "metadata": {
    "execution": {
     "iopub.execute_input": "2022-01-10T01:08:10.897515Z",
     "iopub.status.busy": "2022-01-10T01:08:10.897515Z",
     "iopub.status.idle": "2022-01-10T01:08:11.022736Z",
     "shell.execute_reply": "2022-01-10T01:08:11.022736Z",
     "shell.execute_reply.started": "2022-01-10T01:08:10.897515Z"
    },
    "tags": []
   },
   "outputs": [
    {
     "data": {
      "image/png": "[encoded data removed]",
      "text/plain": [
       "<Figure size 432x288 with 1 Axes>"
      ]
     },
     "metadata": {
      "needs_background": "light"
     },
     "output_type": "display_data"
    }
   ],
   "source": [
    "# CONFUSION MATRIX FOR POINT TO BLOCK COMPARISON\n",
    "point_confusion_matrix = pd.crosstab(\n",
    "    df2[\"Points Domain\"], df2[\"Block Domains\"], rownames=[\"Points\"], colnames=[\"Blocks\"]\n",
    ")\n",
    "point_confusion_matrix = pd.DataFrame(point_confusion_matrix)\n",
    "\n",
    "mt = cm.figure(0)\n",
    "gn = sns.heatmap(\n",
    "    (point_confusion_matrix) / (np.sum(point_confusion_matrix)),\n",
    "    cbar_kws={},\n",
    "    annot=True,\n",
    "    fmt=\".2%\",\n",
    "    cmap=\"rocket_r\",\n",
    "    cbar=False,\n",
    ")\n",
    "\n",
    "cm.show()\n",
    "# Uncomment the lines below to generate a report.\n",
    "# print(\n",
    "#     metrics.classification_report(\n",
    "#         df[\"Points Domain\"], df[\"Block Domains\"], labels=colour_names, zero_division=1\n",
    "#     )\n",
    "# )"
   ]
  },
  {
   "cell_type": "code",
   "execution_count": 90,
   "metadata": {
    "execution": {
     "iopub.execute_input": "2022-01-11T03:26:43.856273Z",
     "iopub.status.busy": "2022-01-11T03:26:43.856273Z",
     "iopub.status.idle": "2022-01-11T03:26:44.094311Z",
     "shell.execute_reply": "2022-01-11T03:26:44.094311Z",
     "shell.execute_reply.started": "2022-01-11T03:26:43.856273Z"
    },
    "tags": []
   },
   "outputs": [
    {
     "name": "stdout",
     "output_type": "stream",
     "text": [
      "122\n",
      "122\n"
     ]
    },
    {
     "data": {
      "image/png": "[encoded data removed]",
      "text/plain": [
       "<Figure size 432x288 with 2 Axes>"
      ]
     },
     "metadata": {
      "needs_background": "light"
     },
     "output_type": "display_data"
    },
    {
     "name": "stdout",
     "output_type": "stream",
     "text": [
      "              precision    recall  f1-score   support\n",
      "\n",
      "          ox       0.33      0.10      0.15        20\n",
      "         pox       0.29      0.28      0.29        43\n",
      "          pr       0.49      0.63      0.55        59\n",
      "  undomained       1.00      1.00      1.00         0\n",
      "\n",
      "   micro avg       0.42      0.42      0.42       122\n",
      "   macro avg       0.53      0.50      0.50       122\n",
      "weighted avg       0.40      0.42      0.39       122\n",
      "\n"
     ]
    }
   ],
   "source": [
    "# ****************CONFUSION MATRIX*****************************************************************\n",
    "\n",
    "confusion_matrix1 = pd.crosstab(\n",
    "    df[\"block0\"], df[\"block1\"], rownames=[\"Block0\"], colnames=[\"Block1\"]\n",
    ")\n",
    "confusion_matrix1 = pd.DataFrame(confusion_matrix1)\n",
    "\n",
    "# confusion_matrix2 = confusion_matrix(df['block0'], df['block1'])\n",
    "\n",
    "mt = cm.figure(0)\n",
    "gn = sns.heatmap(\n",
    "    (confusion_matrix1) / (np.sum(confusion_matrix1)),\n",
    "    cbar_kws={},\n",
    "    annot=True,\n",
    "    fmt=\".2%\",\n",
    "    cmap=\"crest\",\n",
    "    cbar=True,\n",
    ")\n",
    "\n",
    "# ***************************JUST DIFFERENT COLOURS, PLEASE IGNORE*****************************************************************\n",
    "# mt1=cm.figure(1)\n",
    "# gn=sns.heatmap((confusion_matrix1)/(np.sum(confusion_matrix1)),cbar_kws={},\\\n",
    "#             annot=True, fmt='.2%', cmap=\"YlGnBu\",cbar=True)\n",
    "# mt2=cm.figure(2)\n",
    "# gn=sns.heatmap((confusion_matrix1)/(np.sum(confusion_matrix1)),cbar_kws={},\\\n",
    "#             annot=True, fmt='.2%', cmap=\"rocket_r\",cbar=True)\n",
    "# mt3=cm.figure(3)\n",
    "# gn=sns.heatmap((confusion_matrix1)/(np.sum(confusion_matrix1)),cbar_kws={},\\\n",
    "#             annot=True, fmt='.2%', cmap=\"cubehelix_r\",cbar=True)\n",
    "# colorbar =gn.collections[0].colorbar\n",
    "# colorbar.set_ticks([0,20,40,60,80,100])\n",
    "# ^^^^^^^^^^^^^^^^^^^JUST DIFFERENT COLOURS, PLEASE IGNORE^^^^^^^^^^^^^^^^^^^^^^^^^^^^^^^^^^^^^^^^^^\n",
    "# mt1=cm.figure(1)\n",
    "# sns.heatmap(confusion_matrix2/np.sum(confusion_matrix2), annot=True, fmt=.2%', cbar=True,\\\n",
    "# cbar_kws={'format':PercentFormatter()}, cmap=\"Blues\")\n",
    "\n",
    "cm.show()\n",
    "# Uncomment the lines below to generate a report.\n",
    "print(\n",
    "    metrics.classification_report(\n",
    "        df[\"block0\"], df[\"block1\"], labels=colour_names, zero_division=1\n",
    "    )\n",
    ")"
   ]
  },
  {
   "cell_type": "code",
   "execution_count": 38,
   "metadata": {
    "collapsed": true,
    "jupyter": {
     "outputs_hidden": true
    },
    "tags": []
   },
   "outputs": [
    {
     "data": {
      "image/png": "[encoded data removed]",
      "text/plain": [
       "<Figure size 1296x720 with 1 Axes>"
      ]
     },
     "metadata": {
      "needs_background": "light"
     },
     "output_type": "display_data"
    }
   ],
   "source": [
    "# *****************BAR PLOTS*****************************************************************\n",
    "ind = np.arange(M)\n",
    "width = 0.15\n",
    "bar_names = {}\n",
    "\n",
    "cm.figure(figsize=(18, 10))\n",
    "\n",
    "for y in range(0, len(colour_names), 1):\n",
    "    cm.bar(ind, values[y], width, color=real_colours[y], edgecolor=\"black\", log=True)\n",
    "    ind = ind + width\n",
    "\n",
    "cm.xlabel(\"Blocks\")\n",
    "cm.ylabel(\"Number\")\n",
    "cm.title(\"Block Model Comparison of Domains\")\n",
    "\n",
    "cm.xticks(ind - 3 * width, names)\n",
    "# cm.ticklabel_format(axis=\"y\",style=\"plain\")\n",
    "cm.legend(colour_names)\n",
    "cm.show()\n",
    "\n",
    "# *************************************************************************************************\n",
    "\n",
    "# seaborn stuff\n",
    "# sns.barplot(names, values)"
   ]
  },
  {
   "cell_type": "code",
   "execution_count": 41,
   "metadata": {
    "collapsed": true,
    "jupyter": {
     "outputs_hidden": true
    },
    "tags": []
   },
   "outputs": [
    {
     "data": {
      "image/png": "[encoded data removed]",
      "text/plain": [
       "<Figure size 432x288 with 1 Axes>"
      ]
     },
     "metadata": {
      "needs_background": "light"
     },
     "output_type": "display_data"
    },
    {
     "data": {
      "image/png": "[encoded data removed]",
      "text/plain": [
       "<Figure size 432x288 with 1 Axes>"
      ]
     },
     "metadata": {
      "needs_background": "light"
     },
     "output_type": "display_data"
    },
    {
     "data": {
      "image/png": "[encoded data removed]",
      "text/plain": [
       "<Figure size 432x288 with 1 Axes>"
      ]
     },
     "metadata": {
      "needs_background": "light"
     },
     "output_type": "display_data"
    },
    {
     "data": {
      "image/png": "[encoded data removed]",
      "text/plain": [
       "<Figure size 432x288 with 1 Axes>"
      ]
     },
     "metadata": {
      "needs_background": "light"
     },
     "output_type": "display_data"
    },
    {
     "data": {
      "image/png": "[encoded data removed]",
      "text/plain": [
       "<Figure size 432x288 with 1 Axes>"
      ]
     },
     "metadata": {
      "needs_background": "light"
     },
     "output_type": "display_data"
    }
   ],
   "source": [
    "# *****************BOX PLOTS*****************************************************************\n",
    "\n",
    "# This function sets up the properties of all plots\n",
    "def setter(bp, c):\n",
    "\n",
    "    for box in bp[\"boxes\"]:\n",
    "        box.set(color=\"#000000\", linewidth=2)\n",
    "        box.set(facecolor=c)\n",
    "\n",
    "    for whisker in bp[\"whiskers\"]:\n",
    "        whisker.set(color=\"#000000\", linewidth=2)\n",
    "\n",
    "    for cap in bp[\"caps\"]:\n",
    "        cap.set(color=\"#000000\", linewidth=2)\n",
    "\n",
    "    for median in bp[\"medians\"]:\n",
    "        median.set(color=\"#000000\", linewidth=2)\n",
    "\n",
    "    for flier in bp[\"fliers\"]:\n",
    "        flier.set(marker=\"D\", markerfacecolor=\"#000000\", alpha=1)\n",
    "\n",
    "\n",
    "# This function gets all the stats for the boxplots\n",
    "def get_box_plot_data(bp):\n",
    "    rows_list = []\n",
    "    for i in range(len(colour_names)):\n",
    "        dict1 = {}\n",
    "        dict1[\"label\"] = colour_names[i]\n",
    "        dict1[\"lower_whisker\"] = bp[\"whiskers\"][i * 2].get_ydata()[1]\n",
    "        dict1[\"lower_quartile\"] = bp[\"boxes\"][i].get_ydata()[1]\n",
    "        dict1[\"median\"] = bp[\"medians\"][i].get_ydata()[1]\n",
    "        dict1[\"upper_quartile\"] = bp[\"boxes\"][i].get_ydata()[2]\n",
    "        dict1[\"upper_whisker\"] = bp[\"whiskers\"][(i * 2) + 1].get_ydata()[1]\n",
    "        rows_list.append(dict1)\n",
    "\n",
    "    return pd.DataFrame(rows_list)\n",
    "\n",
    "\n",
    "boxplots = {}\n",
    "for y in range(0, len(colour_names), 1):\n",
    "    cm.figure()  # creates a figure\n",
    "    cm.ticklabel_format(axis=\"y\", style=\"plain\")\n",
    "    boxplots[\"bp{0}\".format(y)] = cm.boxplot(\n",
    "        values[y], patch_artist=True, labels=[colour_names[y]]\n",
    "    )\n",
    "    value_at_index = list(boxplots.values())[y]\n",
    "    setter(value_at_index, colours[y])\n",
    "\n",
    "cm.show()\n",
    "# print(boxplots)\n",
    "# for i in boxplots:\n",
    "#     get_box_plot_data(boxplots[i])"
   ]
  },
  {
   "cell_type": "code",
   "execution_count": null,
   "metadata": {},
   "outputs": [],
   "source": []
  }
 ],
 "metadata": {
  "interpreter": {
   "hash": "b21c45a975a7320c0b0a03f9304758b8484b0483352f2e6ff8719456374621e1"
  },
  "kernelspec": {
   "display_name": "Python 3 (ipykernel)",
   "language": "python",
   "name": "python3"
  },
  "language_info": {
   "codemirror_mode": {
    "name": "ipython",
    "version": 3
   },
   "file_extension": ".py",
   "mimetype": "text/x-python",
   "name": "python",
   "nbconvert_exporter": "python",
   "pygments_lexer": "ipython3",
   "version": "3.7.7"
  }
 },
 "nbformat": 4,
 "nbformat_minor": 4
}
