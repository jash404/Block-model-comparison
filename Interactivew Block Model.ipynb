{
 "cells": [
  {
   "cell_type": "code",
   "execution_count": 2,
   "metadata": {
    "execution": {
     "iopub.execute_input": "2021-12-16T00:32:31.035876Z",
     "iopub.status.busy": "2021-12-16T00:32:31.034906Z",
     "iopub.status.idle": "2021-12-16T00:32:33.453023Z",
     "shell.execute_reply": "2021-12-16T00:32:33.453023Z",
     "shell.execute_reply.started": "2021-12-16T00:32:31.035876Z"
    },
    "tags": []
   },
   "outputs": [],
   "source": [
    "# Imports for the Maptek Python SDK and additional libraries.\n",
    "import time\n",
    "\n",
    "import matplotlib as mpl\n",
    "import matplotlib.colors as cc\n",
    "\n",
    "# mpl.use('agg')\n",
    "import matplotlib.pyplot as cm\n",
    "from mapteksdk.data import (\n",
    "    DenseBlockModel,\n",
    "    GridSurface,\n",
    "    NumericColourMap,\n",
    "    SubblockedBlockModel,\n",
    "    Surface,\n",
    "    Text3D,\n",
    ")\n",
    "from mapteksdk.project import Project\n",
    "from matplotlib.ticker import PercentFormatter\n",
    "from matplotlib.widgets import Button, CheckButtons, RadioButtons\n",
    "\n",
    "time.sleep(2)\n",
    "\n",
    "import copy\n",
    "import ctypes\n",
    "import math\n",
    "from collections import defaultdict\n",
    "\n",
    "import numpy as np\n",
    "import pandas as pd\n",
    "import seaborn as sns\n",
    "from sklearn import metrics\n",
    "from sklearn.metrics import confusion_matrix\n",
    "\n",
    "cm.rcParams[\"font.family\"] = [\"Source Han Sans TW\", \"monospace\"]\n",
    "cm.rcParams[\"font.size\"] = 14\n",
    "\n",
    "# Connect to the currently running Maptek Project.\n",
    "project = Project()\n",
    "# project.mcp_instance.mcp_dict['PRODUCT_LOCATION_INFO']  # Report out which application it connected to (Optional)"
   ]
  },
  {
   "cell_type": "code",
   "execution_count": 3,
   "metadata": {
    "execution": {
     "iopub.execute_input": "2021-12-16T00:32:37.227516Z",
     "iopub.status.busy": "2021-12-16T00:32:37.227516Z",
     "iopub.status.idle": "2021-12-16T00:33:33.996186Z",
     "shell.execute_reply": "2021-12-16T00:33:33.996186Z",
     "shell.execute_reply.started": "2021-12-16T00:32:37.227516Z"
    },
    "tags": []
   },
   "outputs": [
    {
     "name": "stdout",
     "output_type": "stream",
     "text": [
      "Subblocked 14-12-2021 11:05\n",
      "Calculating block extents\n"
     ]
    }
   ],
   "source": [
    "# Initialisation\n",
    "selected_model = None\n",
    "selected_var = \"\"\n",
    "colours = \"\"\n",
    "real_colours = []\n",
    "vis = \"\"\n",
    "# ****************Bool swicthes for certain features*****************************************************************\n",
    "vis_compiler = False\n",
    "point_checker = True\n",
    "# ********************************************************************************************************************\n",
    "names = []\n",
    "df = pd.DataFrame()\n",
    "selection = project.get_selected()\n",
    "last_opacity = 255\n",
    "\n",
    "# For getting colours and the mapped names used in the model visualisation\n",
    "# np.set_printoptions(formatter={'float': lambda x: \"{0:0.3f}\".format(x)})\n",
    "with project.edit(\"legends/Domain\") as legend:\n",
    "    colours = legend.colours\n",
    "    colour_names = legend.legend\n",
    "    colour_names = [each_string.lower() for each_string in colour_names]\n",
    "# Getting hex values of the colours\n",
    "colours = colours / 255\n",
    "for z in range(0, len(colour_names), 1):\n",
    "    real_colours.append(cc.to_hex(colours[z], keep_alpha=True))\n",
    "\n",
    "# Creating the array for storing data to be retrieved\n",
    "N = len(colour_names)\n",
    "M = len(selection)\n",
    "values = [[0 for i in range(M)] for j in range(N)]\n",
    "vis_collection = [0] * M\n",
    "var_collection = [0] * M\n",
    "i = 0\n",
    "j = 0\n",
    "\n",
    "\n",
    "# DATA GETTER\n",
    "\n",
    "for item in selection:\n",
    "    print(item.name)\n",
    "    # Setting outer array back to 0, for new block\n",
    "    j = 0\n",
    "    if item.is_a(DenseBlockModel) or item.is_a(SubblockedBlockModel):\n",
    "        selected_model = item\n",
    "        # Checker for point stuff\n",
    "        if point_checker:\n",
    "            # Getting all block details\n",
    "            with project.read(selected_model) as bm:\n",
    "                block_sizes = bm.block_sizes\n",
    "                block_centroids = bm.block_centroids\n",
    "                b = bm.block_resolution\n",
    "                x_res = b[0]\n",
    "                y_res = b[1]\n",
    "                z_res = b[2]\n",
    "                x_count = bm.column_count\n",
    "                y_count = bm.row_count\n",
    "                z_count = bm.slice_count\n",
    "                index_map = bm.block_to_grid_index\n",
    "                index_map = index_map.tolist()\n",
    "                # Converting from world coordinates\n",
    "                block_centroids = bm.convert_to_block_coordinates(block_centroids)\n",
    "                block_centroids = block_centroids + 0.5 * block_sizes[0]\n",
    "                # Getting sample point data for point to block comparison\n",
    "                with project.read(\"samples/res Intervals Table mid points\") as points:\n",
    "                    # SDK method\n",
    "                    real_points = points.points\n",
    "                    real_points = bm.convert_to_block_coordinates(real_points)\n",
    "                    real_points = real_points + 0.5 * block_sizes[0]\n",
    "                    point_collection = [0] * len(real_points)\n",
    "                    point_domains = points.point_attributes[\n",
    "                        '{\"c\":\"Domain\",\"n\":[],\"s\":\"Point attribute (text)\",\"t\":\"Tstring\",\"u\":\"dimensionless\",\"v\":3}'\n",
    "                    ]\n",
    "                # *************************************************************************************************\n",
    "                # Brute-force method\n",
    "                extents = [[]] * len(selection)\n",
    "                print(\"Calculating block extents\")\n",
    "                for nn in range(0, len(block_centroids), 1):\n",
    "                    extents[i].append(\n",
    "                        np.array(\n",
    "                            [\n",
    "                                block_centroids[nn] - block_sizes[nn] / 2,\n",
    "                                block_centroids[nn] + block_sizes[nn] / 2,\n",
    "                            ]\n",
    "                        )\n",
    "                    )\n",
    "                extents = np.array(extents)\n",
    "                # *************************************************************************************************\n",
    "                # # Checks all attributes of block and then chooses the one with discrete values\n",
    "                a_dict = bm.block_attributes.names\n",
    "                for key in a_dict:\n",
    "                    checker = bm.block_attributes[key]\n",
    "                    if isinstance(checker[0], (str, int)):\n",
    "                        selected_var = checker\n",
    "                        var_collection[i] = selected_var\n",
    "                vis = bm.block_visibility\n",
    "                vis_collection[i] = vis\n",
    "                for domain in colour_names:\n",
    "                    values[j][i] = np.count_nonzero(selected_var == domain)\n",
    "                    j = j + 1\n",
    "                # Creating labels\n",
    "                names.append(\"Block\" + str(i))\n",
    "                # For the confusion matrix\n",
    "                df[\"block\" + str(i)] = pd.Series(selected_var)\n",
    "                i = i + 1\n",
    "\n",
    "# Visibility filterer\n",
    "if vis_compiler:\n",
    "    visfinal = vis_collection[0]\n",
    "    for q in range(1, len(vis_collection), 1):\n",
    "        visfinal = visfinal & vis_collection[q]\n",
    "\n",
    "    # The statement below removes all values in selected_var which have a corresponding false value\n",
    "    # in the same index location in vis\n",
    "    for z in range(0, len(var_collection), 1):\n",
    "        var_collection[z] = np.array(var_collection[z])[visfinal]\n",
    "\n",
    "    for d in range(0, M, 1):\n",
    "        # For the confusion matrix\n",
    "        df[\"block\" + str(d)] = pd.Series(var_collection[d])\n",
    "        for domain, k in zip(colour_names, range(0, len(colour_names), 1)):\n",
    "            values[k][d] = np.count_nonzero(var_collection[d] == domain)\n",
    "# For the confusion matrix\n",
    "df.dropna(inplace=True)"
   ]
  },
  {
   "cell_type": "code",
   "execution_count": 59,
   "metadata": {
    "collapsed": true,
    "execution": {
     "iopub.execute_input": "2021-12-16T00:26:51.370848Z",
     "iopub.status.busy": "2021-12-16T00:26:51.370848Z",
     "iopub.status.idle": "2021-12-16T00:26:51.444684Z",
     "shell.execute_reply": "2021-12-16T00:26:51.444684Z",
     "shell.execute_reply.started": "2021-12-16T00:26:51.370848Z"
    },
    "jupyter": {
     "outputs_hidden": true,
     "source_hidden": true
    },
    "tags": []
   },
   "outputs": [
    {
     "name": "stdout",
     "output_type": "stream",
     "text": [
      "['pr' 'pr' 'pr' ... 'ox' 'ox' 'ox']\n",
      "3847\n",
      "5384498\n",
      "[[ 61.93328093 200.69343549 118.7244873 ]\n",
      " [ 61.4332938  200.68984887 117.85846189]\n",
      " [ 60.93330666 200.68626225 116.99243649]\n",
      " ...\n",
      " [ 55.87280404 298.46247763 108.58711894]\n",
      " [ 55.3728169  298.45889101 107.72109354]\n",
      " [ 54.9728271  298.45602171 107.02827305]]\n",
      "[[183.75   136.5     -0.375 ]\n",
      " [183.75   137.0625  -0.375 ]\n",
      " [183.375  137.4375  -0.375 ]\n",
      " ...\n",
      " [336.75   304.875  124.6875]\n",
      " [338.25   304.875  124.6875]\n",
      " [339.75   304.875  124.6875]]\n"
     ]
    }
   ],
   "source": [
    "print(np.array(selected_var))\n",
    "print(len(point_domains))\n",
    "print(len(index_map))\n",
    "print(real_points)\n",
    "print(block_centroids)"
   ]
  },
  {
   "cell_type": "code",
   "execution_count": null,
   "metadata": {
    "execution": {
     "iopub.execute_input": "2021-12-16T00:33:40.675024Z",
     "iopub.status.busy": "2021-12-16T00:33:40.675024Z"
    },
    "tags": []
   },
   "outputs": [],
   "source": [
    "# POINT TO BLOCK/SUB-BLOCK COMPARISON\n",
    "point_pos1 = []\n",
    "domains_of_blocks = []\n",
    "outside_count = 0\n",
    "outside_indices = []\n",
    "cx1 = 0\n",
    "with project.read(selected_model) as bm:\n",
    "    for cx1 in range(0, len(real_points), 1):\n",
    "        c1 = math.floor(real_points[cx1][0] / x_res)\n",
    "        c2 = math.floor(real_points[cx1][1] / y_res)\n",
    "        c3 = math.floor(real_points[cx1][2] / z_res)\n",
    "    \n",
    "        if (0 < c1 < x_count) and (0 < c2 < y_count) and (0 < c3 < z_count):\n",
    "            index = index_map.index([c1, c2, c3])\n",
    "\n",
    "            subblock_check = bm.grid_index(index)\n",
    "            subblock_indices = np.where(subblock_check)[0]\n",
    "            if len(subblock_indices) > 1:\n",
    "                for ex in subblock_indices:\n",
    "                    if (\n",
    "                        (\n",
    "                            extents[0][ex][0][0]\n",
    "                            < real_points[cx1][0]\n",
    "                            <= extents[0][ex][1][0]\n",
    "                        )\n",
    "                        and (\n",
    "                            extents[0][ex][0][1]\n",
    "                            < real_points[cx1][1]\n",
    "                            <= extents[0][ex][1][1]\n",
    "                        )\n",
    "                        and (\n",
    "                            extents[0][ex][0][2]\n",
    "                            < real_points[cx1][2]\n",
    "                            <= extents[0][ex][1][2]\n",
    "                        )\n",
    "                    ):\n",
    "                        point_pos1.append(ex)\n",
    "                        domains_of_blocks.append(selected_var[ex])\n",
    "                        break\n",
    "            else:\n",
    "                point_pos1.append(index)\n",
    "                domains_of_blocks.append(selected_var[index])\n",
    "        else:\n",
    "            outside_count += 1\n",
    "            outside_indices.append(cx1)\n",
    "            continue\n",
    "\n",
    "point_domains = [z.lower() for z in point_domains]\n",
    "point_domains_wo_outliers = copy.deepcopy(point_domains)\n",
    "for i in outside_indices:\n",
    "    del point_domains_wo_outliers[i]\n",
    "\n",
    "num_equal = sum(x == y for x, y in zip(point_domains_wo_outliers, domains_of_blocks))\n",
    "print(num_equal)\n",
    "print(subblock_check)\n",
    "print(subblock_indices)"
   ]
  },
  {
   "cell_type": "code",
   "execution_count": 35,
   "metadata": {
    "execution": {
     "iopub.execute_input": "2021-12-15T22:51:59.190032Z",
     "iopub.status.busy": "2021-12-15T22:51:59.190032Z",
     "iopub.status.idle": "2021-12-15T22:51:59.689717Z",
     "shell.execute_reply": "2021-12-15T22:51:59.689717Z",
     "shell.execute_reply.started": "2021-12-15T22:51:59.190032Z"
    },
    "tags": []
   },
   "outputs": [
    {
     "name": "stdout",
     "output_type": "stream",
     "text": [
      "From 3761 points (excluding outliers, which were outside the block model) 3276 points were in the same block with the same domain hence having a match percentage of 87.1\n",
      "The number of unique points:3761\n",
      "The number of unique blocks:2716\n",
      "Below are counts of how these points are distributed in the sample and predicted model respectively\n",
      "ox            1893\n",
      "pr            1153\n",
      "pox            680\n",
      "undomained      25\n",
      "cvt             10\n",
      "Name: Points Domain, dtype: int64\n",
      "ox     1779\n",
      "pr     1301\n",
      "pox     681\n",
      "Name: Block Domains, dtype: int64\n"
     ]
    }
   ],
   "source": [
    "match_percentage = str(round(((num_equal * 100) / len(point_domains_wo_outliers)), 2))\n",
    "\n",
    "print(\n",
    "    \"From \"\n",
    "    + str(len(point_domains_wo_outliers))\n",
    "    + \" points (excluding outliers, which were outside the block model) \"\n",
    "    + str(num_equal)\n",
    "    + \" points were in the same block with the same domain\"\n",
    "    + \" hence having a match percentage of \"\n",
    "    + match_percentage\n",
    ")\n",
    "\n",
    "print(\"The number of unique points:\" + str(len(point_domains_wo_outliers)))\n",
    "print(\"The number of unique blocks:\" + str(len(set(point_pos1))))\n",
    "\n",
    "df[\"Points Domain\"] = pd.Series(point_domains_wo_outliers)\n",
    "df[\"Block Domains\"] = pd.Series(domains_of_blocks)\n",
    "print(\n",
    "    \"Below are counts of how these points are distributed in the sample and predicted model respectively\"\n",
    ")\n",
    "print(df[\"Points Domain\"].value_counts())\n",
    "print(df[\"Block Domains\"].value_counts())"
   ]
  },
  {
   "cell_type": "code",
   "execution_count": 36,
   "metadata": {
    "execution": {
     "iopub.execute_input": "2021-12-15T22:52:13.599726Z",
     "iopub.status.busy": "2021-12-15T22:52:13.599726Z",
     "iopub.status.idle": "2021-12-15T22:52:14.355737Z",
     "shell.execute_reply": "2021-12-15T22:52:14.355737Z",
     "shell.execute_reply.started": "2021-12-15T22:52:13.599726Z"
    },
    "tags": []
   },
   "outputs": [
    {
     "data": {
      "image/png": "[encoded data removed]",
      "text/plain": [
       "<Figure size 432x288 with 2 Axes>"
      ]
     },
     "metadata": {
      "needs_background": "light"
     },
     "output_type": "display_data"
    }
   ],
   "source": [
    "# CONFUSION MATRIX FOR POINT TO BLOCK COMPARISON\n",
    "point_confusion_matrix = pd.crosstab(\n",
    "    df[\"Points Domain\"], df[\"Block Domains\"], rownames=[\"Points\"], colnames=[\"Blocks\"]\n",
    ")\n",
    "point_confusion_matrix = pd.DataFrame(point_confusion_matrix)\n",
    "\n",
    "mt = cm.figure(0)\n",
    "gn = sns.heatmap(\n",
    "    (point_confusion_matrix) / (np.sum(point_confusion_matrix)),\n",
    "    cbar_kws={},\n",
    "    annot=True,\n",
    "    fmt=\".2%\",\n",
    "    cmap=\"rocket_r\",\n",
    "    cbar=True,\n",
    ")\n",
    "\n",
    "cm.show()\n",
    "# Uncomment the lines below to generate a report.\n",
    "# print(\n",
    "#     metrics.classification_report(\n",
    "#         df[\"Points Domain\"], df[\"Block Domains\"], labels=colour_names, zero_division=1\n",
    "#     )\n",
    "# )"
   ]
  },
  {
   "cell_type": "code",
   "execution_count": 50,
   "metadata": {
    "collapsed": true,
    "execution": {
     "iopub.execute_input": "2021-12-10T06:22:54.475141Z",
     "iopub.status.busy": "2021-12-10T06:22:54.475141Z",
     "iopub.status.idle": "2021-12-10T06:23:08.192268Z",
     "shell.execute_reply": "2021-12-10T06:23:08.192268Z",
     "shell.execute_reply.started": "2021-12-10T06:22:54.475141Z"
    },
    "jupyter": {
     "outputs_hidden": true
    },
    "tags": []
   },
   "outputs": [
    {
     "name": "stdout",
     "output_type": "stream",
     "text": [
      "5\n",
      "{0: 3688791, 1: 3642482, 2: 3642482, 3: 3596174, 4: 3596173}\n"
     ]
    }
   ],
   "source": [
    "# BRUTE FORCE METHOD\n",
    "tr = 0\n",
    "point_pos = {}\n",
    "# THIS IS FOR TESTING ONLY, STILL HAVE TO TAKE ACCOUNT OF WHICH BLOCK MODEL WE ARE PARSING, IN THE CODE BELOW.\n",
    "for cx in range(0, 5, 1):\n",
    "    for ex in range(0, len(block_centroids), 1):\n",
    "        if (\n",
    "            (extents[0][ex][0][0] < real_points[cx][0] <= extents[0][ex][1][0])\n",
    "            and (extents[0][ex][0][1] < real_points[cx][1] <= extents[0][ex][1][1])\n",
    "            and (extents[0][ex][0][2] < real_points[cx][2] <= extents[0][ex][1][2])\n",
    "        ):\n",
    "            point_pos[cx] = ex\n",
    "            tr = tr + 1\n",
    "            break\n",
    "\n",
    "print(tr)\n",
    "print(point_pos)"
   ]
  },
  {
   "cell_type": "code",
   "execution_count": 147,
   "metadata": {
    "collapsed": true,
    "execution": {
     "iopub.execute_input": "2021-12-09T01:21:20.314577Z",
     "iopub.status.busy": "2021-12-09T01:21:20.314577Z",
     "iopub.status.idle": "2021-12-09T01:21:20.334512Z",
     "shell.execute_reply": "2021-12-09T01:21:20.334512Z",
     "shell.execute_reply.started": "2021-12-09T01:21:20.314577Z"
    },
    "jupyter": {
     "outputs_hidden": true
    },
    "tags": []
   },
   "outputs": [
    {
     "name": "stdout",
     "output_type": "stream",
     "text": [
      "FOR SDK:\n",
      "[array([ 62.25, 201.75, 120.75])]\n",
      "[array([ 62.25, 201.75, 119.25])]\n",
      "[array([ 62.25, 201.75, 117.75])]\n",
      "[array([ 60.75, 201.75, 117.75])]\n",
      "[array([ 60.75, 201.75, 116.25])]\n",
      "FOR BRUTE:\n",
      "[ 60.75 201.75 117.75]\n",
      "[ 59.25 201.75 116.25]\n",
      "FOR POINTS:\n",
      "[array([ 61.93328093, 201.06843549, 119.2869873 ])]\n",
      "[array([ 61.4332938 , 201.06484887, 118.42096189])]\n",
      "[array([ 60.93330666, 201.06126225, 117.55493649])]\n",
      "[array([ 60.43331953, 201.05767563, 116.68891109])]\n",
      "[array([ 59.93333239, 201.054089  , 115.82288568])]\n"
     ]
    }
   ],
   "source": [
    "# TESTING STUFF\n",
    "print(\"FOR SDK:\")\n",
    "for c_sdk in range(0, 5, 1):\n",
    "    sdk = [block_centroids[point_pos1[c_sdk]]]\n",
    "    print(sdk)\n",
    "\n",
    "# for point in point_pos1:\n",
    "#     print(block_centroids[point])\n",
    "\n",
    "\n",
    "print(\"FOR BRUTE:\")\n",
    "print(block_centroids[point_pos[2]])\n",
    "print(block_centroids[point_pos[4]])\n",
    "# for c_brute in range(0,5,1):\n",
    "#     brute=([block_centroids[point_pos[c_brute]]])\n",
    "#     print(brute)\n",
    "\n",
    "print(\"FOR POINTS:\")\n",
    "for c_point in range(0, 5, 1):\n",
    "    pt = [real_points[c_point]]\n",
    "    print(pt)"
   ]
  },
  {
   "cell_type": "code",
   "execution_count": 30,
   "metadata": {
    "tags": []
   },
   "outputs": [
    {
     "data": {
      "image/png": "[encoded data removed]",
      "text/plain": [
       "<Figure size 432x288 with 2 Axes>"
      ]
     },
     "metadata": {
      "needs_background": "light"
     },
     "output_type": "display_data"
    },
    {
     "name": "stdout",
     "output_type": "stream",
     "text": [
      "              precision    recall  f1-score   support\n",
      "\n",
      "         cvt       1.00      1.00      1.00         0\n",
      "          ox       0.99      0.98      0.99    616777\n",
      "         pox       0.92      0.97      0.95    729311\n",
      "          pr       0.99      0.97      0.98   2431091\n",
      "  undomained       0.33      0.30      0.31       133\n",
      "\n",
      "   micro avg       0.98      0.98      0.98   3777312\n",
      "   macro avg       0.85      0.85      0.85   3777312\n",
      "weighted avg       0.98      0.98      0.98   3777312\n",
      "\n"
     ]
    }
   ],
   "source": [
    "# ****************CONFUSION MATRIX*****************************************************************\n",
    "confusion_matrix1 = pd.crosstab(\n",
    "    df[\"block0\"], df[\"block1\"], rownames=[\"Block0\"], colnames=[\"Block1\"]\n",
    ")\n",
    "confusion_matrix1 = pd.DataFrame(confusion_matrix1)\n",
    "\n",
    "# confusion_matrix2 = confusion_matrix(df['block0'], df['block1'])\n",
    "\n",
    "mt = cm.figure(0)\n",
    "gn = sns.heatmap(\n",
    "    (confusion_matrix1) / (np.sum(confusion_matrix1)),\n",
    "    cbar_kws={},\n",
    "    annot=True,\n",
    "    fmt=\".2%\",\n",
    "    cmap=\"crest\",\n",
    "    cbar=True,\n",
    ")\n",
    "\n",
    "# ***************************JUST DIFFERENT COLOURS, PLEASE IGNORE*****************************************************************\n",
    "# mt1=cm.figure(1)\n",
    "# gn=sns.heatmap((confusion_matrix1)/(np.sum(confusion_matrix1)),cbar_kws={},\\\n",
    "#             annot=True, fmt='.2%', cmap=\"YlGnBu\",cbar=True)\n",
    "# mt2=cm.figure(2)\n",
    "# gn=sns.heatmap((confusion_matrix1)/(np.sum(confusion_matrix1)),cbar_kws={},\\\n",
    "#             annot=True, fmt='.2%', cmap=\"rocket_r\",cbar=True)\n",
    "# mt3=cm.figure(3)\n",
    "# gn=sns.heatmap((confusion_matrix1)/(np.sum(confusion_matrix1)),cbar_kws={},\\\n",
    "#             annot=True, fmt='.2%', cmap=\"cubehelix_r\",cbar=True)\n",
    "# colorbar =gn.collections[0].colorbar\n",
    "# colorbar.set_ticks([0,20,40,60,80,100])\n",
    "# ^^^^^^^^^^^^^^^^^^^JUST DIFFERENT COLOURS, PLEASE IGNORE^^^^^^^^^^^^^^^^^^^^^^^^^^^^^^^^^^^^^^^^^^\n",
    "# mt1=cm.figure(1)\n",
    "# sns.heatmap(confusion_matrix2/np.sum(confusion_matrix2), annot=True, fmt=.2%', cbar=True,\\\n",
    "# cbar_kws={'format':PercentFormatter()}, cmap=\"Blues\")\n",
    "\n",
    "cm.show()\n",
    "# Uncomment the lines below to generate a report.\n",
    "print(\n",
    "    metrics.classification_report(\n",
    "        df[\"block0\"], df[\"block1\"], labels=colour_names, zero_division=1\n",
    "    )\n",
    ")"
   ]
  },
  {
   "cell_type": "code",
   "execution_count": 38,
   "metadata": {
    "collapsed": true,
    "jupyter": {
     "outputs_hidden": true
    },
    "tags": []
   },
   "outputs": [
    {
     "data": {
      "image/png": "[encoded data removed]",
      "text/plain": [
       "<Figure size 1296x720 with 1 Axes>"
      ]
     },
     "metadata": {
      "needs_background": "light"
     },
     "output_type": "display_data"
    }
   ],
   "source": [
    "# *****************BAR PLOTS*****************************************************************\n",
    "ind = np.arange(M)\n",
    "width = 0.15\n",
    "bar_names = {}\n",
    "\n",
    "cm.figure(figsize=(18, 10))\n",
    "\n",
    "for y in range(0, len(colour_names), 1):\n",
    "    cm.bar(ind, values[y], width, color=real_colours[y], edgecolor=\"black\", log=True)\n",
    "    ind = ind + width\n",
    "\n",
    "cm.xlabel(\"Blocks\")\n",
    "cm.ylabel(\"Number\")\n",
    "cm.title(\"Block Model Comparison of Domains\")\n",
    "\n",
    "cm.xticks(ind - 3 * width, names)\n",
    "# cm.ticklabel_format(axis=\"y\",style=\"plain\")\n",
    "cm.legend(colour_names)\n",
    "cm.show()\n",
    "\n",
    "# *************************************************************************************************\n",
    "\n",
    "# seaborn stuff\n",
    "# sns.barplot(names, values)"
   ]
  },
  {
   "cell_type": "code",
   "execution_count": 41,
   "metadata": {
    "collapsed": true,
    "jupyter": {
     "outputs_hidden": true
    },
    "tags": []
   },
   "outputs": [
    {
     "data": {
      "image/png": "[encoded data removed]",
      "text/plain": [
       "<Figure size 432x288 with 1 Axes>"
      ]
     },
     "metadata": {
      "needs_background": "light"
     },
     "output_type": "display_data"
    },
    {
     "data": {
      "image/png": "[encoded data removed]",
      "text/plain": [
       "<Figure size 432x288 with 1 Axes>"
      ]
     },
     "metadata": {
      "needs_background": "light"
     },
     "output_type": "display_data"
    },
    {
     "data": {
      "image/png": "[encoded data removed]",
      "text/plain": [
       "<Figure size 432x288 with 1 Axes>"
      ]
     },
     "metadata": {
      "needs_background": "light"
     },
     "output_type": "display_data"
    },
    {
     "data": {
      "image/png": "[encoded data removed]",
      "text/plain": [
       "<Figure size 432x288 with 1 Axes>"
      ]
     },
     "metadata": {
      "needs_background": "light"
     },
     "output_type": "display_data"
    },
    {
     "data": {
      "image/png": "[encoded data removed]",
      "text/plain": [
       "<Figure size 432x288 with 1 Axes>"
      ]
     },
     "metadata": {
      "needs_background": "light"
     },
     "output_type": "display_data"
    }
   ],
   "source": [
    "# *****************BOX PLOTS*****************************************************************\n",
    "\n",
    "# This function sets up the properties of all plots\n",
    "def setter(bp, c):\n",
    "\n",
    "    for box in bp[\"boxes\"]:\n",
    "        box.set(color=\"#000000\", linewidth=2)\n",
    "        box.set(facecolor=c)\n",
    "\n",
    "    for whisker in bp[\"whiskers\"]:\n",
    "        whisker.set(color=\"#000000\", linewidth=2)\n",
    "\n",
    "    for cap in bp[\"caps\"]:\n",
    "        cap.set(color=\"#000000\", linewidth=2)\n",
    "\n",
    "    for median in bp[\"medians\"]:\n",
    "        median.set(color=\"#000000\", linewidth=2)\n",
    "\n",
    "    for flier in bp[\"fliers\"]:\n",
    "        flier.set(marker=\"D\", markerfacecolor=\"#000000\", alpha=1)\n",
    "\n",
    "\n",
    "# This function gets all the stats for the boxplots\n",
    "def get_box_plot_data(bp):\n",
    "    rows_list = []\n",
    "    for i in range(len(colour_names)):\n",
    "        dict1 = {}\n",
    "        dict1[\"label\"] = colour_names[i]\n",
    "        dict1[\"lower_whisker\"] = bp[\"whiskers\"][i * 2].get_ydata()[1]\n",
    "        dict1[\"lower_quartile\"] = bp[\"boxes\"][i].get_ydata()[1]\n",
    "        dict1[\"median\"] = bp[\"medians\"][i].get_ydata()[1]\n",
    "        dict1[\"upper_quartile\"] = bp[\"boxes\"][i].get_ydata()[2]\n",
    "        dict1[\"upper_whisker\"] = bp[\"whiskers\"][(i * 2) + 1].get_ydata()[1]\n",
    "        rows_list.append(dict1)\n",
    "\n",
    "    return pd.DataFrame(rows_list)\n",
    "\n",
    "\n",
    "boxplots = {}\n",
    "for y in range(0, len(colour_names), 1):\n",
    "    cm.figure()  # creates a figure\n",
    "    cm.ticklabel_format(axis=\"y\", style=\"plain\")\n",
    "    boxplots[\"bp{0}\".format(y)] = cm.boxplot(\n",
    "        values[y], patch_artist=True, labels=[colour_names[y]]\n",
    "    )\n",
    "    value_at_index = list(boxplots.values())[y]\n",
    "    setter(value_at_index, colours[y])\n",
    "\n",
    "cm.show()\n",
    "# print(boxplots)\n",
    "# for i in boxplots:\n",
    "#     get_box_plot_data(boxplots[i])"
   ]
  },
  {
   "cell_type": "code",
   "execution_count": null,
   "metadata": {},
   "outputs": [],
   "source": []
  }
 ],
 "metadata": {
  "interpreter": {
   "hash": "b21c45a975a7320c0b0a03f9304758b8484b0483352f2e6ff8719456374621e1"
  },
  "kernelspec": {
   "display_name": "Python 3 (ipykernel)",
   "language": "python",
   "name": "python3"
  },
  "language_info": {
   "codemirror_mode": {
    "name": "ipython",
    "version": 3
   },
   "file_extension": ".py",
   "mimetype": "text/x-python",
   "name": "python",
   "nbconvert_exporter": "python",
   "pygments_lexer": "ipython3",
   "version": "3.7.7"
  }
 },
 "nbformat": 4,
 "nbformat_minor": 4
}
