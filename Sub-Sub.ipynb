{
 "cells": [
  {
   "cell_type": "code",
   "execution_count": 63,
   "id": "e33b7deb-e85e-4857-95df-95c09778d80e",
   "metadata": {
    "execution": {
     "iopub.execute_input": "2022-02-01T03:30:39.464352Z",
     "iopub.status.busy": "2022-02-01T03:30:39.463354Z",
     "iopub.status.idle": "2022-02-01T03:30:39.994940Z",
     "shell.execute_reply": "2022-02-01T03:30:39.994940Z",
     "shell.execute_reply.started": "2022-02-01T03:30:39.464352Z"
    },
    "tags": []
   },
   "outputs": [],
   "source": [
    "# Imports for the Maptek Python SDK and additional libraries.\n",
    "import collections\n",
    "import copy\n",
    "import ctypes\n",
    "import fractions\n",
    "import functools\n",
    "import math\n",
    "import time\n",
    "import timeit\n",
    "import warnings\n",
    "from collections import defaultdict\n",
    "from itertools import compress, islice\n",
    "from operator import itemgetter\n",
    "\n",
    "import matplotlib as mpl\n",
    "import matplotlib.colors as cc\n",
    "\n",
    "# mpl.use('agg')\n",
    "import matplotlib.pyplot as cm\n",
    "import numpy as np\n",
    "import pandas as pd\n",
    "\n",
    "# import rtree\n",
    "import seaborn as sns\n",
    "from mapteksdk.data import (\n",
    "    DenseBlockModel,\n",
    "    GridSurface,\n",
    "    NumericColourMap,\n",
    "    PointSet,\n",
    "    SubblockedBlockModel,\n",
    "    Surface,\n",
    "    Text3D,\n",
    ")\n",
    "from mapteksdk.project import Project\n",
    "from matplotlib.ticker import PercentFormatter\n",
    "from matplotlib.widgets import Button, CheckButtons, RadioButtons\n",
    "from more_itertools import locate, seekable\n",
    "import numba\n",
    "from numba import njit,vectorize, float64\n",
    "from sklearn import metrics\n",
    "from sklearn.metrics import confusion_matrix\n",
    "from tqdm import tqdm_gui\n",
    "from tqdm.notebook import tqdm, trange\n",
    "from trimesh import Trimesh\n",
    "from trimesh.ray import ray_triangle\n",
    "from trimesh.ray.ray_util import contains_points\n",
    "\n",
    "warnings.filterwarnings(\"ignore\", category=DeprecationWarning)\n",
    "\n",
    "cm.rcParams[\"font.family\"] = [\"Source Han Sans TW\", \"monospace\"]\n",
    "cm.rcParams[\"font.size\"] = 14\n",
    "\n",
    "# Connect to the currently running Maptek Project.\n",
    "project = Project()\n",
    "# project.mcp_instance.mcp_dict['PRODUCT_LOCATION_INFO']  # Report out which application it connected to (Optional)"
   ]
  },
  {
   "cell_type": "code",
   "execution_count": 74,
   "id": "babf076b-e808-4e2a-ac70-d4e11f6ac779",
   "metadata": {
    "execution": {
     "iopub.execute_input": "2022-02-01T05:14:28.281253Z",
     "iopub.status.busy": "2022-02-01T05:14:28.281253Z",
     "iopub.status.idle": "2022-02-01T05:14:50.420652Z",
     "shell.execute_reply": "2022-02-01T05:14:50.420652Z",
     "shell.execute_reply.started": "2022-02-01T05:14:28.281253Z"
    },
    "tags": []
   },
   "outputs": [
    {
     "name": "stdout",
     "output_type": "stream",
     "text": [
      "[OID(I246, C0), OID(I250, C0)]\n",
      "Solid-final 14-1-2022 17:39\n",
      "50.0 25.0 55.0\n"
     ]
    },
    {
     "data": {
      "application/vnd.jupyter.widget-view+json": {
       "model_id": "f682ee0257a24dd5aecf95a910424366",
       "version_major": 2,
       "version_minor": 0
      },
      "text/plain": [
       "Progress:   0%|                                                                                               …"
      ]
     },
     "metadata": {},
     "output_type": "display_data"
    },
    {
     "name": "stdout",
     "output_type": "stream",
     "text": [
      "Solid-final-1by4 20-1-2022 12:56\n",
      "50.0 25.0 55.0\n"
     ]
    },
    {
     "data": {
      "application/vnd.jupyter.widget-view+json": {
       "model_id": "3d2fefaeb18f4487bcffe9870d397136",
       "version_major": 2,
       "version_minor": 0
      },
      "text/plain": [
       "Progress:   0%|                                                                                               …"
      ]
     },
     "metadata": {},
     "output_type": "display_data"
    }
   ],
   "source": [
    "# Initialisation\n",
    "selected_model = None\n",
    "selected_var = \"\"\n",
    "colours = \"\"\n",
    "real_colours = []\n",
    "vis = \"\"\n",
    "# ****************Bool swicthes for certain features*****************************************************************\n",
    "vis_compiler = False\n",
    "point_checker = True\n",
    "# ********************************************************************************************************************\n",
    "names = []\n",
    "df = pd.DataFrame()\n",
    "selection = project.get_selected()\n",
    "print((selection))\n",
    "last_opacity = 255\n",
    "\n",
    "# For getting colours and the mapped names used in the model visualisation\n",
    "# np.set_printoptions(formatter={'float': lambda x: \"{0:0.3f}\".format(x)})\n",
    "with project.edit(\"legends/geocod\") as legend:\n",
    "    colours = legend.colours\n",
    "    colour_names = legend.legend\n",
    "    colour_names = [each_string.lower() for each_string in colour_names]\n",
    "# Getting hex values of the colours\n",
    "colours = colours / 255\n",
    "for z in range(0, len(colour_names), 1):\n",
    "    real_colours.append(cc.to_hex(colours[z], keep_alpha=True))\n",
    "\n",
    "# Creating the array for storing data to be retrieved\n",
    "N = len(colour_names)\n",
    "global M\n",
    "M = len(selection)\n",
    "values = [[0 for i in range(M)] for j in range(N)]\n",
    "vis_collection = [0] * M\n",
    "var_collection = [0] * M\n",
    "index_map = [0] * M\n",
    "number_of_parent_blocks = []\n",
    "reverse_grid_index = []\n",
    "extents = [[] for _ in range(M)]\n",
    "# number_of_parent_blocks=[]\n",
    "# i tells you the index of the block_model\n",
    "i = 0\n",
    "j = 0\n",
    "\n",
    "\n",
    "# DATA GETTER\n",
    "\n",
    "for item in selection:\n",
    "    print(item.name)\n",
    "    # Setting outer array back to 0, for new block\n",
    "    j = 0\n",
    "    nn = 0\n",
    "    if item.is_a(DenseBlockModel) or item.is_a(SubblockedBlockModel):\n",
    "        selected_model = item\n",
    "        # Checker for point stuff\n",
    "        if point_checker:\n",
    "            # Getting all block details\n",
    "            with project.edit(selected_model) as bm:\n",
    "\n",
    "                block_sizes = bm.block_sizes\n",
    "                block_centroids = bm.block_centroids\n",
    "\n",
    "                b = bm.block_resolution\n",
    "                x_res = float(b[0])\n",
    "                y_res = float(b[1])\n",
    "                z_res = float(b[2])\n",
    "                print(x_res, y_res, z_res)\n",
    "                x_count = bm.column_count\n",
    "                y_count = bm.row_count\n",
    "                z_count = bm.slice_count\n",
    "\n",
    "                totallength_x_dimension = x_res * x_count\n",
    "                totallength_y_dimension = y_res * y_count\n",
    "                totallength_z_dimension = z_res * z_count\n",
    "\n",
    "                # Creating a reverse grid index\n",
    "                # *************************************************************************************************\n",
    "\n",
    "                # Making keys for reverse_grid_index i.e all unique parent blocks\n",
    "                index_map[i] = bm.block_to_grid_index\n",
    "                parent_block_indexes = np.unique(index_map[i], axis=0)\n",
    "\n",
    "                # Required in caluclation of new_block_centroids ahead\n",
    "                number_of_parent_blocks.append(len(parent_block_indexes))\n",
    "                total_volume_of_block = (\n",
    "                    number_of_parent_blocks[i] * x_res * y_res * z_res\n",
    "                )\n",
    "\n",
    "                # Getting corresponding sub of those parent blocks\n",
    "                parent_block_sub_indexes = []\n",
    "                for parent_block_indexes_crawler in tqdm(\n",
    "                    parent_block_indexes,\n",
    "                    total=len(parent_block_indexes),\n",
    "                    desc=\"Progress\",\n",
    "                    ncols=500,\n",
    "                    ascii=\"**\",\n",
    "                ):\n",
    "                    sub_bool_values = np.all(\n",
    "                        index_map[i] == (parent_block_indexes_crawler), axis=1\n",
    "                    )\n",
    "                    sub_indexes = np.where(sub_bool_values)[0]\n",
    "                    parent_block_sub_indexes.append(sub_indexes)\n",
    "\n",
    "                # Converting the keys to tuples and making the dict of reverse_grid_index\n",
    "                parent_block_indexes = [tuple(x) for x in parent_block_indexes]\n",
    "                reverse_grid_index.append(\n",
    "                    dict(zip(parent_block_indexes, parent_block_sub_indexes))\n",
    "                )\n",
    "                # *************************************************************************************************\n",
    "\n",
    "                # Converting from world coordinates\n",
    "                block_centroids = bm.convert_to_block_coordinates(block_centroids)\n",
    "                block_centroids = block_centroids + 0.5 * np.array(\n",
    "                    [x_res, y_res, z_res]\n",
    "                )\n",
    "                # with project.new(\n",
    "                #     \"point_test_container/block_centroid\", PointSet, overwrite=True\n",
    "                # ) as block_centroid:\n",
    "                #     block_centroid.points = block_centroids\n",
    "                # *************************************************************************************************\n",
    "                # Brute-force method to get extents\n",
    "                # print(\"Calculating block extents\")\n",
    "\n",
    "                for nn, useless_var in enumerate(block_centroids):\n",
    "                    # print(len(extents[0]))\n",
    "                    # print(len(extents[1]))\n",
    "                    extents[i].append(\n",
    "                        (\n",
    "                            [\n",
    "                                (block_centroids[nn] - block_sizes[nn] / 2).tolist(),\n",
    "                                (block_centroids[nn] + block_sizes[nn] / 2).tolist(),\n",
    "                            ]\n",
    "                        )\n",
    "                    )\n",
    "\n",
    "                # *************************************************************************************************\n",
    "                # Checks all attributes of block and then chooses the one with discrete values\n",
    "                a_dict = bm.block_attributes.names\n",
    "                for key in a_dict:\n",
    "                    checker = bm.block_attributes[key]\n",
    "                    if isinstance(checker[0], (str, int)):\n",
    "                        selected_var = checker\n",
    "                        var_collection[i] = selected_var\n",
    "                i = i + 1\n",
    "\n",
    "\n",
    "# Getting \"number of blocks\" and the cooridnates of all those blocks (new_block_centroids)\n",
    "# in the subblock model created for subblock-subblock comparison\n",
    "# ###################################################################################################################\n",
    "x_for_created_subblock = fractions.gcd(50 / 4, 50/4)\n",
    "y_for_created_subblock = fractions.gcd(25 / 4, 25/4)\n",
    "z_for_created_subblock = fractions.gcd(55 / 4, 55/4)\n",
    "number_of_blocks_in_created_subblock_model = (total_volume_of_block) / (\n",
    "    x_for_created_subblock * y_for_created_subblock * z_for_created_subblock\n",
    ")\n",
    "\n",
    "new_subblock_count_x_direction = totallength_x_dimension / x_for_created_subblock\n",
    "new_subblock_count_y_direction = totallength_y_dimension / y_for_created_subblock\n",
    "new_subblock_count_z_direction = totallength_z_dimension / z_for_created_subblock\n",
    "\n",
    "new_x_centroid_coordinate = np.linspace(\n",
    "    x_for_created_subblock / 2,\n",
    "    (new_subblock_count_x_direction * x_for_created_subblock)\n",
    "    + x_for_created_subblock / 2,\n",
    "    int(new_subblock_count_x_direction),\n",
    "    endpoint=False,\n",
    ")\n",
    "\n",
    "new_y_centroid_coordinate = np.linspace(\n",
    "    y_for_created_subblock / 2,\n",
    "    (new_subblock_count_y_direction * y_for_created_subblock)\n",
    "    + y_for_created_subblock / 2,\n",
    "    int(new_subblock_count_y_direction),\n",
    "    endpoint=False,\n",
    ")\n",
    "\n",
    "new_z_centroid_coordinate = np.linspace(\n",
    "    z_for_created_subblock / 2,\n",
    "    (new_subblock_count_z_direction * z_for_created_subblock)\n",
    "    + z_for_created_subblock / 2,\n",
    "    int(new_subblock_count_z_direction),\n",
    "    endpoint=False,\n",
    ")\n",
    "\n",
    "\n",
    "all_new_x_coordinates, all_new_y_coordinates, all_new_z_coordinates = np.meshgrid(\n",
    "    new_x_centroid_coordinate,\n",
    "    new_y_centroid_coordinate,\n",
    "    new_z_centroid_coordinate,\n",
    "    indexing=\"ij\",\n",
    ")\n",
    "\n",
    "new_block_centroids = np.column_stack(\n",
    "    (\n",
    "        all_new_x_coordinates.flatten(),\n",
    "        all_new_y_coordinates.flatten(),\n",
    "        all_new_z_coordinates.flatten(),\n",
    "    )\n",
    ")\n",
    "\n",
    "\n",
    "# ###################################################################################################################"
   ]
  },
  {
   "cell_type": "code",
   "execution_count": 8,
   "id": "f3e9e62f-9fd1-48e7-acef-c385f27ae23f",
   "metadata": {
    "execution": {
     "iopub.execute_input": "2022-02-01T01:39:14.522943Z",
     "iopub.status.busy": "2022-02-01T01:39:14.521945Z",
     "iopub.status.idle": "2022-02-01T01:39:14.600736Z",
     "shell.execute_reply": "2022-02-01T01:39:14.600736Z",
     "shell.execute_reply.started": "2022-02-01T01:39:14.522943Z"
    },
    "tags": []
   },
   "outputs": [],
   "source": [
    "randnums = np.random.randint(1, 100000, 10000000)"
   ]
  },
  {
   "cell_type": "code",
   "execution_count": 58,
   "id": "3db69f25-9563-4dda-a88e-bbe0ed76a9ee",
   "metadata": {
    "execution": {
     "iopub.execute_input": "2022-02-01T03:28:48.484095Z",
     "iopub.status.busy": "2022-02-01T03:28:48.484095Z",
     "iopub.status.idle": "2022-02-01T03:28:48.500051Z",
     "shell.execute_reply": "2022-02-01T03:28:48.500051Z",
     "shell.execute_reply.started": "2022-02-01T03:28:48.484095Z"
    },
    "tags": []
   },
   "outputs": [
    {
     "data": {
      "text/plain": [
       "dtype('bool')"
      ]
     },
     "execution_count": 58,
     "metadata": {},
     "output_type": "execute_result"
    }
   ],
   "source": [
    "sub_bool_values.dtype"
   ]
  },
  {
   "cell_type": "code",
   "execution_count": 72,
   "id": "25c1efa5-b962-4a00-b53b-8afbd20ff7af",
   "metadata": {
    "execution": {
     "iopub.execute_input": "2022-02-01T03:40:19.801553Z",
     "iopub.status.busy": "2022-02-01T03:40:19.801553Z",
     "iopub.status.idle": "2022-02-01T03:40:19.985065Z",
     "shell.execute_reply": "2022-02-01T03:40:19.985065Z",
     "shell.execute_reply.started": "2022-02-01T03:40:19.801553Z"
    },
    "tags": []
   },
   "outputs": [
    {
     "name": "stderr",
     "output_type": "stream",
     "text": [
      "C:\\Users\\JASH~1.VIR\\AppData\\Local\\Temp/ipykernel_16720/430814208.py:1: NumbaWarning: \u001b[1m\n",
      "Compilation is falling back to object mode WITHOUT looplifting enabled because Function \"jalebi\" failed type inference due to: \u001b[1m\u001b[1m\u001b[1mNo implementation of function Function(<function all at 0x000001AA2376E0D8>) found for signature:\n",
      " \n",
      " >>> all(array(bool, 2d, C), axis=Literal[int](1))\n",
      " \n",
      "There are 2 candidate implementations:\n",
      "\u001b[1m  - Of which 2 did not match due to:\n",
      "  Overload in function 'np_all': File: numba\\np\\arraymath.py: Line 856.\n",
      "    With argument(s): '(array(bool, 2d, C), axis=int64)':\u001b[0m\n",
      "\u001b[1m   Rejected as the implementation raised a specific error:\n",
      "     TypingError: \u001b[1mgot an unexpected keyword argument 'axis'\u001b[0m\u001b[0m\n",
      "  raised from C:\\Users\\jash.vira\\AppData\\Roaming\\Python\\Python37\\site-packages\\numba\\core\\typing\\templates.py:791\n",
      "\u001b[0m\n",
      "\u001b[0m\u001b[1mDuring: resolving callee type: Function(<function all at 0x000001AA2376E0D8>)\u001b[0m\n",
      "\u001b[0m\u001b[1mDuring: typing of call at C:\\Users\\JASH~1.VIR\\AppData\\Local\\Temp/ipykernel_16720/430814208.py (3)\n",
      "\u001b[0m\n",
      "\u001b[1m\n",
      "File \"..\\..\\..\\..\\JASH~1.VIR\\AppData\\Local\\Temp\\ipykernel_16720\\430814208.py\", line 3:\u001b[0m\n",
      "\u001b[1m<source missing, REPL/exec in use?>\u001b[0m\n",
      "\u001b[0m\n",
      "  @vectorize([float64(float64)], target=\"parallel\")\n",
      "C:\\Users\\jash.vira\\AppData\\Roaming\\Python\\Python37\\site-packages\\numba\\core\\object_mode_passes.py:152: NumbaWarning: \u001b[1mFunction \"jalebi\" was compiled in object mode without forceobj=True.\n",
      "\u001b[1m\n",
      "File \"..\\..\\..\\..\\JASH~1.VIR\\AppData\\Local\\Temp\\ipykernel_16720\\430814208.py\", line 1:\u001b[0m\n",
      "\u001b[1m<source missing, REPL/exec in use?>\u001b[0m\n",
      "\u001b[0m\n",
      "  state.func_ir.loc))\n",
      "C:\\Users\\jash.vira\\AppData\\Roaming\\Python\\Python37\\site-packages\\numba\\core\\object_mode_passes.py:162: NumbaDeprecationWarning: \u001b[1m\n",
      "Fall-back from the nopython compilation path to the object mode compilation path has been detected, this is deprecated behaviour.\n",
      "\n",
      "For more information visit https://numba.readthedocs.io/en/stable/reference/deprecation.html#deprecation-of-object-mode-fall-back-behaviour-when-using-jit\n",
      "\u001b[1m\n",
      "File \"..\\..\\..\\..\\JASH~1.VIR\\AppData\\Local\\Temp\\ipykernel_16720\\430814208.py\", line 1:\u001b[0m\n",
      "\u001b[1m<source missing, REPL/exec in use?>\u001b[0m\n",
      "\u001b[0m\n",
      "  state.func_ir.loc))\n"
     ]
    },
    {
     "ename": "TypeError",
     "evalue": "data type 'pyobject' not understood",
     "output_type": "error",
     "traceback": [
      "\u001b[1;31m---------------------------------------------------------------------------\u001b[0m",
      "\u001b[1;31mTypeError\u001b[0m                                 Traceback (most recent call last)",
      "\u001b[1;32mC:\\Users\\JASH~1.VIR\\AppData\\Local\\Temp/ipykernel_16720/430814208.py\u001b[0m in \u001b[0;36m<module>\u001b[1;34m\u001b[0m\n\u001b[1;32m----> 1\u001b[1;33m \u001b[1;33m@\u001b[0m\u001b[0mvectorize\u001b[0m\u001b[1;33m(\u001b[0m\u001b[1;33m[\u001b[0m\u001b[0mfloat64\u001b[0m\u001b[1;33m(\u001b[0m\u001b[0mfloat64\u001b[0m\u001b[1;33m)\u001b[0m\u001b[1;33m]\u001b[0m\u001b[1;33m,\u001b[0m \u001b[0mtarget\u001b[0m\u001b[1;33m=\u001b[0m\u001b[1;34m\"parallel\"\u001b[0m\u001b[1;33m)\u001b[0m\u001b[1;33m\u001b[0m\u001b[1;33m\u001b[0m\u001b[0m\n\u001b[0m\u001b[0;32m      2\u001b[0m \u001b[1;32mdef\u001b[0m \u001b[0mjalebi\u001b[0m\u001b[1;33m(\u001b[0m\u001b[0mjj\u001b[0m\u001b[1;33m)\u001b[0m\u001b[1;33m:\u001b[0m\u001b[1;33m\u001b[0m\u001b[1;33m\u001b[0m\u001b[0m\n\u001b[0;32m      3\u001b[0m     \u001b[0msub_bool_values\u001b[0m \u001b[1;33m=\u001b[0m \u001b[0mnp\u001b[0m\u001b[1;33m.\u001b[0m\u001b[0mall\u001b[0m\u001b[1;33m(\u001b[0m\u001b[0mindex_map\u001b[0m\u001b[1;33m[\u001b[0m\u001b[1;36m0\u001b[0m\u001b[1;33m]\u001b[0m \u001b[1;33m==\u001b[0m \u001b[0mjj\u001b[0m\u001b[1;33m,\u001b[0m \u001b[0maxis\u001b[0m\u001b[1;33m=\u001b[0m\u001b[1;36m1\u001b[0m\u001b[1;33m)\u001b[0m\u001b[1;33m\u001b[0m\u001b[1;33m\u001b[0m\u001b[0m\n\u001b[0;32m      4\u001b[0m     \u001b[1;32mreturn\u001b[0m \u001b[0msub_bool_values\u001b[0m\u001b[1;33m\u001b[0m\u001b[1;33m\u001b[0m\u001b[0m\n\u001b[0;32m      5\u001b[0m \u001b[1;33m\u001b[0m\u001b[0m\n",
      "\u001b[1;32m~\\AppData\\Roaming\\Python\\Python37\\site-packages\\numba\\np\\ufunc\\decorators.py\u001b[0m in \u001b[0;36mwrap\u001b[1;34m(func)\u001b[0m\n\u001b[0;32m    126\u001b[0m         \u001b[1;32mif\u001b[0m \u001b[0mlen\u001b[0m\u001b[1;33m(\u001b[0m\u001b[0mftylist\u001b[0m\u001b[1;33m)\u001b[0m \u001b[1;33m>\u001b[0m \u001b[1;36m0\u001b[0m\u001b[1;33m:\u001b[0m\u001b[1;33m\u001b[0m\u001b[1;33m\u001b[0m\u001b[0m\n\u001b[0;32m    127\u001b[0m             \u001b[0mvec\u001b[0m\u001b[1;33m.\u001b[0m\u001b[0mdisable_compile\u001b[0m\u001b[1;33m(\u001b[0m\u001b[1;33m)\u001b[0m\u001b[1;33m\u001b[0m\u001b[1;33m\u001b[0m\u001b[0m\n\u001b[1;32m--> 128\u001b[1;33m         \u001b[1;32mreturn\u001b[0m \u001b[0mvec\u001b[0m\u001b[1;33m.\u001b[0m\u001b[0mbuild_ufunc\u001b[0m\u001b[1;33m(\u001b[0m\u001b[1;33m)\u001b[0m\u001b[1;33m\u001b[0m\u001b[1;33m\u001b[0m\u001b[0m\n\u001b[0m\u001b[0;32m    129\u001b[0m \u001b[1;33m\u001b[0m\u001b[0m\n\u001b[0;32m    130\u001b[0m     \u001b[1;32mreturn\u001b[0m \u001b[0mwrap\u001b[0m\u001b[1;33m\u001b[0m\u001b[1;33m\u001b[0m\u001b[0m\n",
      "\u001b[1;32m~\\AppData\\Roaming\\Python\\Python37\\site-packages\\numba\\np\\ufunc\\ufuncbuilder.py\u001b[0m in \u001b[0;36mbuild_ufunc\u001b[1;34m(self)\u001b[0m\n\u001b[0;32m    281\u001b[0m             \u001b[1;32mfor\u001b[0m \u001b[0msig\u001b[0m \u001b[1;32min\u001b[0m \u001b[0mself\u001b[0m\u001b[1;33m.\u001b[0m\u001b[0m_sigs\u001b[0m\u001b[1;33m:\u001b[0m\u001b[1;33m\u001b[0m\u001b[1;33m\u001b[0m\u001b[0m\n\u001b[0;32m    282\u001b[0m                 \u001b[0mcres\u001b[0m \u001b[1;33m=\u001b[0m \u001b[0mself\u001b[0m\u001b[1;33m.\u001b[0m\u001b[0m_cres\u001b[0m\u001b[1;33m[\u001b[0m\u001b[0msig\u001b[0m\u001b[1;33m]\u001b[0m\u001b[1;33m\u001b[0m\u001b[1;33m\u001b[0m\u001b[0m\n\u001b[1;32m--> 283\u001b[1;33m                 \u001b[0mdtypenums\u001b[0m\u001b[1;33m,\u001b[0m \u001b[0mptr\u001b[0m\u001b[1;33m,\u001b[0m \u001b[0menv\u001b[0m \u001b[1;33m=\u001b[0m \u001b[0mself\u001b[0m\u001b[1;33m.\u001b[0m\u001b[0mbuild\u001b[0m\u001b[1;33m(\u001b[0m\u001b[0mcres\u001b[0m\u001b[1;33m,\u001b[0m \u001b[0msig\u001b[0m\u001b[1;33m)\u001b[0m\u001b[1;33m\u001b[0m\u001b[1;33m\u001b[0m\u001b[0m\n\u001b[0m\u001b[0;32m    284\u001b[0m                 \u001b[0mdtypelist\u001b[0m\u001b[1;33m.\u001b[0m\u001b[0mappend\u001b[0m\u001b[1;33m(\u001b[0m\u001b[0mdtypenums\u001b[0m\u001b[1;33m)\u001b[0m\u001b[1;33m\u001b[0m\u001b[1;33m\u001b[0m\u001b[0m\n\u001b[0;32m    285\u001b[0m                 \u001b[0mptrlist\u001b[0m\u001b[1;33m.\u001b[0m\u001b[0mappend\u001b[0m\u001b[1;33m(\u001b[0m\u001b[0mint\u001b[0m\u001b[1;33m(\u001b[0m\u001b[0mptr\u001b[0m\u001b[1;33m)\u001b[0m\u001b[1;33m)\u001b[0m\u001b[1;33m\u001b[0m\u001b[1;33m\u001b[0m\u001b[0m\n",
      "\u001b[1;32m~\\AppData\\Roaming\\Python\\Python37\\site-packages\\numba\\np\\ufunc\\parallel.py\u001b[0m in \u001b[0;36mbuild\u001b[1;34m(self, cres, sig)\u001b[0m\n\u001b[0;32m    189\u001b[0m         \u001b[1;31m# Get dtypes\u001b[0m\u001b[1;33m\u001b[0m\u001b[1;33m\u001b[0m\u001b[1;33m\u001b[0m\u001b[0m\n\u001b[0;32m    190\u001b[0m         \u001b[0mdtypenums\u001b[0m \u001b[1;33m=\u001b[0m \u001b[1;33m[\u001b[0m\u001b[0mnp\u001b[0m\u001b[1;33m.\u001b[0m\u001b[0mdtype\u001b[0m\u001b[1;33m(\u001b[0m\u001b[0ma\u001b[0m\u001b[1;33m.\u001b[0m\u001b[0mname\u001b[0m\u001b[1;33m)\u001b[0m\u001b[1;33m.\u001b[0m\u001b[0mnum\u001b[0m \u001b[1;32mfor\u001b[0m \u001b[0ma\u001b[0m \u001b[1;32min\u001b[0m \u001b[0msignature\u001b[0m\u001b[1;33m.\u001b[0m\u001b[0margs\u001b[0m\u001b[1;33m]\u001b[0m\u001b[1;33m\u001b[0m\u001b[1;33m\u001b[0m\u001b[0m\n\u001b[1;32m--> 191\u001b[1;33m         \u001b[0mdtypenums\u001b[0m\u001b[1;33m.\u001b[0m\u001b[0mappend\u001b[0m\u001b[1;33m(\u001b[0m\u001b[0mnp\u001b[0m\u001b[1;33m.\u001b[0m\u001b[0mdtype\u001b[0m\u001b[1;33m(\u001b[0m\u001b[0msignature\u001b[0m\u001b[1;33m.\u001b[0m\u001b[0mreturn_type\u001b[0m\u001b[1;33m.\u001b[0m\u001b[0mname\u001b[0m\u001b[1;33m)\u001b[0m\u001b[1;33m.\u001b[0m\u001b[0mnum\u001b[0m\u001b[1;33m)\u001b[0m\u001b[1;33m\u001b[0m\u001b[1;33m\u001b[0m\u001b[0m\n\u001b[0m\u001b[0;32m    192\u001b[0m         \u001b[0mkeepalive\u001b[0m \u001b[1;33m=\u001b[0m \u001b[1;33m(\u001b[0m\u001b[1;33m)\u001b[0m\u001b[1;33m\u001b[0m\u001b[1;33m\u001b[0m\u001b[0m\n\u001b[0;32m    193\u001b[0m         \u001b[1;32mreturn\u001b[0m \u001b[0mdtypenums\u001b[0m\u001b[1;33m,\u001b[0m \u001b[0mptr\u001b[0m\u001b[1;33m,\u001b[0m \u001b[0mkeepalive\u001b[0m\u001b[1;33m\u001b[0m\u001b[1;33m\u001b[0m\u001b[0m\n",
      "\u001b[1;31mTypeError\u001b[0m: data type 'pyobject' not understood"
     ]
    }
   ],
   "source": [
    "@vectorize([float64(float64)], target=\"parallel\")\n",
    "def jalebi(jj):\n",
    "    sub_bool_values = np.all(index_map[0] == jj, axis=1)\n",
    "    return sub_bool_values\n",
    "    \n"
   ]
  },
  {
   "cell_type": "code",
   "execution_count": 73,
   "id": "02e95b39-9833-4226-8fc2-b7c932d689f3",
   "metadata": {
    "execution": {
     "iopub.execute_input": "2022-02-01T03:41:08.572646Z",
     "iopub.status.busy": "2022-02-01T03:41:08.571649Z",
     "iopub.status.idle": "2022-02-01T03:41:08.605558Z",
     "shell.execute_reply": "2022-02-01T03:41:08.605558Z",
     "shell.execute_reply.started": "2022-02-01T03:41:08.572646Z"
    },
    "tags": []
   },
   "outputs": [
    {
     "ename": "TypeError",
     "evalue": "too many arguments: expected 0, got 1",
     "output_type": "error",
     "traceback": [
      "\u001b[1;31m---------------------------------------------------------------------------\u001b[0m",
      "\u001b[1;31mTypeError\u001b[0m                                 Traceback (most recent call last)",
      "\u001b[1;32mC:\\Users\\JASH~1.VIR\\AppData\\Local\\Temp/ipykernel_16720/2202495537.py\u001b[0m in \u001b[0;36m<module>\u001b[1;34m\u001b[0m\n\u001b[0;32m      1\u001b[0m \u001b[0mjj\u001b[0m\u001b[1;33m=\u001b[0m\u001b[1;33m[\u001b[0m\u001b[1;36m13.\u001b[0m\u001b[1;33m,\u001b[0m \u001b[1;33m-\u001b[0m\u001b[1;36m0.\u001b[0m \u001b[1;33m,\u001b[0m\u001b[1;33m-\u001b[0m\u001b[1;36m0.\u001b[0m\u001b[1;33m]\u001b[0m\u001b[1;33m\u001b[0m\u001b[1;33m\u001b[0m\u001b[0m\n\u001b[1;32m----> 2\u001b[1;33m \u001b[0mget_ipython\u001b[0m\u001b[1;33m(\u001b[0m\u001b[1;33m)\u001b[0m\u001b[1;33m.\u001b[0m\u001b[0mrun_line_magic\u001b[0m\u001b[1;33m(\u001b[0m\u001b[1;34m'timeit'\u001b[0m\u001b[1;33m,\u001b[0m \u001b[1;34m'-n 5 jalebi(jj)'\u001b[0m\u001b[1;33m)\u001b[0m\u001b[1;33m\u001b[0m\u001b[1;33m\u001b[0m\u001b[0m\n\u001b[0m\u001b[0;32m      3\u001b[0m \u001b[0msub_indexes\u001b[0m \u001b[1;33m=\u001b[0m \u001b[0mnp\u001b[0m\u001b[1;33m.\u001b[0m\u001b[0mwhere\u001b[0m\u001b[1;33m(\u001b[0m\u001b[0msub_bool_values\u001b[0m\u001b[1;33m)\u001b[0m\u001b[1;33m[\u001b[0m\u001b[1;36m0\u001b[0m\u001b[1;33m]\u001b[0m\u001b[1;33m\u001b[0m\u001b[1;33m\u001b[0m\u001b[0m\n\u001b[0;32m      4\u001b[0m \u001b[1;33m\u001b[0m\u001b[0m\n\u001b[0;32m      5\u001b[0m \u001b[1;33m\u001b[0m\u001b[0m\n",
      "\u001b[1;32mC:\\Program Files\\Maptek\\Extend\\Python 3.7\\lib\\site-packages\\IPython\\core\\interactiveshell.py\u001b[0m in \u001b[0;36mrun_line_magic\u001b[1;34m(self, magic_name, line, _stack_depth)\u001b[0m\n\u001b[0;32m   2349\u001b[0m                 \u001b[0mkwargs\u001b[0m\u001b[1;33m[\u001b[0m\u001b[1;34m'local_ns'\u001b[0m\u001b[1;33m]\u001b[0m \u001b[1;33m=\u001b[0m \u001b[0mself\u001b[0m\u001b[1;33m.\u001b[0m\u001b[0mget_local_scope\u001b[0m\u001b[1;33m(\u001b[0m\u001b[0mstack_depth\u001b[0m\u001b[1;33m)\u001b[0m\u001b[1;33m\u001b[0m\u001b[1;33m\u001b[0m\u001b[0m\n\u001b[0;32m   2350\u001b[0m             \u001b[1;32mwith\u001b[0m \u001b[0mself\u001b[0m\u001b[1;33m.\u001b[0m\u001b[0mbuiltin_trap\u001b[0m\u001b[1;33m:\u001b[0m\u001b[1;33m\u001b[0m\u001b[1;33m\u001b[0m\u001b[0m\n\u001b[1;32m-> 2351\u001b[1;33m                 \u001b[0mresult\u001b[0m \u001b[1;33m=\u001b[0m \u001b[0mfn\u001b[0m\u001b[1;33m(\u001b[0m\u001b[1;33m*\u001b[0m\u001b[0margs\u001b[0m\u001b[1;33m,\u001b[0m \u001b[1;33m**\u001b[0m\u001b[0mkwargs\u001b[0m\u001b[1;33m)\u001b[0m\u001b[1;33m\u001b[0m\u001b[1;33m\u001b[0m\u001b[0m\n\u001b[0m\u001b[0;32m   2352\u001b[0m             \u001b[1;32mreturn\u001b[0m \u001b[0mresult\u001b[0m\u001b[1;33m\u001b[0m\u001b[1;33m\u001b[0m\u001b[0m\n\u001b[0;32m   2353\u001b[0m \u001b[1;33m\u001b[0m\u001b[0m\n",
      "\u001b[1;32mC:\\Program Files\\Maptek\\Extend\\Python 3.7\\lib\\site-packages\\decorator.py\u001b[0m in \u001b[0;36mfun\u001b[1;34m(*args, **kw)\u001b[0m\n\u001b[0;32m    230\u001b[0m             \u001b[1;32mif\u001b[0m \u001b[1;32mnot\u001b[0m \u001b[0mkwsyntax\u001b[0m\u001b[1;33m:\u001b[0m\u001b[1;33m\u001b[0m\u001b[1;33m\u001b[0m\u001b[0m\n\u001b[0;32m    231\u001b[0m                 \u001b[0margs\u001b[0m\u001b[1;33m,\u001b[0m \u001b[0mkw\u001b[0m \u001b[1;33m=\u001b[0m \u001b[0mfix\u001b[0m\u001b[1;33m(\u001b[0m\u001b[0margs\u001b[0m\u001b[1;33m,\u001b[0m \u001b[0mkw\u001b[0m\u001b[1;33m,\u001b[0m \u001b[0msig\u001b[0m\u001b[1;33m)\u001b[0m\u001b[1;33m\u001b[0m\u001b[1;33m\u001b[0m\u001b[0m\n\u001b[1;32m--> 232\u001b[1;33m             \u001b[1;32mreturn\u001b[0m \u001b[0mcaller\u001b[0m\u001b[1;33m(\u001b[0m\u001b[0mfunc\u001b[0m\u001b[1;33m,\u001b[0m \u001b[1;33m*\u001b[0m\u001b[1;33m(\u001b[0m\u001b[0mextras\u001b[0m \u001b[1;33m+\u001b[0m \u001b[0margs\u001b[0m\u001b[1;33m)\u001b[0m\u001b[1;33m,\u001b[0m \u001b[1;33m**\u001b[0m\u001b[0mkw\u001b[0m\u001b[1;33m)\u001b[0m\u001b[1;33m\u001b[0m\u001b[1;33m\u001b[0m\u001b[0m\n\u001b[0m\u001b[0;32m    233\u001b[0m     \u001b[0mfun\u001b[0m\u001b[1;33m.\u001b[0m\u001b[0m__name__\u001b[0m \u001b[1;33m=\u001b[0m \u001b[0mfunc\u001b[0m\u001b[1;33m.\u001b[0m\u001b[0m__name__\u001b[0m\u001b[1;33m\u001b[0m\u001b[1;33m\u001b[0m\u001b[0m\n\u001b[0;32m    234\u001b[0m     \u001b[0mfun\u001b[0m\u001b[1;33m.\u001b[0m\u001b[0m__doc__\u001b[0m \u001b[1;33m=\u001b[0m \u001b[0mfunc\u001b[0m\u001b[1;33m.\u001b[0m\u001b[0m__doc__\u001b[0m\u001b[1;33m\u001b[0m\u001b[1;33m\u001b[0m\u001b[0m\n",
      "\u001b[1;32mC:\\Program Files\\Maptek\\Extend\\Python 3.7\\lib\\site-packages\\IPython\\core\\magic.py\u001b[0m in \u001b[0;36m<lambda>\u001b[1;34m(f, *a, **k)\u001b[0m\n\u001b[0;32m    185\u001b[0m     \u001b[1;31m# but it's overkill for just that one bit of state.\u001b[0m\u001b[1;33m\u001b[0m\u001b[1;33m\u001b[0m\u001b[1;33m\u001b[0m\u001b[0m\n\u001b[0;32m    186\u001b[0m     \u001b[1;32mdef\u001b[0m \u001b[0mmagic_deco\u001b[0m\u001b[1;33m(\u001b[0m\u001b[0marg\u001b[0m\u001b[1;33m)\u001b[0m\u001b[1;33m:\u001b[0m\u001b[1;33m\u001b[0m\u001b[1;33m\u001b[0m\u001b[0m\n\u001b[1;32m--> 187\u001b[1;33m         \u001b[0mcall\u001b[0m \u001b[1;33m=\u001b[0m \u001b[1;32mlambda\u001b[0m \u001b[0mf\u001b[0m\u001b[1;33m,\u001b[0m \u001b[1;33m*\u001b[0m\u001b[0ma\u001b[0m\u001b[1;33m,\u001b[0m \u001b[1;33m**\u001b[0m\u001b[0mk\u001b[0m\u001b[1;33m:\u001b[0m \u001b[0mf\u001b[0m\u001b[1;33m(\u001b[0m\u001b[1;33m*\u001b[0m\u001b[0ma\u001b[0m\u001b[1;33m,\u001b[0m \u001b[1;33m**\u001b[0m\u001b[0mk\u001b[0m\u001b[1;33m)\u001b[0m\u001b[1;33m\u001b[0m\u001b[1;33m\u001b[0m\u001b[0m\n\u001b[0m\u001b[0;32m    188\u001b[0m \u001b[1;33m\u001b[0m\u001b[0m\n\u001b[0;32m    189\u001b[0m         \u001b[1;32mif\u001b[0m \u001b[0mcallable\u001b[0m\u001b[1;33m(\u001b[0m\u001b[0marg\u001b[0m\u001b[1;33m)\u001b[0m\u001b[1;33m:\u001b[0m\u001b[1;33m\u001b[0m\u001b[1;33m\u001b[0m\u001b[0m\n",
      "\u001b[1;32mC:\\Program Files\\Maptek\\Extend\\Python 3.7\\lib\\site-packages\\IPython\\core\\magics\\execution.py\u001b[0m in \u001b[0;36mtimeit\u001b[1;34m(self, line, cell, local_ns)\u001b[0m\n\u001b[0;32m   1171\u001b[0m                     \u001b[1;32mbreak\u001b[0m\u001b[1;33m\u001b[0m\u001b[1;33m\u001b[0m\u001b[0m\n\u001b[0;32m   1172\u001b[0m \u001b[1;33m\u001b[0m\u001b[0m\n\u001b[1;32m-> 1173\u001b[1;33m         \u001b[0mall_runs\u001b[0m \u001b[1;33m=\u001b[0m \u001b[0mtimer\u001b[0m\u001b[1;33m.\u001b[0m\u001b[0mrepeat\u001b[0m\u001b[1;33m(\u001b[0m\u001b[0mrepeat\u001b[0m\u001b[1;33m,\u001b[0m \u001b[0mnumber\u001b[0m\u001b[1;33m)\u001b[0m\u001b[1;33m\u001b[0m\u001b[1;33m\u001b[0m\u001b[0m\n\u001b[0m\u001b[0;32m   1174\u001b[0m         \u001b[0mbest\u001b[0m \u001b[1;33m=\u001b[0m \u001b[0mmin\u001b[0m\u001b[1;33m(\u001b[0m\u001b[0mall_runs\u001b[0m\u001b[1;33m)\u001b[0m \u001b[1;33m/\u001b[0m \u001b[0mnumber\u001b[0m\u001b[1;33m\u001b[0m\u001b[1;33m\u001b[0m\u001b[0m\n\u001b[0;32m   1175\u001b[0m         \u001b[0mworst\u001b[0m \u001b[1;33m=\u001b[0m \u001b[0mmax\u001b[0m\u001b[1;33m(\u001b[0m\u001b[0mall_runs\u001b[0m\u001b[1;33m)\u001b[0m \u001b[1;33m/\u001b[0m \u001b[0mnumber\u001b[0m\u001b[1;33m\u001b[0m\u001b[1;33m\u001b[0m\u001b[0m\n",
      "\u001b[1;32mC:\\Program Files\\Maptek\\Extend\\Python 3.7\\lib\\timeit.py\u001b[0m in \u001b[0;36mrepeat\u001b[1;34m(self, repeat, number)\u001b[0m\n\u001b[0;32m    202\u001b[0m         \u001b[0mr\u001b[0m \u001b[1;33m=\u001b[0m \u001b[1;33m[\u001b[0m\u001b[1;33m]\u001b[0m\u001b[1;33m\u001b[0m\u001b[1;33m\u001b[0m\u001b[0m\n\u001b[0;32m    203\u001b[0m         \u001b[1;32mfor\u001b[0m \u001b[0mi\u001b[0m \u001b[1;32min\u001b[0m \u001b[0mrange\u001b[0m\u001b[1;33m(\u001b[0m\u001b[0mrepeat\u001b[0m\u001b[1;33m)\u001b[0m\u001b[1;33m:\u001b[0m\u001b[1;33m\u001b[0m\u001b[1;33m\u001b[0m\u001b[0m\n\u001b[1;32m--> 204\u001b[1;33m             \u001b[0mt\u001b[0m \u001b[1;33m=\u001b[0m \u001b[0mself\u001b[0m\u001b[1;33m.\u001b[0m\u001b[0mtimeit\u001b[0m\u001b[1;33m(\u001b[0m\u001b[0mnumber\u001b[0m\u001b[1;33m)\u001b[0m\u001b[1;33m\u001b[0m\u001b[1;33m\u001b[0m\u001b[0m\n\u001b[0m\u001b[0;32m    205\u001b[0m             \u001b[0mr\u001b[0m\u001b[1;33m.\u001b[0m\u001b[0mappend\u001b[0m\u001b[1;33m(\u001b[0m\u001b[0mt\u001b[0m\u001b[1;33m)\u001b[0m\u001b[1;33m\u001b[0m\u001b[1;33m\u001b[0m\u001b[0m\n\u001b[0;32m    206\u001b[0m         \u001b[1;32mreturn\u001b[0m \u001b[0mr\u001b[0m\u001b[1;33m\u001b[0m\u001b[1;33m\u001b[0m\u001b[0m\n",
      "\u001b[1;32mC:\\Program Files\\Maptek\\Extend\\Python 3.7\\lib\\site-packages\\IPython\\core\\magics\\execution.py\u001b[0m in \u001b[0;36mtimeit\u001b[1;34m(self, number)\u001b[0m\n\u001b[0;32m    167\u001b[0m         \u001b[0mgc\u001b[0m\u001b[1;33m.\u001b[0m\u001b[0mdisable\u001b[0m\u001b[1;33m(\u001b[0m\u001b[1;33m)\u001b[0m\u001b[1;33m\u001b[0m\u001b[1;33m\u001b[0m\u001b[0m\n\u001b[0;32m    168\u001b[0m         \u001b[1;32mtry\u001b[0m\u001b[1;33m:\u001b[0m\u001b[1;33m\u001b[0m\u001b[1;33m\u001b[0m\u001b[0m\n\u001b[1;32m--> 169\u001b[1;33m             \u001b[0mtiming\u001b[0m \u001b[1;33m=\u001b[0m \u001b[0mself\u001b[0m\u001b[1;33m.\u001b[0m\u001b[0minner\u001b[0m\u001b[1;33m(\u001b[0m\u001b[0mit\u001b[0m\u001b[1;33m,\u001b[0m \u001b[0mself\u001b[0m\u001b[1;33m.\u001b[0m\u001b[0mtimer\u001b[0m\u001b[1;33m)\u001b[0m\u001b[1;33m\u001b[0m\u001b[1;33m\u001b[0m\u001b[0m\n\u001b[0m\u001b[0;32m    170\u001b[0m         \u001b[1;32mfinally\u001b[0m\u001b[1;33m:\u001b[0m\u001b[1;33m\u001b[0m\u001b[1;33m\u001b[0m\u001b[0m\n\u001b[0;32m    171\u001b[0m             \u001b[1;32mif\u001b[0m \u001b[0mgcold\u001b[0m\u001b[1;33m:\u001b[0m\u001b[1;33m\u001b[0m\u001b[1;33m\u001b[0m\u001b[0m\n",
      "\u001b[1;32m<magic-timeit>\u001b[0m in \u001b[0;36minner\u001b[1;34m(_it, _timer)\u001b[0m\n",
      "\u001b[1;31mTypeError\u001b[0m: too many arguments: expected 0, got 1"
     ]
    }
   ],
   "source": [
    "jj=[13., -0. ,-0.]\n",
    "%timeit -n 5 jalebi(jj)\n",
    "sub_indexes = np.where(sub_bool_values)[0]\n",
    "\n",
    "\n"
   ]
  },
  {
   "cell_type": "code",
   "execution_count": 37,
   "id": "4e2a7256-df4e-4e9c-b148-fb8b896b18a0",
   "metadata": {
    "execution": {
     "iopub.execute_input": "2022-02-01T01:45:36.980873Z",
     "iopub.status.busy": "2022-02-01T01:45:36.980873Z",
     "iopub.status.idle": "2022-02-01T01:45:36.990845Z",
     "shell.execute_reply": "2022-02-01T01:45:36.990845Z",
     "shell.execute_reply.started": "2022-02-01T01:45:36.980873Z"
    }
   },
   "outputs": [],
   "source": [
    "jalebi_jit = jit(nopython=True)(jalebi)"
   ]
  },
  {
   "cell_type": "code",
   "execution_count": 84,
   "id": "11e04c61-df6f-4c41-9a45-eba43837939f",
   "metadata": {
    "execution": {
     "iopub.execute_input": "2022-02-01T06:22:52.233333Z",
     "iopub.status.busy": "2022-02-01T06:22:52.232365Z",
     "iopub.status.idle": "2022-02-01T06:22:52.246326Z",
     "shell.execute_reply": "2022-02-01T06:22:52.246326Z",
     "shell.execute_reply.started": "2022-02-01T06:22:52.233333Z"
    },
    "tags": []
   },
   "outputs": [
    {
     "name": "stdout",
     "output_type": "stream",
     "text": [
      "7.105427357601002e-15\n",
      "0.0\n"
     ]
    }
   ],
   "source": [
    "a=fractions.gcd(37.4,55/4)\n",
    "print(a)\n",
    "print(round(a,5))"
   ]
  },
  {
   "cell_type": "code",
   "execution_count": 75,
   "id": "ba643df3-500e-4769-be5c-a622c8c85533",
   "metadata": {
    "execution": {
     "iopub.execute_input": "2022-02-01T05:15:18.790012Z",
     "iopub.status.busy": "2022-02-01T05:15:18.790012Z",
     "iopub.status.idle": "2022-02-01T05:15:18.813948Z",
     "shell.execute_reply": "2022-02-01T05:15:18.813948Z",
     "shell.execute_reply.started": "2022-02-01T05:15:18.790012Z"
    },
    "tags": []
   },
   "outputs": [
    {
     "ename": "NameError",
     "evalue": "name 'solidfilter' is not defined",
     "output_type": "error",
     "traceback": [
      "\u001b[1;31m---------------------------------------------------------------------------\u001b[0m",
      "\u001b[1;31mNameError\u001b[0m                                 Traceback (most recent call last)",
      "\u001b[1;32mC:\\Users\\JASH~1.VIR\\AppData\\Local\\Temp/ipykernel_16720/3473506787.py\u001b[0m in \u001b[0;36m<module>\u001b[1;34m\u001b[0m\n\u001b[0;32m      1\u001b[0m \u001b[0mblock_model_index\u001b[0m \u001b[1;33m=\u001b[0m \u001b[1;36m0\u001b[0m\u001b[1;33m\u001b[0m\u001b[1;33m\u001b[0m\u001b[0m\n\u001b[0;32m      2\u001b[0m \u001b[0mnew_block_centroids_collection\u001b[0m \u001b[1;33m=\u001b[0m \u001b[1;33m[\u001b[0m\u001b[1;33m]\u001b[0m\u001b[1;33m\u001b[0m\u001b[1;33m\u001b[0m\u001b[0m\n\u001b[1;32m----> 3\u001b[1;33m \u001b[1;32mif\u001b[0m \u001b[0msolidfilter\u001b[0m \u001b[1;33m==\u001b[0m \u001b[1;34m\"Yes\"\u001b[0m\u001b[1;33m:\u001b[0m\u001b[1;33m\u001b[0m\u001b[1;33m\u001b[0m\u001b[0m\n\u001b[0m\u001b[0;32m      4\u001b[0m     \u001b[1;32mfor\u001b[0m \u001b[0mblock_model_index\u001b[0m \u001b[1;32min\u001b[0m \u001b[0menumerate\u001b[0m\u001b[1;33m(\u001b[0m\u001b[0mselection\u001b[0m\u001b[1;33m)\u001b[0m\u001b[1;33m:\u001b[0m\u001b[1;33m\u001b[0m\u001b[1;33m\u001b[0m\u001b[0m\n\u001b[0;32m      5\u001b[0m         \u001b[0mprint\u001b[0m\u001b[1;33m(\u001b[0m\u001b[1;34m\"Doing solid filtering, this may take a couple minutes\"\u001b[0m\u001b[1;33m)\u001b[0m\u001b[1;33m\u001b[0m\u001b[1;33m\u001b[0m\u001b[0m\n",
      "\u001b[1;31mNameError\u001b[0m: name 'solidfilter' is not defined"
     ]
    }
   ],
   "source": [
    "block_model_index = 0\n",
    "new_block_centroids_collection = []\n",
    "if solidfilter == \"Yes\":\n",
    "    for block_model_index in enumerate(selection):\n",
    "        print(\"Doing solid filtering, this may take a couple minutes\")\n",
    "        with project.read(solid_location) as solid:\n",
    "            facets = solid.facets\n",
    "            facet_points = solid.points\n",
    "\n",
    "            x_Resolution = x_res\n",
    "            y_Resolution = y_res\n",
    "            z_Resolution = z_res\n",
    "            print(x_Resolution)\n",
    "        with project.edit(selected_model) as bm:\n",
    "            facet_points = bm.convert_to_block_coordinates(facet_points)\n",
    "            facet_points = facet_points + 0.5 * \\\n",
    "                np.array([x_Resolution,  y_Resolution, z_Resolution])\n",
    "\n",
    "        mesh = Trimesh(facet_points, facets, validate=True, use_embree=False)\n",
    "        ray = ray_triangle.RayMeshIntersector(mesh)\n",
    "        blocks_inside_solid = np.where(\n",
    "            contains_points(ray, new_block_centroids))[0]\n",
    "        blocks_inside_solid = new_block_centroids[blocks_inside_solid]\n",
    "\n",
    "        new_block_centroids = (blocks_inside_solid)\n",
    "        new_block_centroids_collection.append(new_block_centroids)\n",
    "    print(1 * \"\\n\")\n",
    "    print(\"Number of new centroids that will be compared after solid restriction: \" +\n",
    "          str(len(new_block_centroids)))\n",
    "    print(1 * \"\\n\")"
   ]
  },
  {
   "cell_type": "code",
   "execution_count": null,
   "id": "a19f25bf-f106-4361-b4e8-45ca92cd4191",
   "metadata": {
    "execution": {
     "iopub.status.busy": "2022-01-30T23:24:30.961642Z",
     "iopub.status.idle": "2022-01-30T23:24:30.961642Z",
     "shell.execute_reply": "2022-01-30T23:24:30.961642Z",
     "shell.execute_reply.started": "2022-01-30T23:24:30.961642Z"
    },
    "tags": []
   },
   "outputs": [],
   "source": [
    "print(\"Number of new centroids that will be compared: \" + str(len(new_block_centroids)))"
   ]
  },
  {
   "cell_type": "code",
   "execution_count": null,
   "id": "effef828-f29c-4b23-8631-cdb9647f6e01",
   "metadata": {
    "execution": {
     "iopub.status.busy": "2022-01-30T23:24:30.962615Z",
     "iopub.status.idle": "2022-01-30T23:24:30.962615Z",
     "shell.execute_reply": "2022-01-30T23:24:30.962615Z",
     "shell.execute_reply.started": "2022-01-30T23:24:30.962615Z"
    },
    "tags": []
   },
   "outputs": [],
   "source": [
    "# SUB-BLOCK TO SUB-BLOCK COMPARISON\n",
    "created_centroid_pos_in_orignal_block = [[] for _ in range(M)]\n",
    "domains_of_created_block_centroids = [[] for _ in range(M)]\n",
    "lengths_of_subblock_indices_for_orignal_block = [[] for _ in range(M)]\n",
    "subblock_not_in_limits = []\n",
    "subblock_exists_for_orignal_block = 0\n",
    "outside_count_created_block = 0\n",
    "string_not_found = 0\n",
    "check = 0\n",
    "outside_indices_created_block = []\n",
    "\n",
    "for block_model_index, item in enumerate(selection):\n",
    "\n",
    "    selected_model = item\n",
    "    print(item.name)\n",
    "    if item.is_a(DenseBlockModel) or item.is_a(SubblockedBlockModel):\n",
    "        with project.edit(selected_model) as bm:\n",
    "            for created_block_crawler, created_block_value in tqdm(\n",
    "                enumerate(new_block_centroids),\n",
    "                total=len(new_block_centroids),\n",
    "                desc=\"Progress\",\n",
    "                ncols=500,\n",
    "                ascii=\"**\",\n",
    "            ):\n",
    "                index_x_of_created_centroid = math.floor(created_block_value[0] / x_res)\n",
    "                index_y_of_created_centroid = math.floor(created_block_value[1] / y_res)\n",
    "                index_z_of_created_centroid = math.floor(created_block_value[2] / z_res)\n",
    "\n",
    "                subblock_indices_for_orignal_block = reverse_grid_index[\n",
    "                    block_model_index\n",
    "                ].get(\n",
    "                    (\n",
    "                        index_x_of_created_centroid,\n",
    "                        index_y_of_created_centroid,\n",
    "                        index_z_of_created_centroid,\n",
    "                    )\n",
    "                )\n",
    "\n",
    "                if (subblock_indices_for_orignal_block) is not None:\n",
    "                    subblock_exists_for_orignal_block += 1\n",
    "                    for subblock_crawler in subblock_indices_for_orignal_block:\n",
    "                        check += 1\n",
    "                        if (\n",
    "                            (\n",
    "                                extents[block_model_index][subblock_crawler][0][0]\n",
    "                                <= created_block_value[0]\n",
    "                                <= extents[block_model_index][subblock_crawler][1][0]\n",
    "                            )\n",
    "                            and (\n",
    "                                extents[block_model_index][subblock_crawler][0][1]\n",
    "                                <= created_block_value[1]\n",
    "                                <= extents[block_model_index][subblock_crawler][1][1]\n",
    "                            )\n",
    "                            and (\n",
    "                                extents[block_model_index][subblock_crawler][0][2]\n",
    "                                <= created_block_value[2]\n",
    "                                <= extents[block_model_index][subblock_crawler][1][2]\n",
    "                            )\n",
    "                        ):\n",
    "\n",
    "                            created_centroid_pos_in_orignal_block[\n",
    "                                block_model_index\n",
    "                            ].append(subblock_crawler)\n",
    "\n",
    "                            domains_of_created_block_centroids[\n",
    "                                block_model_index\n",
    "                            ].append(\n",
    "                                var_collection[block_model_index][subblock_crawler]\n",
    "                            )\n",
    "                            break\n",
    "                else:\n",
    "                    subblock_not_in_limits.append(created_block_crawler)\n",
    "\n",
    "subblock_not_in_limits = list(set(subblock_not_in_limits))"
   ]
  },
  {
   "cell_type": "code",
   "execution_count": null,
   "id": "7a1b920b-89e1-4709-9374-a7e095d73abe",
   "metadata": {
    "execution": {
     "iopub.status.busy": "2022-01-30T23:24:30.963612Z",
     "iopub.status.idle": "2022-01-30T23:24:30.963612Z",
     "shell.execute_reply": "2022-01-30T23:24:30.963612Z",
     "shell.execute_reply.started": "2022-01-30T23:24:30.963612Z"
    },
    "tags": []
   },
   "outputs": [],
   "source": [
    "print(\"Number of blocks not in limits: \" + str(len(subblock_not_in_limits)))"
   ]
  },
  {
   "cell_type": "code",
   "execution_count": null,
   "id": "3619e028-0e37-4c4c-b1a7-37e35363c47b",
   "metadata": {
    "execution": {
     "iopub.status.busy": "2022-01-30T23:24:30.964609Z",
     "iopub.status.idle": "2022-01-30T23:24:30.964609Z",
     "shell.execute_reply": "2022-01-30T23:24:30.964609Z",
     "shell.execute_reply.started": "2022-01-30T23:24:30.964609Z"
    },
    "tags": []
   },
   "outputs": [],
   "source": [
    "df3 = pd.DataFrame()\n",
    "gandu0 = list(domains_of_created_block_centroids[0])\n",
    "gandu1 = list(domains_of_created_block_centroids[1])\n",
    "\n",
    "# Feature to display first N elemnts only on confusion matrix\n",
    "N = 5\n",
    "sub0_domains_not_needed, sub0_domain_counts = np.unique(gandu0, return_counts=True)\n",
    "sub0_values = np.sort(np.asarray((sub0_domains_not_needed, sub0_domain_counts)).T)\n",
    "count_sort_ind = np.argsort(-sub0_domain_counts)\n",
    "sub0_domains_not_needed = list(sub0_domains_not_needed[count_sort_ind[N:]])\n",
    "\n",
    "sub1_domains_not_needed, sub1_domain_counts = np.unique(gandu1, return_counts=True)\n",
    "sub1_values = np.sort(np.asarray((sub1_domains_not_needed, sub1_domain_counts)).T)\n",
    "count_sort_ind = np.argsort(-sub1_domain_counts)\n",
    "sub1_domains_not_needed = list(sub1_domains_not_needed[count_sort_ind[N:]])\n",
    "\n",
    "df3[\"sub0_edited\"] = pd.Series(gandu0)\n",
    "df3[\"sub0_edited\"] = df3[\"sub0_edited\"].replace(sub0_domains_not_needed, \"others\")\n",
    "df3[\"sub1_edited\"] = pd.Series(gandu1)\n",
    "df3[\"sub1_edited\"] = df3[\"sub1_edited\"].replace(sub1_domains_not_needed, \"others\")\n",
    "\n",
    "\n",
    "point_confusion_matrix_for_sub = pd.crosstab(\n",
    "    df3[\"sub0_edited\"], df3[\"sub1_edited\"], rownames=[\"Sub0\"], colnames=[\"Sub1\"]\n",
    ")\n",
    "point_confusion_matrix_for_sub = pd.DataFrame(point_confusion_matrix_for_sub)\n",
    "\n",
    "mt = cm.figure(0)\n",
    "gn = sns.heatmap(\n",
    "    (point_confusion_matrix_for_sub) / (np.sum(point_confusion_matrix_for_sub)),\n",
    "    cbar_kws={},\n",
    "    annot=True,\n",
    "    fmt=\".2%\",\n",
    "    cmap=\"rocket_r\",\n",
    "    cbar=False,\n",
    ")\n",
    "\n",
    "cm.show()"
   ]
  },
  {
   "cell_type": "code",
   "execution_count": null,
   "id": "8aef4d58-59ff-44a2-9295-4be915fc7269",
   "metadata": {
    "execution": {
     "iopub.status.busy": "2022-01-30T23:24:30.965607Z",
     "iopub.status.idle": "2022-01-30T23:24:30.966605Z",
     "shell.execute_reply": "2022-01-30T23:24:30.965607Z",
     "shell.execute_reply.started": "2022-01-30T23:24:30.965607Z"
    },
    "tags": []
   },
   "outputs": [],
   "source": [
    "# CONFUSION MATRIX FOR SUB TO SUB COMPARISON\n",
    "\n",
    "df3[\"sub0\"] = pd.Series(gandu0)\n",
    "df3[\"sub1\"] = pd.Series(gandu1)\n",
    "\n",
    "point_confusion_matrix_for_sub = pd.crosstab(\n",
    "    df3[\"sub0\"], df3[\"sub1\"], rownames=[\"Sub0\"], colnames=[\"Sub1\"]\n",
    ")\n",
    "point_confusion_matrix_for_sub = pd.DataFrame(point_confusion_matrix_for_sub)\n",
    "\n",
    "mt = cm.figure(0)\n",
    "gn = sns.heatmap(\n",
    "    (point_confusion_matrix_for_sub) / (np.sum(point_confusion_matrix_for_sub)),\n",
    "    cbar_kws={},\n",
    "    annot=True,\n",
    "    fmt=\".2%\",\n",
    "    cmap=\"rocket_r\",\n",
    "    cbar=False,\n",
    "    xticklabels=True,\n",
    "    yticklabels=True,\n",
    ")\n",
    "\n",
    "# cm.show()\n",
    "mt.set_size_inches(22, 22)\n",
    "mt.savefig(\"Entire_Matrix.png\", dpi=100)\n",
    "# Uncomment the lines below to generate a report.\n",
    "# print(\n",
    "#     metrics.classification_report(\n",
    "#         df[\"Points Domain\"], df[\"Block Domains\"], labels=colour_names, zero_division=1\n",
    "#     )\n",
    "# # )"
   ]
  },
  {
   "cell_type": "code",
   "execution_count": null,
   "id": "6fb8e42b-d589-4518-b383-a8a516a605f4",
   "metadata": {
    "execution": {
     "iopub.status.busy": "2022-01-30T23:24:30.966605Z",
     "iopub.status.idle": "2022-01-30T23:24:30.966605Z",
     "shell.execute_reply": "2022-01-30T23:24:30.966605Z",
     "shell.execute_reply.started": "2022-01-30T23:24:30.966605Z"
    },
    "tags": []
   },
   "outputs": [],
   "source": [
    "points_that_match = []\n",
    "points_that_dont_match = []\n",
    "for points_index, (x, y) in enumerate(zip(gandu0, gandu1)):\n",
    "    if x == y:\n",
    "        points_that_match.append(points_index)\n",
    "    else:\n",
    "        points_that_dont_match.append(points_index)\n",
    "\n",
    "\n",
    "print(\n",
    "    \"Percenatge of space matching: \"\n",
    "    + str(100 * len(points_that_match) / len(gandu0))\n",
    "    + \" %\"\n",
    ")\n",
    "print(\n",
    "    \"Percenatge of space not matching: \"\n",
    "    + str(100 * len(points_that_dont_match) / len(gandu0))\n",
    "    + \" %\"\n",
    ")"
   ]
  },
  {
   "cell_type": "code",
   "execution_count": null,
   "id": "301a1055-1f16-4265-a946-e4c57a1d99b5",
   "metadata": {
    "execution": {
     "iopub.status.busy": "2022-01-30T23:24:30.967602Z",
     "iopub.status.idle": "2022-01-30T23:24:30.967602Z",
     "shell.execute_reply": "2022-01-30T23:24:30.967602Z",
     "shell.execute_reply.started": "2022-01-30T23:24:30.967602Z"
    },
    "tags": []
   },
   "outputs": [],
   "source": [
    "print(\"Sub0:\")\n",
    "print(df3[\"sub0\"].value_counts())\n",
    "\n",
    "\n",
    "print(1 * \"\\n\")\n",
    "print(\"Sub1:\")\n",
    "print(df3[\"sub1\"].value_counts())"
   ]
  },
  {
   "cell_type": "code",
   "execution_count": null,
   "id": "727a8c98-1281-42a5-817d-3a765ca54179",
   "metadata": {},
   "outputs": [],
   "source": []
  }
 ],
 "metadata": {
  "kernelspec": {
   "display_name": "Python 3 (ipykernel)",
   "language": "python",
   "name": "python3"
  },
  "language_info": {
   "codemirror_mode": {
    "name": "ipython",
    "version": 3
   },
   "file_extension": ".py",
   "mimetype": "text/x-python",
   "name": "python",
   "nbconvert_exporter": "python",
   "pygments_lexer": "ipython3",
   "version": "3.7.7"
  }
 },
 "nbformat": 4,
 "nbformat_minor": 5
}
